{
 "cells": [
  {
   "cell_type": "code",
   "execution_count": 3,
   "metadata": {},
   "outputs": [
    {
     "name": "stdout",
     "output_type": "stream",
     "text": [
      "何月？2\n",
      "何日？4\n",
      "何日後？360\n",
      "1月30日\n"
     ]
    }
   ],
   "source": [
    "#練習1-10　＃配列\n",
    "\n",
    "daymonth=[31,28,31,30,31,30,31,31,30,31,30,31]\n",
    "m = int(input(\"何月？\"))\n",
    "d = int(input(\"何日？\"))\n",
    "after = int(input(\"何日後？\"))\n",
    "remain = d + after\n",
    "\n",
    "while remain > daymonth[m%12-1]:\n",
    "    remain = remain - daymonth[m%12-1]\n",
    "    m = m+1 #m+=1\n",
    "\n",
    "print(str(m%12) + \"月\" + str(remain) + \"日\")"
   ]
  },
  {
   "cell_type": "code",
   "execution_count": null,
   "metadata": {},
   "outputs": [],
   "source": []
  }
 ],
 "metadata": {
  "kernelspec": {
   "display_name": "Python 3",
   "language": "python",
   "name": "python3"
  },
  "language_info": {
   "codemirror_mode": {
    "name": "ipython",
    "version": 3
   },
   "file_extension": ".py",
   "mimetype": "text/x-python",
   "name": "python",
   "nbconvert_exporter": "python",
   "pygments_lexer": "ipython3",
   "version": "3.8.3"
  }
 },
 "nbformat": 4,
 "nbformat_minor": 4
}
