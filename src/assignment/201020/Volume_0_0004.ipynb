{
 "cells": [
  {
   "cell_type": "code",
   "execution_count": 5,
   "metadata": {},
   "outputs": [
    {
     "data": {
      "application/vnd.jupyter.widget-view+json": {
       "model_id": "7090f2c5d646441887c7242e95badd2f",
       "version_major": 2,
       "version_minor": 0
      },
      "text/plain": [
       "Textarea(value='')"
      ]
     },
     "metadata": {},
     "output_type": "display_data"
    }
   ],
   "source": [
    "run multi_input"
   ]
  },
  {
   "cell_type": "code",
   "execution_count": 7,
   "metadata": {},
   "outputs": [
    {
     "name": "stdout",
     "output_type": "stream",
     "text": [
      "-1.000 2.000\n",
      "1.000 4.000\n"
     ]
    }
   ],
   "source": [
    "from decimal import Decimal, ROUND_HALF_UP  #四捨五入するためにライブラリーを使用\n",
    "\n",
    "while True:\n",
    "    try:\n",
    "        a,b,c,d,e,f = map(float,input().split())\n",
    "        x = (c*e-b*f)/(a*e-b*d) +0.0\n",
    "        y = (c*d-a*f)/(b*d-a*e) +0.0 #行列式で連立方程式を解いた結果、xとyをfloatにする\n",
    "        print(Decimal(str(x)).quantize(Decimal('0.001'), rounding = ROUND_HALF_UP),Decimal(str(y)).quantize(Decimal('0.001'), rounding = ROUND_HALF_UP)) #四捨五入　\n",
    "    except:\n",
    "        break"
   ]
  },
  {
   "cell_type": "code",
   "execution_count": null,
   "metadata": {},
   "outputs": [],
   "source": []
  }
 ],
 "metadata": {
  "kernelspec": {
   "display_name": "Python 3",
   "language": "python",
   "name": "python3"
  },
  "language_info": {
   "codemirror_mode": {
    "name": "ipython",
    "version": 3
   },
   "file_extension": ".py",
   "mimetype": "text/x-python",
   "name": "python",
   "nbconvert_exporter": "python",
   "pygments_lexer": "ipython3",
   "version": "3.8.3"
  }
 },
 "nbformat": 4,
 "nbformat_minor": 4
}
