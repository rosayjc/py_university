{
 "cells": [
  {
   "cell_type": "code",
   "execution_count": 2,
   "metadata": {},
   "outputs": [
    {
     "name": "stdout",
     "output_type": "stream",
     "text": [
      "109\n",
      "103\n",
      "24\n",
      "24\n",
      "26\n",
      "27\n",
      "225\n",
      "116\n",
      "62\n",
      "111\n",
      "230\n",
      "1972\n",
      "508\n",
      "1004\n",
      "20\n",
      "7\n"
     ]
    }
   ],
   "source": [
    "#Tax Rate Changed\n",
    "while True:\n",
    "    x,y,s = map(int,input().split())\n",
    "    if  x==0 and y==0 and s==0:\n",
    "        break\n",
    "        \n",
    "    else:\n",
    "        maxp=0\n",
    "        for i in range(1,s):\n",
    "            for j in range(1,s):\n",
    "                if i*(100+x)//100 + j*(100+x)//100 ==s:\n",
    "                    if i*(100+y)//100 + j*(100+y)//100 > maxp:\n",
    "                        maxp = i*(100+y)//100 + j*(100+y)//100\n",
    "    print(maxp)"
   ]
  },
  {
   "cell_type": "code",
   "execution_count": 1,
   "metadata": {
    "scrolled": true
   },
   "outputs": [
    {
     "data": {
      "application/vnd.jupyter.widget-view+json": {
       "model_id": "85422a7408a444c2ad25eb0023d3892f",
       "version_major": 2,
       "version_minor": 0
      },
      "text/plain": [
       "Textarea(value='')"
      ]
     },
     "metadata": {},
     "output_type": "display_data"
    }
   ],
   "source": [
    "run multi_input"
   ]
  },
  {
   "cell_type": "code",
   "execution_count": 5,
   "metadata": {},
   "outputs": [
    {
     "name": "stdout",
     "output_type": "stream",
     "text": [
      "60\n",
      "13\n",
      "0\n",
      "1000000\n",
      "0\n",
      "20\n"
     ]
    }
   ],
   "source": [
    "#Country Road\n",
    "\n",
    "t = int(input())\n",
    "for i in range(t):\n",
    "    n,k = map(int,input().split())\n",
    "    x = list(map(int,input().split()))\n",
    "    Dis = [x[j]-x[j-1] for j in range (1,n)]\n",
    "    Dis.sort()\n",
    "    Dis.reverse()\n",
    "    print(sum(Dis[k-1:]))"
   ]
  },
  {
   "cell_type": "code",
   "execution_count": null,
   "metadata": {},
   "outputs": [],
   "source": []
  }
 ],
 "metadata": {
  "kernelspec": {
   "display_name": "Python 3",
   "language": "python",
   "name": "python3"
  },
  "language_info": {
   "codemirror_mode": {
    "name": "ipython",
    "version": 3
   },
   "file_extension": ".py",
   "mimetype": "text/x-python",
   "name": "python",
   "nbconvert_exporter": "python",
   "pygments_lexer": "ipython3",
   "version": "3.8.3"
  }
 },
 "nbformat": 4,
 "nbformat_minor": 4
}
