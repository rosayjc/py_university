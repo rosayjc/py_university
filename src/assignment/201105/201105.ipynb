{
 "cells": [
  {
   "cell_type": "code",
   "execution_count": 4,
   "metadata": {},
   "outputs": [
    {
     "name": "stdout",
     "output_type": "stream",
     "text": [
      "3\n",
      "disk 1 from A to B\n",
      "disk 2 from A to C\n",
      "disk 1 from B to C\n",
      "disk 3 from A to B\n",
      "disk 1 from C to A\n",
      "disk 2 from C to B\n",
      "disk 1 from A to B\n"
     ]
    }
   ],
   "source": [
    "#練習2-4 Tower of Hanoi\n",
    "\n",
    "def hanoi(n,start,goal,another):\n",
    "\n",
    "    if n==1:\n",
    "        print(\"disk \" + str(n) + \" from \" + start + \" to \" + goal)\n",
    "\n",
    "    else:\n",
    "        hanoi(n-1,start,another,goal)\n",
    "        print(\"disk \" + str(n) + \" from \" + start + \" to \" + goal )\n",
    "        hanoi(n-1,another,goal,start)\n",
    "    return\n",
    "\n",
    "n = int(input())\n",
    "hanoi(n,\"A\",\"B\",\"C\")"
   ]
  },
  {
   "cell_type": "code",
   "execution_count": null,
   "metadata": {},
   "outputs": [],
   "source": []
  }
 ],
 "metadata": {
  "kernelspec": {
   "display_name": "Python 3",
   "language": "python",
   "name": "python3"
  },
  "language_info": {
   "codemirror_mode": {
    "name": "ipython",
    "version": 3
   },
   "file_extension": ".py",
   "mimetype": "text/x-python",
   "name": "python",
   "nbconvert_exporter": "python",
   "pygments_lexer": "ipython3",
   "version": "3.8.3"
  }
 },
 "nbformat": 4,
 "nbformat_minor": 4
}
