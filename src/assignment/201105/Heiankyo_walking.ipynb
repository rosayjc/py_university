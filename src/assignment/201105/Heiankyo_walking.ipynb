{
 "cells": [
  {
   "cell_type": "code",
   "execution_count": 1,
   "metadata": {},
   "outputs": [
    {
     "data": {
      "application/vnd.jupyter.widget-view+json": {
       "model_id": "08bd072609224ec58f44f414973baa94",
       "version_major": 2,
       "version_minor": 0
      },
      "text/plain": [
       "Textarea(value='')"
      ]
     },
     "metadata": {},
     "output_type": "display_data"
    }
   ],
   "source": [
    "run multi_input"
   ]
  },
  {
   "cell_type": "code",
   "execution_count": 16,
   "metadata": {},
   "outputs": [
    {
     "name": "stdout",
     "output_type": "stream",
     "text": [
      "6\n",
      "Miserable Hokusai!\n",
      "5\n",
      "155117520\n"
     ]
    }
   ],
   "source": [
    "N = int(input())\n",
    "for k in range(N):\n",
    "    gx,gy = map(int,input().split())\n",
    "    T = [[0 for i in range(gy+1)]for j in range(gx+1)]\n",
    "    left = [[0 for i in range(gy+1)]for j in range(gx+1)]\n",
    "    upper = [[0 for i in range(gy+1)]for j in range(gx+1)]\n",
    "    p = int(input())\n",
    "    \n",
    "    for i in range(p):\n",
    "        x1,y1,x2,y2 = map(int,input().split())\n",
    "        if x1 == x2:\n",
    "            upper[x1][max(y1,y2)]=1\n",
    "        if y1 == y2:\n",
    "            left[max(x1,x2)][y1]=1\n",
    "            \n",
    "    for i in range(gx+1):\n",
    "        for j in range(gy+1):\n",
    "            if i == 0 and j == 0:\n",
    "                T[i][j] = 1\n",
    "            else:\n",
    "                if upper[i][j] == 1 and left[i][j] == 1:\n",
    "                    T[i][j] = 0\n",
    "                if upper[i][j] == 1 and left[i][j] == 0:\n",
    "                    T[i][j] = T[i-1][j]\n",
    "                if upper[i][j] == 0 and left[i][j] == 1:\n",
    "                    T[i][j] = T[i][j-1]\n",
    "                if upper[i][j] == 0 and left[i][j] == 0:\n",
    "                    T[i][j] = T[i-1][j] + T[i][j-1]\n",
    "\n",
    "    if T[gx][gy] == 0:\n",
    "        print(\"Miserable Hokusai!\")\n",
    "    else:\n",
    "        print(T[gx][gy])"
   ]
  },
  {
   "cell_type": "code",
   "execution_count": null,
   "metadata": {},
   "outputs": [],
   "source": []
  }
 ],
 "metadata": {
  "kernelspec": {
   "display_name": "Python 3",
   "language": "python",
   "name": "python3"
  },
  "language_info": {
   "codemirror_mode": {
    "name": "ipython",
    "version": 3
   },
   "file_extension": ".py",
   "mimetype": "text/x-python",
   "name": "python",
   "nbconvert_exporter": "python",
   "pygments_lexer": "ipython3",
   "version": "3.8.3"
  }
 },
 "nbformat": 4,
 "nbformat_minor": 4
}
