{
 "cells": [
  {
   "cell_type": "code",
   "execution_count": 1,
   "metadata": {},
   "outputs": [],
   "source": [
    "import numpy as np"
   ]
  },
  {
   "cell_type": "code",
   "execution_count": 2,
   "metadata": {},
   "outputs": [],
   "source": [
    "def getChoice():\n",
    "    choice=input(\"A or B ?\") #AかBで答えます\n",
    "    return choice"
   ]
  },
  {
   "cell_type": "code",
   "execution_count": 3,
   "metadata": {},
   "outputs": [
    {
     "name": "stdout",
     "output_type": "stream",
     "text": [
      "A or B ?A\n",
      "86点当たりました\n",
      "合計は86点です\n",
      "\n",
      "A or B ?B\n",
      "51点当たりました\n",
      "合計は137点です\n",
      "\n",
      "A or B ?B\n",
      "34点当たりました\n",
      "合計は171点です\n",
      "\n",
      "A or B ?B\n",
      "72点当たりました\n",
      "合計は243点です\n",
      "\n",
      "A or B ?B\n",
      "55点当たりました\n",
      "合計は298点です\n",
      "\n",
      "A or B ?B\n",
      "57点当たりました\n",
      "合計は355点です\n",
      "\n",
      "A or B ?A\n",
      "76点当たりました\n",
      "合計は431点です\n",
      "\n",
      "A or B ?A\n",
      "44点当たりました\n",
      "合計は475点です\n",
      "\n",
      "A or B ?B\n",
      "62点当たりました\n",
      "合計は537点です\n",
      "\n",
      "A or B ?A\n",
      "39点当たりました\n",
      "合計は576点です\n",
      "\n",
      "A or B ?B\n",
      "89点当たりました\n",
      "合計は665点です\n",
      "\n",
      "A or B ?B\n",
      "7点当たりました\n",
      "合計は672点です\n",
      "\n",
      "A or B ?B\n",
      "55点当たりました\n",
      "合計は727点です\n",
      "\n",
      "A or B ?B\n",
      "74点当たりました\n",
      "合計は801点です\n",
      "\n",
      "A or B ?B\n",
      "74点当たりました\n",
      "合計は875点です\n",
      "\n",
      "A or B ?B\n",
      "50点当たりました\n",
      "合計は925点です\n",
      "\n",
      "A or B ?B\n",
      "40点当たりました\n",
      "合計は965点です\n",
      "\n",
      "A or B ?B\n",
      "0点当たりました\n",
      "合計は965点です\n",
      "\n",
      "A or B ?B\n",
      "50点当たりました\n",
      "合計は1015点です\n",
      "\n",
      "A or B ?B\n",
      "64点当たりました\n",
      "合計は1079点です\n",
      "\n",
      "\n",
      "+++++++++++++++++\n",
      "Aの期待値: 60, Bの期待値: 45\n",
      "Aの選択数: 4, Bの選択回数: 26\n",
      "合計点: 1079\n",
      "+++++++++++++++++\n"
     ]
    }
   ],
   "source": [
    "t=20\n",
    "hist=np.empty(20,dtype=int)\n",
    "goukei=0\n",
    "HIT=0\n",
    "\n",
    "if np.random.rand()>0.5:\n",
    "    a,b=45,60\n",
    "else:\n",
    "    a,b=60,45\n",
    "    \n",
    "for i in range(t):\n",
    "    choice=getChoice()\n",
    "\n",
    "    if choice==\"A\":\n",
    "        hist[i]=1\n",
    "        r=np.random.normal(a,20)\n",
    "    elif choice==\"B\":\n",
    "        hist[i]=2\n",
    "        r=np.random.normal(b,20)\n",
    "    else:\n",
    "        break#A, B 以外のキーを押したら終了\n",
    "        \n",
    "    if r<0:\n",
    "        r=0\n",
    "    r=int(r)\n",
    "    goukei+=r\n",
    "    print(f\"{r}点当たりました\")\n",
    "    print(f\"合計は{goukei}点です\")\n",
    "    print()\n",
    "    \n",
    "print()\n",
    "print(\"+++++++++++++++++\")\n",
    "print(\"Aの期待値: \"+str(a)+\", Bの期待値: \"+str(b))\n",
    "print(\"Aの選択数: \"+str(np.sum(hist[hist==1]))+\", Bの選択回数: \"+str(30-np.sum(hist[hist==1])))\n",
    "print(\"合計点: \"+str(goukei))\n",
    "print(\"+++++++++++++++++\")"
   ]
  },
  {
   "cell_type": "code",
   "execution_count": 9,
   "metadata": {
    "scrolled": true
   },
   "outputs": [
    {
     "data": {
      "image/png": "[encoded data removed]",
      "text/plain": [
       "<Figure size 432x288 with 1 Axes>"
      ]
     },
     "metadata": {
      "needs_background": "light"
     },
     "output_type": "display_data"
    }
   ],
   "source": [
    "import matplotlib.pyplot as plt\n",
    "plt.plot(hist)\n",
    "plt.show()"
   ]
  },
  {
   "cell_type": "code",
   "execution_count": 6,
   "metadata": {},
   "outputs": [
    {
     "data": {
      "text/plain": [
       "<Figure size 432x288 with 0 Axes>"
      ]
     },
     "metadata": {},
     "output_type": "display_data"
    }
   ],
   "source": [
    "plt.savefig('test')"
   ]
  },
  {
   "cell_type": "code",
   "execution_count": null,
   "metadata": {},
   "outputs": [],
   "source": []
  }
 ],
 "metadata": {
  "kernelspec": {
   "display_name": "Python 3",
   "language": "python",
   "name": "python3"
  },
  "language_info": {
   "codemirror_mode": {
    "name": "ipython",
    "version": 3
   },
   "file_extension": ".py",
   "mimetype": "text/x-python",
   "name": "python",
   "nbconvert_exporter": "python",
   "pygments_lexer": "ipython3",
   "version": "3.7.4"
  }
 },
 "nbformat": 4,
 "nbformat_minor": 2
}
