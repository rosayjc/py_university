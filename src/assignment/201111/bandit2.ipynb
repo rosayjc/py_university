{
 "cells": [
  {
   "cell_type": "code",
   "execution_count": 1,
   "metadata": {},
   "outputs": [],
   "source": [
    "import numpy as np"
   ]
  },
  {
   "cell_type": "markdown",
   "metadata": {},
   "source": [
    "ぐりーでぃ"
   ]
  },
  {
   "cell_type": "code",
   "execution_count": null,
   "metadata": {},
   "outputs": [],
   "source": [
    "def getChoice(V):\n",
    "    if V[0]-V[1]>0:\n",
    "        choice=\"A\"\n",
    "    elif V[0]-V[1]<0:\n",
    "        choice=\"B\"\n",
    "    else: #価値が等しいときはランダム\n",
    "        if np.random.rand()>0.5:\n",
    "            choice=\"A\"\n",
    "        else:\n",
    "            choice=\"B\"\n",
    "    return choice #choiceを返す"
   ]
  },
  {
   "cell_type": "markdown",
   "metadata": {},
   "source": [
    "εグリーディの場合のgetChoice()"
   ]
  },
  {
   "cell_type": "code",
   "execution_count": 10,
   "metadata": {},
   "outputs": [],
   "source": [
    "def getChoice(V,e):\n",
    "    if V[0]-V[1]>0:\n",
    "        if np.random.rand()<e:\n",
    "            choice=\"B\"\n",
    "        else:\n",
    "            choice=\"A\"\n",
    "    elif V[0]-V[1]<0:\n",
    "        if np.random.rand()<e:\n",
    "            choice=\"A\"\n",
    "        else:\n",
    "            choice=\"B\"\n",
    "    else: #価値が等しいときはランダム\n",
    "        if np.random.rand()>0.5:\n",
    "            choice=\"A\"\n",
    "        else:\n",
    "            choice=\"B\"\n",
    "    return choice #choiceを返す"
   ]
  },
  {
   "cell_type": "markdown",
   "metadata": {},
   "source": [
    "softmaxの場合のgetChoice()"
   ]
  },
  {
   "cell_type": "code",
   "execution_count": 2,
   "metadata": {},
   "outputs": [],
   "source": [
    "def getChoice(V,beta):\n",
    "    P=softmax(V,beta)\n",
    "    if np.random.rand()<P[0]:\n",
    "        choice=\"A\"\n",
    "    else:\n",
    "        choice=\"B\"\n",
    "    return choice #choiceを返す"
   ]
  },
  {
   "cell_type": "code",
   "execution_count": 3,
   "metadata": {},
   "outputs": [],
   "source": [
    "def softmax(V,beta): #引数はnumpy配列Vとbeta\n",
    "    V=V/np.max(V) #最大値で割っておく。やらなくてもいいけど。\n",
    "    P=np.exp(beta*V)/np.sum(np.exp(beta*V))#softmaxの式そのまま\n",
    "    return P #それぞれの選択肢の選択確率の入った配列\n"
   ]
  },
  {
   "cell_type": "markdown",
   "metadata": {},
   "source": [
    "強化学習エージェント"
   ]
  },
  {
   "cell_type": "code",
   "execution_count": 4,
   "metadata": {},
   "outputs": [],
   "source": [
    "def RLagent(V,R,hist,alpha):\n",
    "    Vnxt=np.zeros(2)\n",
    "    if hist==1: #前回Aが選ばれた場合はAの価値を更新\n",
    "        Vnxt[0]=V[0]+alpha*(R-V[0])\n",
    "        Vnxt[1]=V[1]\n",
    "    else: \n",
    "        Vnxt[1]=V[1]+alpha*(R-V[1])\n",
    "        Vnxt[0]=V[0]\n",
    "    return Vnxt #新しい価値を返す"
   ]
  },
  {
   "cell_type": "markdown",
   "metadata": {},
   "source": [
    "メインのてつづき"
   ]
  },
  {
   "cell_type": "code",
   "execution_count": 11,
   "metadata": {
    "scrolled": true
   },
   "outputs": [
    {
     "name": "stdout",
     "output_type": "stream",
     "text": [
      "15点当たりました\n",
      "合計は15点です\n",
      "\n",
      "66点当たりました\n",
      "合計は81点です\n",
      "\n",
      "55点当たりました\n",
      "合計は136点です\n",
      "\n",
      "56点当たりました\n",
      "合計は192点です\n",
      "\n",
      "78点当たりました\n",
      "合計は270点です\n",
      "\n",
      "31点当たりました\n",
      "合計は301点です\n",
      "\n",
      "54点当たりました\n",
      "合計は355点です\n",
      "\n",
      "71点当たりました\n",
      "合計は426点です\n",
      "\n",
      "86点当たりました\n",
      "合計は512点です\n",
      "\n",
      "40点当たりました\n",
      "合計は552点です\n",
      "\n",
      "75点当たりました\n",
      "合計は627点です\n",
      "\n",
      "47点当たりました\n",
      "合計は674点です\n",
      "\n",
      "45点当たりました\n",
      "合計は719点です\n",
      "\n",
      "56点当たりました\n",
      "合計は775点です\n",
      "\n",
      "60点当たりました\n",
      "合計は835点です\n",
      "\n",
      "60点当たりました\n",
      "合計は895点です\n",
      "\n",
      "85点当たりました\n",
      "合計は980点です\n",
      "\n",
      "83点当たりました\n",
      "合計は1063点です\n",
      "\n",
      "82点当たりました\n",
      "合計は1145点です\n",
      "\n",
      "47点当たりました\n",
      "合計は1192点です\n",
      "\n",
      "\n",
      "+++++++++++++++++\n",
      "Aの期待値: 45, Bの期待値: 60\n",
      "Aの選択数: 6, Bの選択回数: 24\n",
      "合計点: 1192\n",
      "+++++++++++++++++\n"
     ]
    }
   ],
   "source": [
    "t=20\n",
    "hist=np.zeros(20,dtype=int)\n",
    "goukei=0\n",
    "\n",
    "#必要な変数を追加\n",
    "V=np.zeros((21,2))\n",
    "V[0,:]=30,30 #予測の初期値、0のままでもいい\n",
    "alpha=0.3\n",
    "\n",
    "\n",
    "if np.random.rand()>0.5:\n",
    "    a,b=45,60\n",
    "else:\n",
    "    a,b=60,45\n",
    "    \n",
    "for i in range(t):\n",
    "    choice=getChoice(V[i,:],0.1)\n",
    "\n",
    "    if choice==\"A\":\n",
    "        hist[i]=1\n",
    "        r=np.random.normal(a,20)\n",
    "    elif choice==\"B\":\n",
    "        hist[i]=2\n",
    "        r=np.random.normal(b,20)\n",
    "    else:\n",
    "        break#A, B 以外のキーを押したら終了\n",
    "        \n",
    "    if r<0:\n",
    "        r=0\n",
    "    r=int(r)\n",
    "    goukei+=r\n",
    "    print(f\"{r}点当たりました\")\n",
    "    print(f\"合計は{goukei}点です\")\n",
    "    print()\n",
    "    V[i+1,:]=RLagent(V[i,:],r,hist[i],alpha)# 次のトライアルに行く前に学習\n",
    "    \n",
    "print()\n",
    "print(\"+++++++++++++++++\")\n",
    "print(\"Aの期待値: \"+str(a)+\", Bの期待値: \"+str(b))\n",
    "print(\"Aの選択数: \"+str(np.sum(hist[hist==1]))+\", Bの選択回数: \"+str(30-np.sum(hist[hist==1])))\n",
    "print(\"合計点: \"+str(goukei))\n",
    "print(\"+++++++++++++++++\")"
   ]
  },
  {
   "cell_type": "code",
   "execution_count": 15,
   "metadata": {},
   "outputs": [
    {
     "data": {
      "text/plain": [
       "array([1, 2, 1, 2, 2, 2, 2, 2, 2, 2, 2, 1, 1, 1, 2, 2, 2, 2, 2, 1])"
      ]
     },
     "execution_count": 15,
     "metadata": {},
     "output_type": "execute_result"
    }
   ],
   "source": [
    "hist"
   ]
  },
  {
   "cell_type": "code",
   "execution_count": 11,
   "metadata": {},
   "outputs": [
    {
     "data": {
      "text/plain": [
       "array([[30.        , 30.        ],\n",
       "       [30.        , 44.1       ],\n",
       "       [30.        , 55.17      ],\n",
       "       [41.1       , 55.17      ],\n",
       "       [41.1       , 42.819     ],\n",
       "       [40.47      , 42.819     ],\n",
       "       [41.829     , 42.819     ],\n",
       "       [41.829     , 57.5733    ],\n",
       "       [40.3803    , 57.5733    ],\n",
       "       [40.3803    , 67.90131   ],\n",
       "       [40.3803    , 62.230917  ],\n",
       "       [44.76621   , 62.230917  ],\n",
       "       [44.76621   , 61.8616419 ],\n",
       "       [42.736347  , 61.8616419 ],\n",
       "       [42.736347  , 66.40314933],\n",
       "       [47.6154429 , 66.40314933],\n",
       "       [39.63081003, 66.40314933],\n",
       "       [39.63081003, 67.18220453],\n",
       "       [32.84156702, 67.18220453],\n",
       "       [37.68909691, 67.18220453],\n",
       "       [28.48236784, 67.18220453]])"
      ]
     },
     "execution_count": 11,
     "metadata": {},
     "output_type": "execute_result"
    }
   ],
   "source": [
    "V"
   ]
  },
  {
   "cell_type": "code",
   "execution_count": 13,
   "metadata": {},
   "outputs": [
    {
     "data": {
      "image/png": "[encoded data removed]",
      "text/plain": [
       "<Figure size 432x288 with 1 Axes>"
      ]
     },
     "metadata": {
      "needs_background": "light"
     },
     "output_type": "display_data"
    }
   ],
   "source": [
    "import matplotlib.pyplot as plt #インポート\n",
    "\n",
    "plt.plot(V)\n",
    "plt.ylabel(\"Value\",fontsize=16)\n",
    "plt.xlabel(\"Trials\",fontsize=16)\n",
    "plt.title(\"learning curve\")\n",
    "plt.show()"
   ]
  },
  {
   "cell_type": "code",
   "execution_count": 14,
   "metadata": {},
   "outputs": [
    {
     "data": {
      "image/png": "[encoded data removed]",
      "text/plain": [
       "<Figure size 432x288 with 1 Axes>"
      ]
     },
     "metadata": {
      "needs_background": "light"
     },
     "output_type": "display_data"
    }
   ],
   "source": [
    "plt.plot(hist)\n",
    "plt.ylabel(\"choice\")\n",
    "plt.xlabel(\"Trials\")\n",
    "plt.title(\"choice history\")\n",
    "plt.show()"
   ]
  },
  {
   "cell_type": "code",
   "execution_count": 9,
   "metadata": {},
   "outputs": [
    {
     "data": {
      "image/png": "[encoded data removed]",
      "text/plain": [
       "<Figure size 432x288 with 1 Axes>"
      ]
     },
     "metadata": {
      "needs_background": "light"
     },
     "output_type": "display_data"
    }
   ],
   "source": [
    "plt.plot(V)\n",
    "plt.show()"
   ]
  },
  {
   "cell_type": "code",
   "execution_count": null,
   "metadata": {},
   "outputs": [],
   "source": []
  }
 ],
 "metadata": {
  "kernelspec": {
   "display_name": "Python 3",
   "language": "python",
   "name": "python3"
  },
  "language_info": {
   "codemirror_mode": {
    "name": "ipython",
    "version": 3
   },
   "file_extension": ".py",
   "mimetype": "text/x-python",
   "name": "python",
   "nbconvert_exporter": "python",
   "pygments_lexer": "ipython3",
   "version": "3.8.3"
  }
 },
 "nbformat": 4,
 "nbformat_minor": 2
}
