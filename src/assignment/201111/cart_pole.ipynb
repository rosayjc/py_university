{
 "cells": [
  {
   "cell_type": "code",
   "execution_count": 5,
   "metadata": {
    "id": "JrvtSfBnw42E"
   },
   "outputs": [
    {
     "name": "stdout",
     "output_type": "stream",
     "text": [
      "Requirement already satisfied: gym in c:\\programdata\\anaconda3\\lib\\site-packages (0.17.2)\n",
      "Requirement already satisfied: cloudpickle<1.4.0,>=1.2.0 in c:\\programdata\\anaconda3\\lib\\site-packages (from gym) (1.2.2)\n",
      "Requirement already satisfied: scipy in c:\\users\\haruaki fukuda\\appdata\\roaming\\python\\python37\\site-packages (from gym) (1.4.1)\n",
      "Requirement already satisfied: numpy>=1.10.4 in c:\\programdata\\anaconda3\\lib\\site-packages (from gym) (1.16.5)\n",
      "Requirement already satisfied: pyglet<=1.5.0,>=1.4.0 in c:\\programdata\\anaconda3\\lib\\site-packages (from gym) (1.5.0)\n",
      "Requirement already satisfied: future in c:\\programdata\\anaconda3\\lib\\site-packages (from pyglet<=1.5.0,>=1.4.0->gym) (0.17.1)\n",
      "Note: you may need to restart the kernel to use updated packages.\n"
     ]
    }
   ],
   "source": [
    "pip install gym #最初だけ　環境のインストールです。"
   ]
  },
  {
   "cell_type": "code",
   "execution_count": 1,
   "metadata": {
    "id": "OD1bxv6Ow7pP"
   },
   "outputs": [],
   "source": [
    "#必要なライブラリを読み込む\n",
    "import numpy as np\n",
    "import matplotlib.pyplot as plt\n",
    "import gym"
   ]
  },
  {
   "cell_type": "code",
   "execution_count": 12,
   "metadata": {
    "colab": {
     "base_uri": "https://localhost:8080/",
     "height": 1000
    },
    "executionInfo": {
     "elapsed": 9295,
     "status": "ok",
     "timestamp": 1603720291333,
     "user": {
      "displayName": "福田玄明",
      "photoUrl": "",
      "userId": "08302524542388123381"
     },
     "user_tz": -540
    },
    "id": "GqJC6czTxpyT",
    "outputId": "ebb7a492-6a22-435f-81ed-bb9b359b1058"
   },
   "outputs": [
    {
     "name": "stdout",
     "output_type": "stream",
     "text": [
      "27 timestep後に倒れた\n",
      "18 timestep後に倒れた\n",
      "22 timestep後に倒れた\n",
      "41 timestep後に倒れた\n",
      "39 timestep後に倒れた\n",
      "87 timestep後に倒れた\n",
      "26 timestep後に倒れた\n",
      "16 timestep後に倒れた\n",
      "12 timestep後に倒れた\n",
      "16 timestep後に倒れた\n",
      "25 timestep後に倒れた\n",
      "12 timestep後に倒れた\n",
      "12 timestep後に倒れた\n",
      "33 timestep後に倒れた\n",
      "24 timestep後に倒れた\n",
      "13 timestep後に倒れた\n",
      "16 timestep後に倒れた\n",
      "21 timestep後に倒れた\n",
      "24 timestep後に倒れた\n",
      "12 timestep後に倒れた\n",
      "38 timestep後に倒れた\n",
      "75 timestep後に倒れた\n",
      "11 timestep後に倒れた\n",
      "26 timestep後に倒れた\n",
      "23 timestep後に倒れた\n",
      "13 timestep後に倒れた\n",
      "13 timestep後に倒れた\n",
      "31 timestep後に倒れた\n",
      "16 timestep後に倒れた\n",
      "36 timestep後に倒れた\n",
      "14 timestep後に倒れた\n",
      "19 timestep後に倒れた\n",
      "25 timestep後に倒れた\n",
      "14 timestep後に倒れた\n",
      "19 timestep後に倒れた\n",
      "16 timestep後に倒れた\n",
      "39 timestep後に倒れた\n",
      "37 timestep後に倒れた\n",
      "13 timestep後に倒れた\n",
      "11 timestep後に倒れた\n",
      "11 timestep後に倒れた\n",
      "13 timestep後に倒れた\n",
      "13 timestep後に倒れた\n",
      "13 timestep後に倒れた\n",
      "20 timestep後に倒れた\n",
      "23 timestep後に倒れた\n",
      "24 timestep後に倒れた\n",
      "16 timestep後に倒れた\n",
      "29 timestep後に倒れた\n",
      "16 timestep後に倒れた\n",
      "18 timestep後に倒れた\n",
      "18 timestep後に倒れた\n",
      "15 timestep後に倒れた\n",
      "9 timestep後に倒れた\n",
      "18 timestep後に倒れた\n",
      "22 timestep後に倒れた\n",
      "42 timestep後に倒れた\n",
      "49 timestep後に倒れた\n",
      "14 timestep後に倒れた\n",
      "23 timestep後に倒れた\n",
      "14 timestep後に倒れた\n",
      "25 timestep後に倒れた\n",
      "28 timestep後に倒れた\n",
      "20 timestep後に倒れた\n",
      "19 timestep後に倒れた\n",
      "14 timestep後に倒れた\n",
      "22 timestep後に倒れた\n",
      "10 timestep後に倒れた\n",
      "11 timestep後に倒れた\n",
      "38 timestep後に倒れた\n",
      "21 timestep後に倒れた\n",
      "16 timestep後に倒れた\n",
      "25 timestep後に倒れた\n",
      "18 timestep後に倒れた\n",
      "35 timestep後に倒れた\n",
      "37 timestep後に倒れた\n",
      "15 timestep後に倒れた\n",
      "20 timestep後に倒れた\n",
      "16 timestep後に倒れた\n",
      "13 timestep後に倒れた\n",
      "10 timestep後に倒れた\n",
      "24 timestep後に倒れた\n",
      "33 timestep後に倒れた\n",
      "36 timestep後に倒れた\n",
      "26 timestep後に倒れた\n",
      "20 timestep後に倒れた\n",
      "9 timestep後に倒れた\n",
      "15 timestep後に倒れた\n",
      "15 timestep後に倒れた\n",
      "16 timestep後に倒れた\n",
      "13 timestep後に倒れた\n",
      "21 timestep後に倒れた\n",
      "45 timestep後に倒れた\n",
      "13 timestep後に倒れた\n",
      "26 timestep後に倒れた\n",
      "15 timestep後に倒れた\n",
      "20 timestep後に倒れた\n",
      "28 timestep後に倒れた\n",
      "12 timestep後に倒れた\n",
      "21 timestep後に倒れた\n"
     ]
    }
   ],
   "source": [
    "# 環境を'CartPole-v1'にする\n",
    "env = gym.make('CartPole-v0')\n",
    "L=np.zeros(100)\n",
    "for n in range(100):\n",
    "    state = env.reset() \n",
    "    #print('初期状態:', env.state)\n",
    "    #print('行動空間:', env.action_space)\n",
    "    for t in range(500):\n",
    "        if n>90:\n",
    "            env.render()#動画に1フレーム格納\n",
    "        #ここを書く\n",
    "        #+++++++++++++++++++++++++++++++++++++++++++++++++++++\n",
    "        #行動ランダムに選んで更新する\n",
    "        action = np.random.choice([0, 1])#0か1かランダムに選ぶ\n",
    "        #+++++++++++++++++++++++++++++++++++++++++++++++++++++\n",
    "        state, reward, done, info = env.step(action)\n",
    "        #print(f\"t = {t}, action = {action}, state = {state}, reward = {reward}, done = {done}\")\n",
    "    \n",
    "        if done:# done == True ならループを抜ける\n",
    "            print(f\"{t+1} timestep後に倒れた\")\n",
    "            break\n",
    "    L[n]=t\n",
    "\n",
    "env.close()  #環境を閉じる\n"
   ]
  },
  {
   "cell_type": "code",
   "execution_count": 8,
   "metadata": {
    "colab": {
     "base_uri": "https://localhost:8080/",
     "height": 161
    },
    "executionInfo": {
     "elapsed": 544,
     "status": "ok",
     "timestamp": 1603720296415,
     "user": {
      "displayName": "福田玄明",
      "photoUrl": "",
      "userId": "08302524542388123381"
     },
     "user_tz": -540
    },
    "id": "-u_02DiJyInU",
    "outputId": "930befe8-8c21-420b-f371-5f4b329677fc"
   },
   "outputs": [],
   "source": [
    "env.close()"
   ]
  },
  {
   "cell_type": "code",
   "execution_count": 4,
   "metadata": {
    "colab": {
     "base_uri": "https://localhost:8080/",
     "height": 286
    },
    "executionInfo": {
     "elapsed": 732,
     "status": "ok",
     "timestamp": 1603720309327,
     "user": {
      "displayName": "福田玄明",
      "photoUrl": "",
      "userId": "08302524542388123381"
     },
     "user_tz": -540
    },
    "id": "_W6DK3TlLbVo",
    "outputId": "84bb24aa-3ae4-45c2-bfbb-eea47deaac75"
   },
   "outputs": [
    {
     "data": {
      "image/png": "[encoded data removed]",
      "text/plain": [
       "<Figure size 432x288 with 1 Axes>"
      ]
     },
     "metadata": {
      "needs_background": "light"
     },
     "output_type": "display_data"
    }
   ],
   "source": [
    "plt.plot(L)\n",
    "plt.show()"
   ]
  }
 ],
 "metadata": {
  "colab": {
   "authorship_tag": "ABX9TyNMm1iMYDqbOrLkMQ8FMSel",
   "collapsed_sections": [],
   "name": "cart_pole.ipynb",
   "provenance": []
  },
  "kernelspec": {
   "display_name": "Python 3",
   "language": "python",
   "name": "python3"
  },
  "language_info": {
   "codemirror_mode": {
    "name": "ipython",
    "version": 3
   },
   "file_extension": ".py",
   "mimetype": "text/x-python",
   "name": "python",
   "nbconvert_exporter": "python",
   "pygments_lexer": "ipython3",
   "version": "3.7.4"
  }
 },
 "nbformat": 4,
 "nbformat_minor": 1
}
