{
 "cells": [
  {
   "cell_type": "code",
   "execution_count": 11,
   "metadata": {},
   "outputs": [],
   "source": [
    "import numpy as np\n",
    "import matplotlib.pyplot as plt"
   ]
  },
  {
   "cell_type": "code",
   "execution_count": 13,
   "metadata": {},
   "outputs": [
    {
     "data": {
      "text/plain": [
       "(array([109., 111.,  98., 109., 105.,  95.,  94.,  93., 104.,  82.]),\n",
       " array([0.00183429, 0.10150113, 0.20116798, 0.30083483, 0.40050167,\n",
       "        0.50016852, 0.59983536, 0.69950221, 0.79916905, 0.8988359 ,\n",
       "        0.99850275]),\n",
       " <a list of 10 Patch objects>)"
      ]
     },
     "execution_count": 13,
     "metadata": {},
     "output_type": "execute_result"
    },
    {
     "data": {
      "image/png": "[encoded data removed]",
      "text/plain": [
       "<Figure size 432x288 with 1 Axes>"
      ]
     },
     "metadata": {
      "needs_background": "light"
     },
     "output_type": "display_data"
    }
   ],
   "source": [
    "U=np.random.rand(1000)\n",
    "plt.hist(U)"
   ]
  },
  {
   "cell_type": "code",
   "execution_count": 20,
   "metadata": {},
   "outputs": [
    {
     "data": {
      "text/plain": [
       "(array([  9.,  22.,  82., 162., 235., 246., 165.,  61.,  15.,   3.]),\n",
       " array([-1.28208321e-01, -8.63063680e-04,  1.26482193e-01,  2.53827450e-01,\n",
       "         3.81172707e-01,  5.08517965e-01,  6.35863222e-01,  7.63208479e-01,\n",
       "         8.90553736e-01,  1.01789899e+00,  1.14524425e+00]),\n",
       " <a list of 10 Patch objects>)"
      ]
     },
     "execution_count": 20,
     "metadata": {},
     "output_type": "execute_result"
    },
    {
     "data": {
      "image/png": "[encoded data removed]",
      "text/plain": [
       "<Figure size 432x288 with 1 Axes>"
      ]
     },
     "metadata": {
      "needs_background": "light"
     },
     "output_type": "display_data"
    }
   ],
   "source": [
    "Norm=np.random.normal(0.5,0.2,1000)\n",
    "#print(Norm)\n",
    "plt.hist(Norm)"
   ]
  },
  {
   "cell_type": "code",
   "execution_count": 24,
   "metadata": {},
   "outputs": [
    {
     "data": {
      "text/plain": [
       "(array([754., 155.,  59.,  21.,   6.,   4.,   0.,   0.,   0.,   1.]),\n",
       " array([3.02407142e-07, 1.46240748e-01, 2.92481193e-01, 4.38721638e-01,\n",
       "        5.84962083e-01, 7.31202528e-01, 8.77442973e-01, 1.02368342e+00,\n",
       "        1.16992386e+00, 1.31616431e+00, 1.46240475e+00]),\n",
       " <a list of 10 Patch objects>)"
      ]
     },
     "execution_count": 24,
     "metadata": {},
     "output_type": "execute_result"
    },
    {
     "data": {
      "image/png": "[encoded data removed]",
      "text/plain": [
       "<Figure size 432x288 with 1 Axes>"
      ]
     },
     "metadata": {
      "needs_background": "light"
     },
     "output_type": "display_data"
    }
   ],
   "source": [
    "G=np.random.gamma(0.5,0.2,1000)\n",
    "#print(G)\n",
    "plt.hist(G)"
   ]
  },
  {
   "cell_type": "code",
   "execution_count": null,
   "metadata": {},
   "outputs": [],
   "source": []
  }
 ],
 "metadata": {
  "kernelspec": {
   "display_name": "Python 3",
   "language": "python",
   "name": "python3"
  },
  "language_info": {
   "codemirror_mode": {
    "name": "ipython",
    "version": 3
   },
   "file_extension": ".py",
   "mimetype": "text/x-python",
   "name": "python",
   "nbconvert_exporter": "python",
   "pygments_lexer": "ipython3",
   "version": "3.7.4"
  }
 },
 "nbformat": 4,
 "nbformat_minor": 2
}
