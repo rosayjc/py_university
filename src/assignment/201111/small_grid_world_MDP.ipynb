{
 "cells": [
  {
   "cell_type": "code",
   "execution_count": 85,
   "metadata": {},
   "outputs": [
    {
     "name": "stdout",
     "output_type": "stream",
     "text": [
      "goalしました。 [-1.  19.2 -1.  -1. ]\n",
      "goalしました。 [-1.         -0.92368656 -1.         19.2       ]\n",
      "goalしました。 [-1.         19.23907248 -1.         -0.9511594 ]\n",
      "goalしました。 [-1.         -0.97494524 -1.         19.22500639]\n",
      "goalしました。 [-1.         19.21282804 -1.         -0.9839761 ]\n",
      "goalしました。 [-1.         -0.98975088 -1.         19.20820424]\n",
      "goalしました。 [-1.         19.20524755 -1.         -0.99344206]\n",
      "goalしました。 [-1.         -0.99580353 -1.         19.20335766]\n",
      "goalしました。 [-1.         19.20214859 -1.         -0.99731451]\n",
      "goalしました。 [-1.         -0.99862511 -1.         19.20109998]\n",
      "goalしました。 [-1.         19.20070394 -1.         -0.99912012]\n",
      "goalしました。 [-1.         -0.99943689 -1.         19.2004505 ]\n",
      "goalしました。 [-1.         19.20018452 -1.         -0.99976935]\n",
      "goalしました。 [-1.         -0.99985239 -1.         19.20011809]\n",
      "goalしました。 [-1.         19.20007558 -1.         -0.99990553]\n",
      "goalしました。 [-1.         -0.99995163 -1.         19.2000387 ]\n",
      "goalしました。 [-1.         19.20002477 -1.         -0.99890021]\n",
      "goalしました。 [-1.         -0.99929613 -1.         19.20056309]\n",
      "goalしました。 [-1.         19.20036038 -1.         -0.99963961]\n",
      "goalしました。 [-1.         -0.99976935 -1.         19.20018452]\n",
      "goalしました。 [-1.         19.20011809 -1.         -0.99985239]\n",
      "goalしました。 [-1.         -0.98399582 -1.         19.20007558]\n",
      "goalしました。 [-1.         19.20819414 -1.         -0.98975734]\n",
      "goalしました。 [-1.         -0.99475365 -1.         19.20524424]\n",
      "goalしました。 [-1.         19.20268613 -1.         -0.99664283]\n",
      "goalしました。 [-1.         -0.99785168 -1.         19.20171887]\n",
      "goalしました。 [-1.         19.20087995 -1.         -0.99890011]\n",
      "goalしました。 [-1.         -0.9992961  -1.         19.20045051]\n",
      "goalしました。 [-1.         19.2003604  -1.         -0.99954951]\n",
      "goalしました。 [-1.         -0.99971169 -1.         19.20023065]\n",
      "goalしました。 [-1.         19.20014761 -1.         -0.99981548]\n",
      "goalしました。 [-1.         -0.9994369  -1.         19.20009447]\n",
      "goalしました。 [-1.         19.20028831 -1.         -0.99963962]\n",
      "goalしました。 [-1.         -0.85094818 -1.         19.20018452]\n",
      "goalしました。 [-1.         19.27631453 -1.         -0.90460733]\n",
      "goalしました。 [-1.         -0.95097488 -1.         19.24884105]\n",
      "goalしました。 [-1.         19.22008069 -1.         -0.97493315]\n",
      "goalしました。 [-1.         -0.98398    -1.         19.21283423]\n",
      "goalしました。 [-1.         19.20524943 -1.         -0.99344056]\n",
      "goalしました。 [-1.         -0.99580353 -1.         19.20335843]\n",
      "goalしました。 [-1.         19.20214859 -1.         -0.99731451]\n",
      "goalしました。 [-1.         -0.99862511 -1.         19.20109998]\n",
      "goalしました。 [-1.         19.20070394 -1.         -0.99912012]\n",
      "goalしました。 [-1.         -0.99963961 -1.         19.20028832]\n",
      "goalしました。 [-1.         19.20018452 -1.         -0.99981548]\n",
      "goalしました。 [-1.         -0.93894869 -1.         19.20009447]\n",
      "goalしました。 [-1.         19.23125827 -1.         -0.96092733]\n",
      "goalしました。 [-1.         -0.97996393 -1.         19.2200052 ]\n",
      "goalしました。 [-1.         19.21025847 -1.         -0.98718405]\n",
      "goalしました。 [-1.         -0.99180175 -1.         19.20656177]\n"
     ]
    }
   ],
   "source": [
    "import numpy as np\n",
    "\n",
    "def getChoice(V,e): #εグリーディで行動選択\n",
    "    idx=np.argmax(V)#最大値のインデックスを返す\n",
    "    if np.random.rand()<e or V[idx]==-1: #Vの最大値が-1の時は全部のVが-1\n",
    "        k=np.random.randint(0,4)#ランダムに選ぶ\n",
    "        return act[k]\n",
    "    else:\n",
    "        return act[idx] #最大の価値を持つ選択肢\n",
    "\n",
    "act=[\"up\",\"down\",\"left\",\"right\"]\n",
    "V=np.zeros(4)#価値を入れる\n",
    "alpha=0.2\n",
    "e=0.1\n",
    "ite=50 #繰り返し回数\n",
    "reward=np.zeros(ite)#総得点を記録\n",
    "episode=np.zeros(ite)#何回でゴールまで行ったか記録\n",
    "\n",
    "for i in range(ite):\n",
    "    current=[0,0]#スタート位置\n",
    "    goal=0\n",
    "    r=0\n",
    "    while goal==0:#ゴールしてなければ\n",
    "        a=getChoice(V,e)\n",
    "        #print(\"a: \",a)\n",
    "        if a==act[0]:\n",
    "            if current[0]!=0:#端でなければ\n",
    "                current[0]-=1#ひとつ動く\n",
    "            t=0\n",
    "        elif a==act[1]:\n",
    "            if current[0]!=3:\n",
    "                current[0]+=1\n",
    "            t=1\n",
    "        elif a==act[2]:\n",
    "            if current[1]!=0:\n",
    "                current[1]-=1\n",
    "            t=2\n",
    "        else:\n",
    "            if current[1]!=3:\n",
    "                current[1]+=1\n",
    "            t=3\n",
    "        r=-1 #一回につき-1\n",
    "        \n",
    "        if current==[3,3]:\n",
    "            goal=1 #ゴールした\n",
    "            r+=101\n",
    "            \n",
    "        V[t]=V[t]+alpha*(r-V[t])#ここで学習\n",
    "        \n",
    "        reward[i]+=r\n",
    "        episode[i]+=1\n",
    "        \n",
    "    print(\"goalしました。\",V) "
   ]
  },
  {
   "cell_type": "code",
   "execution_count": 86,
   "metadata": {},
   "outputs": [
    {
     "data": {
      "image/png": "[encoded data removed]",
      "text/plain": [
       "<Figure size 432x288 with 1 Axes>"
      ]
     },
     "metadata": {
      "needs_background": "light"
     },
     "output_type": "display_data"
    }
   ],
   "source": [
    "import matplotlib.pyplot as plt\n",
    "plt.plot(reward,label=\"reward\",color=\"red\")\n",
    "plt.legend()\n",
    "plt.show()"
   ]
  },
  {
   "cell_type": "code",
   "execution_count": 94,
   "metadata": {},
   "outputs": [
    {
     "data": {
      "image/png": "[encoded data removed]",
      "text/plain": [
       "<Figure size 432x288 with 1 Axes>"
      ]
     },
     "metadata": {
      "needs_background": "light"
     },
     "output_type": "display_data"
    }
   ],
   "source": [
    "plt.plot(episode,label=\"episode\",color=\"blue\")\n",
    "plt.legend()\n",
    "#plt.ylim([0,200])\n",
    "plt.show()"
   ]
  },
  {
   "cell_type": "code",
   "execution_count": 88,
   "metadata": {},
   "outputs": [
    {
     "data": {
      "text/plain": [
       "array([55., 51., 53., 45., 45., 72., 69., 66., 63., 60.])"
      ]
     },
     "execution_count": 88,
     "metadata": {},
     "output_type": "execute_result"
    }
   ],
   "source": [
    "reward[-10:] #最後の10回の報酬を確認"
   ]
  },
  {
   "cell_type": "code",
   "execution_count": 90,
   "metadata": {},
   "outputs": [
    {
     "data": {
      "text/plain": [
       "array([46., 50., 48., 56., 56., 29., 32., 35., 38., 41.])"
      ]
     },
     "execution_count": 90,
     "metadata": {},
     "output_type": "execute_result"
    }
   ],
   "source": [
    "episode[-10:]"
   ]
  },
  {
   "cell_type": "code",
   "execution_count": null,
   "metadata": {},
   "outputs": [],
   "source": []
  }
 ],
 "metadata": {
  "kernelspec": {
   "display_name": "Python 3",
   "language": "python",
   "name": "python3"
  },
  "language_info": {
   "codemirror_mode": {
    "name": "ipython",
    "version": 3
   },
   "file_extension": ".py",
   "mimetype": "text/x-python",
   "name": "python",
   "nbconvert_exporter": "python",
   "pygments_lexer": "ipython3",
   "version": "3.7.4"
  }
 },
 "nbformat": 4,
 "nbformat_minor": 2
}
