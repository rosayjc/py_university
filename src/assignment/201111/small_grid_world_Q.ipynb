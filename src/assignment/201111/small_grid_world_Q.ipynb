{
 "cells": [
  {
   "cell_type": "code",
   "execution_count": 17,
   "metadata": {},
   "outputs": [
    {
     "name": "stdout",
     "output_type": "stream",
     "text": [
      "goalしました。 0\n",
      "goalしました。 1\n",
      "goalしました。 2\n",
      "goalしました。 3\n",
      "goalしました。 4\n",
      "goalしました。 5\n",
      "goalしました。 6\n",
      "goalしました。 7\n",
      "goalしました。 8\n",
      "goalしました。 9\n",
      "goalしました。 10\n",
      "goalしました。 11\n",
      "goalしました。 12\n",
      "goalしました。 13\n",
      "goalしました。 14\n",
      "goalしました。 15\n",
      "goalしました。 16\n",
      "goalしました。 17\n",
      "goalしました。 18\n",
      "goalしました。 19\n",
      "goalしました。 20\n",
      "goalしました。 21\n",
      "goalしました。 22\n",
      "goalしました。 23\n",
      "goalしました。 24\n",
      "goalしました。 25\n",
      "goalしました。 26\n",
      "goalしました。 27\n",
      "goalしました。 28\n",
      "goalしました。 29\n",
      "goalしました。 30\n",
      "goalしました。 31\n",
      "goalしました。 32\n",
      "goalしました。 33\n",
      "goalしました。 34\n",
      "goalしました。 35\n",
      "goalしました。 36\n",
      "goalしました。 37\n",
      "goalしました。 38\n",
      "goalしました。 39\n",
      "goalしました。 40\n",
      "goalしました。 41\n",
      "goalしました。 42\n",
      "goalしました。 43\n",
      "goalしました。 44\n",
      "goalしました。 45\n",
      "goalしました。 46\n",
      "goalしました。 47\n",
      "goalしました。 48\n",
      "goalしました。 49\n"
     ]
    }
   ],
   "source": [
    "import numpy as np\n",
    "\n",
    "def getChoice(V,e): #εグリーディで行動選択\n",
    "    idx=np.argmax(V)#最大値のインデックスを返す\n",
    "    if np.random.rand()<e or V[idx]==-1: #Vの最大値が-1の時は全部のVが-1\n",
    "        k=np.random.randint(0,4)#ランダムに選ぶ\n",
    "        return act[k]\n",
    "    else:\n",
    "        return act[idx] #最大の価値を持つ選択肢\n",
    "\n",
    "act=[\"up\",\"down\",\"left\",\"right\"]\n",
    "Qtable=np.zeros((4,4,4))#価値を入れるいれもの\n",
    "\n",
    "alpha=0.1\n",
    "gamma=0.99\n",
    "e=0.1\n",
    "ite=50 #繰り返し回数\n",
    "reward=np.zeros(ite)#総得点を記録\n",
    "episode=np.zeros(ite)#何回でゴールまで行ったか記録\n",
    "\n",
    "\n",
    "for i in range(ite):\n",
    "    current=[0,0]#スタート位置\n",
    "    goal=0\n",
    "    r=0\n",
    "    while goal==0:#ゴールしてなければ\n",
    "        #print(current)\n",
    "        a=getChoice(Qtable[current[0],current[1],:],e)\n",
    "        #print(\"a: \",a)\n",
    "        pre=current.copy() #動く前の位置をおぼえておく。かならずcopy()\n",
    "        if a==act[0]:\n",
    "            if current[0]!=0:#端でなければ\n",
    "                current[0]-=1#ひとつ動く\n",
    "            t=0\n",
    "        elif a==act[1]:\n",
    "            if current[0]!=3:\n",
    "                current[0]+=1\n",
    "            t=1\n",
    "        elif a==act[2]:\n",
    "            if current[1]!=0:\n",
    "                current[1]-=1\n",
    "            t=2\n",
    "        else:\n",
    "            if current[1]!=3:\n",
    "                current[1]+=1\n",
    "            t=3\n",
    "        r=-1 #一回につき-1\n",
    "        \n",
    "        if current==[3,3]:\n",
    "            goal=1 #ゴールした\n",
    "            r+=101\n",
    "            \n",
    "        Qtable[pre[0],pre[1],t]=Qtable[pre[0],pre[1],t]+alpha*(r+gamma*np.max(Qtable[current[0],current[1],:])-Qtable[pre[0],pre[1],t])#ここで学習\n",
    "        \n",
    "        reward[i]+=r\n",
    "        episode[i]+=1\n",
    "        \n",
    "    print(\"goalしました。\",i) "
   ]
  },
  {
   "cell_type": "code",
   "execution_count": 18,
   "metadata": {},
   "outputs": [
    {
     "name": "stdout",
     "output_type": "stream",
     "text": [
      "[[ 2.39330473e+01  5.54166706e+00  4.63540177e+00 -2.50210000e-02]\n",
      " [ 4.32766657e+01  6.36300451e+01  8.17234100e+01  2.50100000e+00]\n",
      " [-3.46029732e-01  2.92983256e+01  9.35645362e+01  2.71000000e+01]\n",
      " [-1.30069900e-01  7.23557069e+00  9.92930350e+01  0.00000000e+00]]\n"
     ]
    }
   ],
   "source": [
    "Qvalue=np.max(Qtable,axis=2) # 状態価値の最終状態\n",
    "print(Qvalue)"
   ]
  },
  {
   "cell_type": "code",
   "execution_count": 19,
   "metadata": {},
   "outputs": [
    {
     "data": {
      "text/plain": [
       "<matplotlib.colorbar.Colorbar at 0x1cbb0adccc8>"
      ]
     },
     "execution_count": 19,
     "metadata": {},
     "output_type": "execute_result"
    },
    {
     "data": {
      "image/png": "[encoded data removed]",
      "text/plain": [
       "<Figure size 432x288 with 2 Axes>"
      ]
     },
     "metadata": {
      "needs_background": "light"
     },
     "output_type": "display_data"
    }
   ],
   "source": [
    "import matplotlib.pyplot as plt\n",
    "Qvalue[3,3]=100 #ゴールの価値は更新されてないので100を入れておく。必須ではない。\n",
    "plt.pcolor(Qvalue)\n",
    "plt.colorbar()"
   ]
  },
  {
   "cell_type": "code",
   "execution_count": 20,
   "metadata": {},
   "outputs": [
    {
     "name": "stdout",
     "output_type": "stream",
     "text": [
      "[95. 10. 10.  8. 46.  6. 22.  9.  6. 13.  6. 15. 10.  8.  7. 13. 10. 10.\n",
      " 10.  6.  6.  6.  6.  8.  6.  8.  7.  6.  9.  6.  6.  6.  6.  9.  6.  6.\n",
      "  6.  8.  6.  6.  6.  8.  8.  6.  8.  6.  6.  6.  6.  8.]\n"
     ]
    },
    {
     "data": {
      "image/png": "[encoded data removed]",
      "text/plain": [
       "<Figure size 432x288 with 1 Axes>"
      ]
     },
     "metadata": {
      "needs_background": "light"
     },
     "output_type": "display_data"
    }
   ],
   "source": [
    "plt.plot(episode)\n",
    "print(episode)"
   ]
  },
  {
   "cell_type": "code",
   "execution_count": 21,
   "metadata": {},
   "outputs": [
    {
     "data": {
      "text/plain": [
       "[<matplotlib.lines.Line2D at 0x1cbb0a8fb48>]"
      ]
     },
     "execution_count": 21,
     "metadata": {},
     "output_type": "execute_result"
    },
    {
     "data": {
      "image/png": "[encoded data removed]",
      "text/plain": [
       "<Figure size 432x288 with 1 Axes>"
      ]
     },
     "metadata": {
      "needs_background": "light"
     },
     "output_type": "display_data"
    }
   ],
   "source": [
    "plt.plot(reward)"
   ]
  },
  {
   "cell_type": "code",
   "execution_count": null,
   "metadata": {},
   "outputs": [],
   "source": []
  },
  {
   "cell_type": "code",
   "execution_count": null,
   "metadata": {},
   "outputs": [],
   "source": []
  }
 ],
 "metadata": {
  "kernelspec": {
   "display_name": "Python 3",
   "language": "python",
   "name": "python3"
  },
  "language_info": {
   "codemirror_mode": {
    "name": "ipython",
    "version": 3
   },
   "file_extension": ".py",
   "mimetype": "text/x-python",
   "name": "python",
   "nbconvert_exporter": "python",
   "pygments_lexer": "ipython3",
   "version": "3.7.4"
  }
 },
 "nbformat": 4,
 "nbformat_minor": 2
}
