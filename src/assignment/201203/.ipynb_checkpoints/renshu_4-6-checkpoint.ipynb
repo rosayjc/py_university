{
 "cells": [
  {
   "cell_type": "code",
   "execution_count": 12,
   "metadata": {},
   "outputs": [],
   "source": [
    "import pandas as pd\n",
    "import numpy as np\n",
    "import matplotlib.pyplot as plt"
   ]
  },
  {
   "cell_type": "code",
   "execution_count": 2,
   "metadata": {},
   "outputs": [],
   "source": [
    "df = pd.read_csv(\"./sea_turtle.csv\",index_col=0)"
   ]
  },
  {
   "cell_type": "code",
   "execution_count": 3,
   "metadata": {},
   "outputs": [
    {
     "data": {
      "text/html": [
       "<div>\n",
       "<style scoped>\n",
       "    .dataframe tbody tr th:only-of-type {\n",
       "        vertical-align: middle;\n",
       "    }\n",
       "\n",
       "    .dataframe tbody tr th {\n",
       "        vertical-align: top;\n",
       "    }\n",
       "\n",
       "    .dataframe thead th {\n",
       "        text-align: right;\n",
       "    }\n",
       "</style>\n",
       "<table border=\"1\" class=\"dataframe\">\n",
       "  <thead>\n",
       "    <tr style=\"text-align: right;\">\n",
       "      <th></th>\n",
       "      <th>Population</th>\n",
       "      <th>Species</th>\n",
       "      <th>Temp</th>\n",
       "      <th>Sex</th>\n",
       "      <th>Mother</th>\n",
       "      <th>Box</th>\n",
       "      <th>Treat</th>\n",
       "    </tr>\n",
       "    <tr>\n",
       "      <th>ID</th>\n",
       "      <th></th>\n",
       "      <th></th>\n",
       "      <th></th>\n",
       "      <th></th>\n",
       "      <th></th>\n",
       "      <th></th>\n",
       "      <th></th>\n",
       "    </tr>\n",
       "  </thead>\n",
       "  <tbody>\n",
       "    <tr>\n",
       "      <th>LI1C</th>\n",
       "      <td>LI</td>\n",
       "      <td>cm</td>\n",
       "      <td>29.036</td>\n",
       "      <td>0</td>\n",
       "      <td>LIC</td>\n",
       "      <td>LI1</td>\n",
       "      <td>29</td>\n",
       "    </tr>\n",
       "    <tr>\n",
       "      <th>LI1E</th>\n",
       "      <td>LI</td>\n",
       "      <td>cm</td>\n",
       "      <td>29.036</td>\n",
       "      <td>0</td>\n",
       "      <td>LIE</td>\n",
       "      <td>LI1</td>\n",
       "      <td>29</td>\n",
       "    </tr>\n",
       "    <tr>\n",
       "      <th>LI1B</th>\n",
       "      <td>LI</td>\n",
       "      <td>cm</td>\n",
       "      <td>29.036</td>\n",
       "      <td>1</td>\n",
       "      <td>LIB</td>\n",
       "      <td>LI1</td>\n",
       "      <td>29</td>\n",
       "    </tr>\n",
       "    <tr>\n",
       "      <th>LI1D</th>\n",
       "      <td>LI</td>\n",
       "      <td>cm</td>\n",
       "      <td>29.036</td>\n",
       "      <td>0</td>\n",
       "      <td>LID</td>\n",
       "      <td>LI1</td>\n",
       "      <td>29</td>\n",
       "    </tr>\n",
       "    <tr>\n",
       "      <th>LI1I</th>\n",
       "      <td>LI</td>\n",
       "      <td>cm</td>\n",
       "      <td>29.036</td>\n",
       "      <td>1</td>\n",
       "      <td>LII</td>\n",
       "      <td>LI1</td>\n",
       "      <td>29</td>\n",
       "    </tr>\n",
       "  </tbody>\n",
       "</table>\n",
       "</div>"
      ],
      "text/plain": [
       "     Population Species    Temp  Sex Mother  Box  Treat\n",
       "ID                                                     \n",
       "LI1C         LI      cm  29.036    0    LIC  LI1     29\n",
       "LI1E         LI      cm  29.036    0    LIE  LI1     29\n",
       "LI1B         LI      cm  29.036    1    LIB  LI1     29\n",
       "LI1D         LI      cm  29.036    0    LID  LI1     29\n",
       "LI1I         LI      cm  29.036    1    LII  LI1     29"
      ]
     },
     "execution_count": 3,
     "metadata": {},
     "output_type": "execute_result"
    }
   ],
   "source": [
    "df.head()"
   ]
  },
  {
   "cell_type": "code",
   "execution_count": 4,
   "metadata": {},
   "outputs": [],
   "source": [
    "temp = df.iloc[:,2].values\n",
    "sex = df.iloc[:,3].values"
   ]
  },
  {
   "cell_type": "code",
   "execution_count": 5,
   "metadata": {},
   "outputs": [
    {
     "data": {
      "text/plain": [
       "array([29.036     , 29.036     , 29.036     , 29.036     , 29.036     ,\n",
       "       29.326     , 29.326     , 29.326     , 29.326     , 29.017     ,\n",
       "       29.017     , 29.017     , 29.017     , 29.017     , 28.859     ,\n",
       "       28.859     , 28.859     , 28.859     , 28.859     , 28.859     ,\n",
       "       28.914     , 28.914     , 28.914     , 28.806     , 28.806     ,\n",
       "       28.806     , 28.806     , 27.949     , 27.949     , 27.949     ,\n",
       "       27.949     , 28.263     , 28.263     , 28.263     , 28.263     ,\n",
       "       27.985     , 27.985     , 27.985     , 27.985     , 27.89      ,\n",
       "       28.156     , 28.156     , 28.019     , 28.019     , 28.019     ,\n",
       "       28.019     , 30.772     , 30.99      , 30.99      , 30.99      ,\n",
       "       30.99      , 30.99      , 30.99      , 30.942     , 30.942     ,\n",
       "       30.942     , 30.942     , 30.973     , 30.973     , 31.946     ,\n",
       "       31.946     , 31.946     , 31.946     , 31.792     , 31.792     ,\n",
       "       31.808     , 31.808     , 31.844     , 31.853     , 31.844     ,\n",
       "       29.262     , 29.262     , 29.262     , 29.262     , 28.839     ,\n",
       "       28.839     , 28.839     , 28.839     , 28.839     , 28.839     ,\n",
       "       27.962     , 27.962     , 27.962     , 28.503     , 28.503     ,\n",
       "       28.503     , 28.503     , 28.503     , 28.503     , 28.503     ,\n",
       "       28.503     , 29.169     , 29.169     , 29.169     , 29.169     ,\n",
       "       28.725     , 28.725     , 28.725     , 28.725     , 28.725     ,\n",
       "       28.725     , 27.97      , 27.97      , 27.97      , 27.97      ,\n",
       "       28.215     , 28.215     , 28.215     , 28.215     , 28.215     ,\n",
       "       28.215     , 29.135     , 29.135     , 29.135     , 29.135     ,\n",
       "       29.135     , 28.754     , 28.754     , 28.754     , 28.754     ,\n",
       "       28.754     , 27.962     , 27.962     , 27.962     , 27.962     ,\n",
       "       27.962     , 29.22      , 29.22      , 29.22      , 29.22      ,\n",
       "       29.22      , 29.22      , 28.961     , 28.961     , 28.961     ,\n",
       "       28.961     , 28.961     , 28.561     , 28.561     , 28.561     ,\n",
       "       29.234     , 29.234     , 29.234     , 29.234     , 29.234     ,\n",
       "       29.234     , 28.111     , 28.111     , 28.111     , 28.659     ,\n",
       "       28.659     , 28.659     , 28.659     , 28.659     , 28.659     ,\n",
       "       28.659     , 29.301     , 29.301     , 29.301     , 29.301     ,\n",
       "       29.301     , 28.595     , 28.595     , 28.595     , 28.595     ,\n",
       "       28.595     , 28.595     , 28.049     , 28.049     , 28.049     ,\n",
       "       28.488     , 28.488     , 28.488     , 28.28      , 28.28      ,\n",
       "       28.28      , 28.28      , 28.28      , 28.28      , 31.93      ,\n",
       "       31.93      , 31.93      , 31.93      , 31.93      , 28.13      ,\n",
       "       28.13      , 28.13      , 28.13      , 28.13      , 28.13      ,\n",
       "       28.13      , 28.13      , 32.19      , 32.19      , 32.19      ,\n",
       "       32.19      , 32.19      , 32.19      , 32.19      , 32.19      ,\n",
       "       32.19      , 30.11      , 30.11      , 30.11      , 30.11      ,\n",
       "       30.11      , 30.11      , 30.11      , 30.11      , 32.35      ,\n",
       "       32.35      , 32.35      , 32.35      , 32.35      , 32.35      ,\n",
       "       32.4       , 32.4       , 32.4       , 32.4       , 32.4       ,\n",
       "       32.4       , 32.2       , 32.2       , 32.2       , 32.2       ,\n",
       "       32.2       , 32.2       , 32.2       , 32.42      , 32.42      ,\n",
       "       32.42      , 32.42      , 32.42      , 32.42      , 32.42      ,\n",
       "       32.42      , 32.4       , 32.4       , 32.4       , 32.4       ,\n",
       "       32.4       , 32.4       , 32.4       , 32.4       , 32.35      ,\n",
       "       32.35      , 32.35      , 32.35      , 32.35      , 32.58      ,\n",
       "       32.58      , 32.58      , 32.58      , 32.58      , 32.58      ,\n",
       "       32.58      , 32.6       , 32.6       , 32.6       , 32.6       ,\n",
       "       32.38      , 32.38      , 32.38      , 32.38      , 32.38      ,\n",
       "       32.38      , 32.38      , 32.38      , 32.38      , 32.38      ,\n",
       "       27.95      , 27.95      , 27.95      , 27.95      , 27.95      ,\n",
       "       27.77      , 27.77      , 27.77      , 27.77      , 27.77      ,\n",
       "       28.45      , 28.45      , 28.45      , 28.17      , 28.17      ,\n",
       "       28.17      , 28.17      , 28.17      , 28.17      , 29.783     ,\n",
       "       29.783     , 29.783     , 29.783     , 29.783     , 29.305     ,\n",
       "       29.305     , 29.305     , 29.305     , 29.305     , 29.305     ,\n",
       "       28.947     , 28.947     , 28.947     , 29.053     , 29.053     ,\n",
       "       29.783     , 29.783     , 29.783     , 29.783     , 29.783     ,\n",
       "       29.783     , 29.783     , 29.305     , 29.305     , 29.305     ,\n",
       "       29.305     , 29.305     , 29.305     , 28.947     , 28.947     ,\n",
       "       28.947     , 28.947     , 28.947     , 29.053     , 29.053     ,\n",
       "       29.053     , 29.053     , 29.053     , 29.828     , 29.828     ,\n",
       "       29.828     , 29.828     , 29.828     , 29.828     , 29.828     ,\n",
       "       29.828     , 29.585     , 29.585     , 29.585     , 29.585     ,\n",
       "       29.585     , 29.585     , 28.572     , 28.572     , 28.572     ,\n",
       "       28.572     , 28.572     , 28.909     , 28.909     , 28.909     ,\n",
       "       29.828     , 29.828     , 29.828     , 29.828     , 29.828     ,\n",
       "       29.828     , 29.585     , 29.585     , 29.585     , 29.585     ,\n",
       "       28.572     , 28.572     , 28.572     , 28.909     , 29.297     ,\n",
       "       29.297     , 29.297     , 29.297     , 29.297     , 29.297     ,\n",
       "       29.437     , 29.437     , 29.437     , 29.437     , 29.437     ,\n",
       "       29.437     , 29.437     , 28.415     , 28.415     , 28.138     ,\n",
       "       28.138     , 28.138     , 29.297     , 29.297     , 29.297     ,\n",
       "       29.297     , 29.297     , 29.297     , 29.437     , 29.437     ,\n",
       "       29.437     , 29.437     , 29.437     , 28.415     , 28.415     ,\n",
       "       28.415     , 28.415     , 28.415     , 28.138     , 28.138     ,\n",
       "       28.138     , 28.138     , 28.138     , 29.007     , 29.007     ,\n",
       "       29.007     , 29.007     , 29.007     , 29.007     , 29.007     ,\n",
       "       29.007     , 29.007     , 29.007     , 29.007     , 29.007     ,\n",
       "       28.066     , 28.066     , 28.066     , 28.066     , 28.066     ,\n",
       "       28.066     , 28.066     , 32.037     , 32.037     , 32.037     ,\n",
       "       32.037     , 32.037     , 32.037     , 32.037     , 32.037     ,\n",
       "       32.037     , 28.        , 28.        , 28.        , 28.04      ,\n",
       "       28.        , 28.        , 28.29      , 28.        , 28.        ,\n",
       "       28.        , 28.29      , 28.04      , 28.04      , 28.04      ,\n",
       "       28.04      , 28.04      , 28.04      , 28.04      , 28.        ,\n",
       "       28.        , 28.08      , 28.08      , 28.        , 28.08      ,\n",
       "       28.08      , 28.08      , 28.        , 28.        , 28.        ,\n",
       "       28.29      , 28.29      , 28.08      , 28.29      , 28.29      ,\n",
       "       28.29      , 28.08      , 28.08      , 28.08      , 29.07      ,\n",
       "       28.99      , 29.07      , 28.99      , 29.07      , 28.99      ,\n",
       "       28.99      , 29.07      , 29.31      , 29.31      , 29.31      ,\n",
       "       29.1       , 29.1       , 29.1       , 29.29      , 29.29      ,\n",
       "       29.29      , 28.99      , 28.99      , 29.31      , 29.29      ,\n",
       "       29.31      , 29.1       , 29.1       , 29.07      , 29.1       ,\n",
       "       28.99      , 29.07      , 29.81      , 30.13      , 30.13      ,\n",
       "       29.1       , 29.29      , 29.07      , 29.89      , 29.29      ,\n",
       "       29.88      , 29.89      , 29.89      , 29.29      , 29.31      ,\n",
       "       29.1       , 29.31      , 29.89      , 29.81      , 29.81      ,\n",
       "       29.31      , 29.81      , 29.29      , 29.81      , 30.        ,\n",
       "       29.88      , 29.88      , 29.81      , 29.81      , 29.88      ,\n",
       "       30.09      , 30.12      , 30.12      , 30.12      , 29.88      ,\n",
       "       29.88      , 30.09      , 29.88      , 30.12      , 31.07      ,\n",
       "       31.07      , 29.89      , 29.89      , 29.89      , 29.89      ,\n",
       "       31.01      , 31.01      , 30.        , 30.        , 30.        ,\n",
       "       30.        , 30.13      , 31.05      , 31.05      , 31.05      ,\n",
       "       30.12      , 30.09      , 30.09      , 30.12      , 30.61      ,\n",
       "       30.61      , 30.61      , 30.61      , 30.13      , 30.13      ,\n",
       "       31.05      , 30.12      , 30.09      , 30.13      , 31.05      ,\n",
       "       31.05      , 31.05      , 31.05      , 30.61      , 30.61      ,\n",
       "       31.07      , 30.13      , 31.05      , 32.26      , 32.26      ,\n",
       "       32.26      , 30.81      , 30.61      , 31.07      , 32.07      ,\n",
       "       32.07      , 32.07      , 31.01      , 30.61      , 30.81      ,\n",
       "       31.12      , 32.07      , 32.07      , 30.81      , 31.01      ,\n",
       "       32.07      , 32.16      , 32.16      , 32.16      , 31.01      ,\n",
       "       31.05      , 32.01      , 32.01      , 31.05      , 31.05      ,\n",
       "       30.81      , 31.05      , 29.29      , 31.05      , 31.01      ,\n",
       "       31.05      , 28.99      , 31.07      , 31.07      , 31.05      ,\n",
       "       31.12      , 29.07      , 31.13      , 31.12      , 31.05      ,\n",
       "       29.1       , 30.81      , 32.01      , 32.01      , 31.07      ,\n",
       "       30.81      , 32.07      , 30.81      , 32.16      , 31.13      ,\n",
       "       31.13      , 31.13      , 32.07      , 31.12      , 31.12      ,\n",
       "       31.05      , 32.07      , 32.07      , 31.12      , 31.12      ,\n",
       "       31.12      , 32.07      , 32.26      , 32.07      , 31.12      ,\n",
       "       32.16      , 30.09      , 30.09      , 30.09      , 32.26      ,\n",
       "       32.26      , 32.26      , 32.16      , 32.26      , 30.        ,\n",
       "       27.08735795, 27.08735795, 26.96229273, 27.08735795, 26.96229273,\n",
       "       27.08735795, 26.96229273, 27.08735795, 26.96229273, 27.08735795,\n",
       "       26.66038893, 26.66038893, 26.66038893, 26.66038893, 26.66038893,\n",
       "       26.66038893, 26.66038893, 26.66038893, 26.66038893, 27.44076271,\n",
       "       27.44076271, 27.44076271, 27.44076271, 27.44076271, 27.44076271,\n",
       "       27.44076271, 27.44076271, 27.44076271, 27.09545305, 27.09545305,\n",
       "       27.09545305, 27.09545305, 28.93930487, 28.99393352, 28.99393352,\n",
       "       28.99393352, 28.93930487, 28.99393352, 28.93930487, 28.93930487,\n",
       "       28.99393352, 28.99393352, 28.93930487, 30.27708877, 30.16035464,\n",
       "       30.27708877, 30.27708877, 30.16035464, 30.16035464, 30.16035464,\n",
       "       30.27708877, 30.16035464, 30.27708877, 30.47556818, 31.29242701,\n",
       "       31.44998859, 30.47556818, 31.29242701, 31.29242701, 30.47556818,\n",
       "       31.44998859, 31.44998859, 30.47556818, 31.29242701, 30.47556818,\n",
       "       31.29242701, 31.44998859, 30.47556818, 31.29242701, 31.29242701,\n",
       "       31.4342167 , 31.4342167 , 31.4342167 , 31.4342167 , 31.4342167 ,\n",
       "       31.4342167 , 31.4342167 , 30.4579461 , 30.4579461 , 30.4579461 ,\n",
       "       30.4579461 , 30.4579461 , 30.4579461 , 31.65925882, 32.47879147,\n",
       "       31.65925882, 31.65925882, 32.47879147, 31.65925882, 32.47879147,\n",
       "       32.47879147])"
      ]
     },
     "execution_count": 5,
     "metadata": {},
     "output_type": "execute_result"
    }
   ],
   "source": [
    "temp"
   ]
  },
  {
   "cell_type": "code",
   "execution_count": 6,
   "metadata": {},
   "outputs": [
    {
     "data": {
      "text/plain": [
       "array([0, 0, 1, 0, 1, 1, 1, 1, 1, 0, 1, 0, 0, 0, 0, 0, 0, 0, 1, 0, 1, 0,\n",
       "       0, 0, 1, 1, 0, 0, 1, 1, 1, 1, 1, 0, 1, 1, 1, 0, 1, 1, 1, 1, 1, 1,\n",
       "       0, 1, 1, 1, 1, 0, 0, 0, 0, 1, 0, 0, 0, 0, 0, 0, 0, 0, 0, 0, 0, 0,\n",
       "       0, 0, 0, 0, 1, 1, 1, 1, 1, 1, 1, 1, 1, 1, 1, 1, 1, 1, 1, 1, 1, 1,\n",
       "       1, 1, 0, 0, 1, 1, 1, 1, 1, 0, 1, 1, 1, 1, 1, 1, 1, 1, 1, 0, 1, 1,\n",
       "       1, 1, 1, 1, 1, 1, 1, 1, 1, 1, 1, 1, 0, 1, 1, 1, 1, 1, 0, 1, 1, 0,\n",
       "       1, 0, 1, 1, 1, 1, 1, 1, 1, 1, 0, 0, 1, 1, 1, 1, 1, 1, 1, 1, 1, 1,\n",
       "       1, 1, 1, 1, 1, 1, 0, 1, 1, 1, 1, 0, 0, 1, 1, 1, 0, 1, 1, 1, 1, 1,\n",
       "       1, 1, 1, 0, 0, 0, 0, 0, 0, 1, 1, 1, 1, 1, 1, 1, 0, 0, 0, 0, 0, 0,\n",
       "       0, 0, 0, 0, 0, 0, 0, 0, 0, 0, 0, 0, 0, 0, 0, 0, 0, 0, 0, 0, 0, 0,\n",
       "       0, 0, 0, 0, 0, 0, 0, 0, 0, 0, 0, 0, 0, 0, 0, 0, 0, 0, 0, 0, 0, 0,\n",
       "       0, 0, 0, 0, 0, 0, 0, 0, 0, 0, 0, 0, 0, 0, 0, 0, 0, 0, 0, 0, 0, 0,\n",
       "       0, 0, 0, 0, 0, 0, 1, 1, 1, 1, 1, 1, 1, 1, 1, 1, 1, 1, 1, 1, 1, 1,\n",
       "       1, 1, 1, 1, 0, 1, 1, 1, 1, 1, 1, 0, 1, 0, 1, 1, 1, 1, 0, 0, 1, 0,\n",
       "       1, 1, 1, 0, 1, 1, 1, 1, 1, 1, 1, 1, 0, 1, 1, 1, 1, 1, 1, 0, 0, 1,\n",
       "       1, 0, 1, 1, 1, 1, 1, 1, 1, 1, 1, 1, 1, 1, 0, 1, 1, 1, 1, 1, 1, 1,\n",
       "       1, 1, 1, 1, 1, 1, 0, 1, 1, 1, 1, 0, 0, 1, 1, 1, 1, 0, 1, 1, 1, 1,\n",
       "       1, 1, 1, 1, 1, 1, 1, 1, 1, 1, 1, 0, 1, 0, 1, 1, 1, 1, 1, 1, 1, 1,\n",
       "       1, 0, 1, 0, 1, 1, 1, 1, 1, 0, 1, 1, 1, 1, 1, 1, 1, 1, 1, 1, 1, 1,\n",
       "       1, 1, 1, 1, 0, 0, 0, 0, 0, 0, 0, 0, 0, 1, 1, 1, 1, 1, 1, 1, 1, 1,\n",
       "       1, 1, 1, 1, 1, 1, 1, 1, 1, 1, 1, 1, 1, 1, 1, 1, 1, 1, 1, 1, 1, 1,\n",
       "       1, 1, 1, 1, 1, 1, 1, 1, 1, 1, 1, 1, 1, 1, 1, 1, 1, 1, 1, 1, 1, 1,\n",
       "       1, 1, 1, 1, 1, 1, 1, 1, 1, 1, 1, 1, 1, 1, 0, 0, 1, 1, 1, 1, 1, 0,\n",
       "       1, 1, 1, 1, 1, 1, 0, 1, 1, 1, 1, 0, 1, 0, 0, 0, 0, 0, 1, 0, 1, 1,\n",
       "       0, 0, 1, 0, 1, 0, 0, 0, 0, 0, 0, 0, 0, 0, 0, 1, 0, 1, 0, 0, 0, 0,\n",
       "       0, 0, 1, 1, 0, 1, 0, 1, 0, 1, 0, 1, 0, 1, 0, 0, 0, 1, 0, 0, 1, 1,\n",
       "       0, 0, 0, 0, 0, 0, 1, 1, 0, 0, 0, 0, 1, 0, 0, 0, 0, 0, 1, 0, 0, 0,\n",
       "       0, 0, 1, 0, 1, 1, 0, 0, 1, 1, 0, 0, 1, 0, 0, 0, 0, 1, 0, 1, 1, 1,\n",
       "       0, 0, 0, 0, 1, 0, 1, 0, 0, 0, 1, 0, 1, 0, 0, 0, 0, 0, 1, 1, 0, 0,\n",
       "       0, 1, 0, 0, 0, 0, 0, 0, 0, 0, 0, 0, 1, 1, 1, 1, 1, 1, 1, 1, 1, 1,\n",
       "       1, 1, 1, 1, 1, 1, 1, 1, 1, 1, 1, 1, 1, 1, 1, 1, 1, 1, 1, 1, 1, 1,\n",
       "       1, 0, 0, 1, 1, 1, 0, 1, 1, 0, 0, 0, 0, 1, 0, 0, 1, 0, 0, 0, 0, 0,\n",
       "       0, 0, 0, 0, 0, 0, 0, 0, 0, 0, 0, 0, 0, 0, 0, 0, 0, 0, 0, 0, 0, 0,\n",
       "       0, 0, 0, 0, 0, 0, 0, 0, 0, 0, 0, 0, 0, 0, 0])"
      ]
     },
     "execution_count": 6,
     "metadata": {},
     "output_type": "execute_result"
    }
   ],
   "source": [
    "sex"
   ]
  },
  {
   "cell_type": "code",
   "execution_count": 8,
   "metadata": {},
   "outputs": [
    {
     "data": {
      "text/plain": [
       "LogisticRegression()"
      ]
     },
     "execution_count": 8,
     "metadata": {},
     "output_type": "execute_result"
    }
   ],
   "source": [
    "from sklearn.linear_model import LogisticRegression\n",
    "model = LogisticRegression()\n",
    "model.fit(temp.reshape(-1,1),sex)"
   ]
  },
  {
   "cell_type": "code",
   "execution_count": 13,
   "metadata": {},
   "outputs": [
    {
     "name": "stdout",
     "output_type": "stream",
     "text": [
      "[[-1.45686138]]\n",
      "[43.67982439]\n",
      "0.8515519568151148\n"
     ]
    }
   ],
   "source": [
    "print(model.coef_)\n",
    "print(model.intercept_)\n",
    "print(model.score(temp.reshape(-1,1),sex))"
   ]
  },
  {
   "cell_type": "code",
   "execution_count": 16,
   "metadata": {},
   "outputs": [
    {
     "data": {
      "text/plain": [
       "Text(0.5, 0, 'temperature')"
      ]
     },
     "execution_count": 16,
     "metadata": {},
     "output_type": "execute_result"
    },
    {
     "data": {
      "image/png": "[encoded data removed]",
      "text/plain": [
       "<Figure size 432x288 with 1 Axes>"
      ]
     },
     "metadata": {
      "needs_background": "light"
     },
     "output_type": "display_data"
    }
   ],
   "source": [
    "ybar = model.predict(temp.reshape(-1,1))\n",
    "plt.plot(temp,ybar)\n",
    "plt.ylabel(\"male ratio\",fontsize = 14)\n",
    "plt.xlabel(\"temperature\",fontsize = 14)"
   ]
  },
  {
   "cell_type": "code",
   "execution_count": null,
   "metadata": {},
   "outputs": [],
   "source": []
  }
 ],
 "metadata": {
  "kernelspec": {
   "display_name": "Python 3",
   "language": "python",
   "name": "python3"
  },
  "language_info": {
   "codemirror_mode": {
    "name": "ipython",
    "version": 3
   },
   "file_extension": ".py",
   "mimetype": "text/x-python",
   "name": "python",
   "nbconvert_exporter": "python",
   "pygments_lexer": "ipython3",
   "version": "3.8.3"
  }
 },
 "nbformat": 4,
 "nbformat_minor": 4
}
