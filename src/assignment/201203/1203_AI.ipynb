{
 "cells": [
  {
   "cell_type": "code",
   "execution_count": 2,
   "metadata": {},
   "outputs": [
    {
     "name": "stdout",
     "output_type": "stream",
     "text": [
      "1203_AI.ipynb               baseball2019.csv\r\n",
      "Market_Data_analysis.ipynb  sea_turtle.csv\r\n",
      "Marketing_Data.csv          sea_turtle.ipynb\r\n",
      "NBA.csv                     section4-2.ipynb\r\n",
      "NBA.ipynb                   section4_1.ipynb\r\n"
     ]
    }
   ],
   "source": [
    "ls"
   ]
  },
  {
   "cell_type": "code",
   "execution_count": 1,
   "metadata": {},
   "outputs": [],
   "source": [
    "import pandas as pd\n",
    "import numpy as np\n",
    "import matplotlib.pyplot as plt"
   ]
  },
  {
   "cell_type": "code",
   "execution_count": 2,
   "metadata": {},
   "outputs": [],
   "source": [
    "df = pd.read_csv(\"./baseball2019.csv\",index_col=0)"
   ]
  },
  {
   "cell_type": "code",
   "execution_count": 9,
   "metadata": {},
   "outputs": [
    {
     "data": {
      "text/html": [
       "<div>\n",
       "<style scoped>\n",
       "    .dataframe tbody tr th:only-of-type {\n",
       "        vertical-align: middle;\n",
       "    }\n",
       "\n",
       "    .dataframe tbody tr th {\n",
       "        vertical-align: top;\n",
       "    }\n",
       "\n",
       "    .dataframe thead th {\n",
       "        text-align: right;\n",
       "    }\n",
       "</style>\n",
       "<table border=\"1\" class=\"dataframe\">\n",
       "  <thead>\n",
       "    <tr style=\"text-align: right;\">\n",
       "      <th></th>\n",
       "      <th>チーム</th>\n",
       "      <th>打率</th>\n",
       "      <th>打席</th>\n",
       "      <th>安打数</th>\n",
       "      <th>ホームラン</th>\n",
       "      <th>打点</th>\n",
       "      <th>三振</th>\n",
       "      <th>盗塁</th>\n",
       "      <th>年齢</th>\n",
       "      <th>勤続年数</th>\n",
       "      <th>推定年俸(万円)</th>\n",
       "    </tr>\n",
       "    <tr>\n",
       "      <th>選手名</th>\n",
       "      <th></th>\n",
       "      <th></th>\n",
       "      <th></th>\n",
       "      <th></th>\n",
       "      <th></th>\n",
       "      <th></th>\n",
       "      <th></th>\n",
       "      <th></th>\n",
       "      <th></th>\n",
       "      <th></th>\n",
       "      <th></th>\n",
       "    </tr>\n",
       "  </thead>\n",
       "  <tbody>\n",
       "    <tr>\n",
       "      <th>鈴木 誠也</th>\n",
       "      <td>広島</td>\n",
       "      <td>0.3350</td>\n",
       "      <td>612</td>\n",
       "      <td>167</td>\n",
       "      <td>28</td>\n",
       "      <td>87</td>\n",
       "      <td>81</td>\n",
       "      <td>25</td>\n",
       "      <td>25</td>\n",
       "      <td>8</td>\n",
       "      <td>28000</td>\n",
       "    </tr>\n",
       "    <tr>\n",
       "      <th>ビシエド</th>\n",
       "      <td>中日</td>\n",
       "      <td>0.3150</td>\n",
       "      <td>594</td>\n",
       "      <td>168</td>\n",
       "      <td>18</td>\n",
       "      <td>93</td>\n",
       "      <td>88</td>\n",
       "      <td>2</td>\n",
       "      <td>30</td>\n",
       "      <td>5</td>\n",
       "      <td>30000</td>\n",
       "    </tr>\n",
       "    <tr>\n",
       "      <th>糸井 嘉男</th>\n",
       "      <td>阪神</td>\n",
       "      <td>0.3140</td>\n",
       "      <td>444</td>\n",
       "      <td>120</td>\n",
       "      <td>5</td>\n",
       "      <td>42</td>\n",
       "      <td>63</td>\n",
       "      <td>9</td>\n",
       "      <td>38</td>\n",
       "      <td>17</td>\n",
       "      <td>40000</td>\n",
       "    </tr>\n",
       "    <tr>\n",
       "      <th>大島 洋平</th>\n",
       "      <td>中日</td>\n",
       "      <td>0.3118</td>\n",
       "      <td>623</td>\n",
       "      <td>174</td>\n",
       "      <td>3</td>\n",
       "      <td>45</td>\n",
       "      <td>78</td>\n",
       "      <td>30</td>\n",
       "      <td>33</td>\n",
       "      <td>11</td>\n",
       "      <td>25000</td>\n",
       "    </tr>\n",
       "    <tr>\n",
       "      <th>坂本 勇人</th>\n",
       "      <td>巨人</td>\n",
       "      <td>0.3117</td>\n",
       "      <td>639</td>\n",
       "      <td>173</td>\n",
       "      <td>40</td>\n",
       "      <td>94</td>\n",
       "      <td>123</td>\n",
       "      <td>5</td>\n",
       "      <td>30</td>\n",
       "      <td>14</td>\n",
       "      <td>50000</td>\n",
       "    </tr>\n",
       "  </tbody>\n",
       "</table>\n",
       "</div>"
      ],
      "text/plain": [
       "      チーム      打率   打席  安打数  ホームラン  打点   三振  盗塁  年齢  勤続年数  推定年俸(万円)\n",
       "選手名                                                                \n",
       "鈴木 誠也  広島  0.3350  612  167     28  87   81  25  25     8     28000\n",
       "ビシエド   中日  0.3150  594  168     18  93   88   2  30     5     30000\n",
       "糸井 嘉男  阪神  0.3140  444  120      5  42   63   9  38    17     40000\n",
       "大島 洋平  中日  0.3118  623  174      3  45   78  30  33    11     25000\n",
       "坂本 勇人  巨人  0.3117  639  173     40  94  123   5  30    14     50000"
      ]
     },
     "execution_count": 9,
     "metadata": {},
     "output_type": "execute_result"
    }
   ],
   "source": [
    "df.head()"
   ]
  },
  {
   "cell_type": "code",
   "execution_count": 13,
   "metadata": {},
   "outputs": [
    {
     "data": {
      "text/html": [
       "<div>\n",
       "<style scoped>\n",
       "    .dataframe tbody tr th:only-of-type {\n",
       "        vertical-align: middle;\n",
       "    }\n",
       "\n",
       "    .dataframe tbody tr th {\n",
       "        vertical-align: top;\n",
       "    }\n",
       "\n",
       "    .dataframe thead th {\n",
       "        text-align: right;\n",
       "    }\n",
       "</style>\n",
       "<table border=\"1\" class=\"dataframe\">\n",
       "  <thead>\n",
       "    <tr style=\"text-align: right;\">\n",
       "      <th></th>\n",
       "      <th>チーム</th>\n",
       "      <th>打率</th>\n",
       "      <th>打席</th>\n",
       "      <th>安打数</th>\n",
       "      <th>ホームラン</th>\n",
       "      <th>打点</th>\n",
       "      <th>三振</th>\n",
       "      <th>盗塁</th>\n",
       "      <th>年齢</th>\n",
       "      <th>勤続年数</th>\n",
       "      <th>推定年俸(万円)</th>\n",
       "    </tr>\n",
       "    <tr>\n",
       "      <th>選手名</th>\n",
       "      <th></th>\n",
       "      <th></th>\n",
       "      <th></th>\n",
       "      <th></th>\n",
       "      <th></th>\n",
       "      <th></th>\n",
       "      <th></th>\n",
       "      <th></th>\n",
       "      <th></th>\n",
       "      <th></th>\n",
       "      <th></th>\n",
       "    </tr>\n",
       "  </thead>\n",
       "  <tbody>\n",
       "    <tr>\n",
       "      <th>大和</th>\n",
       "      <td>DeNA</td>\n",
       "      <td>0.237</td>\n",
       "      <td>490</td>\n",
       "      <td>104</td>\n",
       "      <td>0</td>\n",
       "      <td>37</td>\n",
       "      <td>75</td>\n",
       "      <td>3</td>\n",
       "      <td>31</td>\n",
       "      <td>15</td>\n",
       "      <td>10000</td>\n",
       "    </tr>\n",
       "    <tr>\n",
       "      <th>村上 宗隆</th>\n",
       "      <td>ヤクルト</td>\n",
       "      <td>0.231</td>\n",
       "      <td>593</td>\n",
       "      <td>118</td>\n",
       "      <td>36</td>\n",
       "      <td>96</td>\n",
       "      <td>184</td>\n",
       "      <td>5</td>\n",
       "      <td>19</td>\n",
       "      <td>3</td>\n",
       "      <td>4500</td>\n",
       "    </tr>\n",
       "  </tbody>\n",
       "</table>\n",
       "</div>"
      ],
      "text/plain": [
       "        チーム     打率   打席  安打数  ホームラン  打点   三振  盗塁  年齢  勤続年数  推定年俸(万円)\n",
       "選手名                                                                 \n",
       "大和     DeNA  0.237  490  104      0  37   75   3  31    15     10000\n",
       "村上 宗隆  ヤクルト  0.231  593  118     36  96  184   5  19     3      4500"
      ]
     },
     "execution_count": 13,
     "metadata": {},
     "output_type": "execute_result"
    }
   ],
   "source": [
    "df.tail(2)"
   ]
  },
  {
   "cell_type": "code",
   "execution_count": 3,
   "metadata": {},
   "outputs": [
    {
     "data": {
      "text/html": [
       "<div>\n",
       "<style scoped>\n",
       "    .dataframe tbody tr th:only-of-type {\n",
       "        vertical-align: middle;\n",
       "    }\n",
       "\n",
       "    .dataframe tbody tr th {\n",
       "        vertical-align: top;\n",
       "    }\n",
       "\n",
       "    .dataframe thead th {\n",
       "        text-align: right;\n",
       "    }\n",
       "</style>\n",
       "<table border=\"1\" class=\"dataframe\">\n",
       "  <thead>\n",
       "    <tr style=\"text-align: right;\">\n",
       "      <th></th>\n",
       "      <th>打率</th>\n",
       "      <th>打席</th>\n",
       "      <th>安打数</th>\n",
       "      <th>ホームラン</th>\n",
       "      <th>打点</th>\n",
       "      <th>三振</th>\n",
       "      <th>盗塁</th>\n",
       "      <th>年齢</th>\n",
       "      <th>勤続年数</th>\n",
       "      <th>推定年俸(万円)</th>\n",
       "    </tr>\n",
       "  </thead>\n",
       "  <tbody>\n",
       "    <tr>\n",
       "      <th>count</th>\n",
       "      <td>28.000000</td>\n",
       "      <td>28.000000</td>\n",
       "      <td>28.000000</td>\n",
       "      <td>28.000000</td>\n",
       "      <td>28.000000</td>\n",
       "      <td>28.000000</td>\n",
       "      <td>28.000000</td>\n",
       "      <td>28.000000</td>\n",
       "      <td>28.000000</td>\n",
       "      <td>28.000000</td>\n",
       "    </tr>\n",
       "    <tr>\n",
       "      <th>mean</th>\n",
       "      <td>0.278929</td>\n",
       "      <td>553.178571</td>\n",
       "      <td>136.035714</td>\n",
       "      <td>16.285714</td>\n",
       "      <td>64.678571</td>\n",
       "      <td>92.750000</td>\n",
       "      <td>9.250000</td>\n",
       "      <td>28.892857</td>\n",
       "      <td>8.714286</td>\n",
       "      <td>18221.428571</td>\n",
       "    </tr>\n",
       "    <tr>\n",
       "      <th>std</th>\n",
       "      <td>0.025125</td>\n",
       "      <td>69.624418</td>\n",
       "      <td>20.996441</td>\n",
       "      <td>12.516233</td>\n",
       "      <td>22.607854</td>\n",
       "      <td>28.694592</td>\n",
       "      <td>10.383837</td>\n",
       "      <td>4.708851</td>\n",
       "      <td>4.744253</td>\n",
       "      <td>14647.091916</td>\n",
       "    </tr>\n",
       "    <tr>\n",
       "      <th>min</th>\n",
       "      <td>0.231000</td>\n",
       "      <td>444.000000</td>\n",
       "      <td>100.000000</td>\n",
       "      <td>0.000000</td>\n",
       "      <td>35.000000</td>\n",
       "      <td>35.000000</td>\n",
       "      <td>0.000000</td>\n",
       "      <td>19.000000</td>\n",
       "      <td>2.000000</td>\n",
       "      <td>3000.000000</td>\n",
       "    </tr>\n",
       "    <tr>\n",
       "      <th>25%</th>\n",
       "      <td>0.265750</td>\n",
       "      <td>488.500000</td>\n",
       "      <td>121.500000</td>\n",
       "      <td>6.750000</td>\n",
       "      <td>45.000000</td>\n",
       "      <td>74.250000</td>\n",
       "      <td>2.000000</td>\n",
       "      <td>25.000000</td>\n",
       "      <td>4.750000</td>\n",
       "      <td>6300.000000</td>\n",
       "    </tr>\n",
       "    <tr>\n",
       "      <th>50%</th>\n",
       "      <td>0.275000</td>\n",
       "      <td>579.000000</td>\n",
       "      <td>132.000000</td>\n",
       "      <td>13.000000</td>\n",
       "      <td>59.000000</td>\n",
       "      <td>85.500000</td>\n",
       "      <td>5.000000</td>\n",
       "      <td>29.000000</td>\n",
       "      <td>8.000000</td>\n",
       "      <td>12500.000000</td>\n",
       "    </tr>\n",
       "    <tr>\n",
       "      <th>75%</th>\n",
       "      <td>0.293875</td>\n",
       "      <td>613.750000</td>\n",
       "      <td>149.250000</td>\n",
       "      <td>27.250000</td>\n",
       "      <td>87.500000</td>\n",
       "      <td>107.750000</td>\n",
       "      <td>14.000000</td>\n",
       "      <td>31.000000</td>\n",
       "      <td>12.250000</td>\n",
       "      <td>28500.000000</td>\n",
       "    </tr>\n",
       "    <tr>\n",
       "      <th>max</th>\n",
       "      <td>0.335000</td>\n",
       "      <td>641.000000</td>\n",
       "      <td>174.000000</td>\n",
       "      <td>43.000000</td>\n",
       "      <td>108.000000</td>\n",
       "      <td>184.000000</td>\n",
       "      <td>36.000000</td>\n",
       "      <td>38.000000</td>\n",
       "      <td>18.000000</td>\n",
       "      <td>50000.000000</td>\n",
       "    </tr>\n",
       "  </tbody>\n",
       "</table>\n",
       "</div>"
      ],
      "text/plain": [
       "              打率          打席         安打数      ホームラン          打点          三振  \\\n",
       "count  28.000000   28.000000   28.000000  28.000000   28.000000   28.000000   \n",
       "mean    0.278929  553.178571  136.035714  16.285714   64.678571   92.750000   \n",
       "std     0.025125   69.624418   20.996441  12.516233   22.607854   28.694592   \n",
       "min     0.231000  444.000000  100.000000   0.000000   35.000000   35.000000   \n",
       "25%     0.265750  488.500000  121.500000   6.750000   45.000000   74.250000   \n",
       "50%     0.275000  579.000000  132.000000  13.000000   59.000000   85.500000   \n",
       "75%     0.293875  613.750000  149.250000  27.250000   87.500000  107.750000   \n",
       "max     0.335000  641.000000  174.000000  43.000000  108.000000  184.000000   \n",
       "\n",
       "              盗塁         年齢       勤続年数      推定年俸(万円)  \n",
       "count  28.000000  28.000000  28.000000     28.000000  \n",
       "mean    9.250000  28.892857   8.714286  18221.428571  \n",
       "std    10.383837   4.708851   4.744253  14647.091916  \n",
       "min     0.000000  19.000000   2.000000   3000.000000  \n",
       "25%     2.000000  25.000000   4.750000   6300.000000  \n",
       "50%     5.000000  29.000000   8.000000  12500.000000  \n",
       "75%    14.000000  31.000000  12.250000  28500.000000  \n",
       "max    36.000000  38.000000  18.000000  50000.000000  "
      ]
     },
     "execution_count": 3,
     "metadata": {},
     "output_type": "execute_result"
    }
   ],
   "source": [
    "df.describe()"
   ]
  },
  {
   "cell_type": "code",
   "execution_count": 18,
   "metadata": {},
   "outputs": [
    {
     "data": {
      "text/plain": [
       "'広島'"
      ]
     },
     "execution_count": 18,
     "metadata": {},
     "output_type": "execute_result"
    }
   ],
   "source": [
    "df.loc[\"鈴木 誠也\", \"チーム\"]"
   ]
  },
  {
   "cell_type": "code",
   "execution_count": 19,
   "metadata": {},
   "outputs": [
    {
     "data": {
      "text/plain": [
       "594"
      ]
     },
     "execution_count": 19,
     "metadata": {},
     "output_type": "execute_result"
    }
   ],
   "source": [
    "df.iloc[1,2]"
   ]
  },
  {
   "cell_type": "code",
   "execution_count": 20,
   "metadata": {},
   "outputs": [
    {
     "data": {
      "text/plain": [
       "選手名\n",
       "鈴木 誠也     0.3350\n",
       "ビシエド      0.3150\n",
       "糸井 嘉男     0.3140\n",
       "大島 洋平     0.3118\n",
       "坂本 勇人     0.3117\n",
       "西川 龍馬     0.2971\n",
       "青木 宣親     0.2965\n",
       "高橋 周平     0.2930\n",
       "丸 佳浩      0.2920\n",
       "阿部 寿樹     0.2910\n",
       "亀井 善行     0.2844\n",
       "宮﨑 敏郎     0.2840\n",
       "神里 和毅     0.2790\n",
       "會澤 翼      0.2770\n",
       "雄平        0.2730\n",
       "近本 光司     0.2713\n",
       "山田 哲人     0.2711\n",
       "ソト        0.2693\n",
       "中村 悠平     0.2688\n",
       "糸原 健斗     0.2670\n",
       "梅野 隆太郎    0.2660\n",
       "岡本 和真     0.2650\n",
       "菊池 涼介     0.2610\n",
       "大山 悠輔     0.2580\n",
       "京田 陽太     0.2490\n",
       "ロペス       0.2410\n",
       "大和        0.2370\n",
       "村上 宗隆     0.2310\n",
       "Name: 打率, dtype: float64"
      ]
     },
     "execution_count": 20,
     "metadata": {},
     "output_type": "execute_result"
    }
   ],
   "source": [
    "df.iloc[:,1]"
   ]
  },
  {
   "cell_type": "code",
   "execution_count": 22,
   "metadata": {},
   "outputs": [],
   "source": [
    "S = df[\"ホームラン\"]"
   ]
  },
  {
   "cell_type": "code",
   "execution_count": 23,
   "metadata": {},
   "outputs": [
    {
     "data": {
      "text/plain": [
       "選手名\n",
       "鈴木 誠也     28\n",
       "ビシエド      18\n",
       "糸井 嘉男      5\n",
       "大島 洋平      3\n",
       "坂本 勇人     40\n",
       "西川 龍馬     16\n",
       "青木 宣親     16\n",
       "高橋 周平      7\n",
       "丸 佳浩      27\n",
       "阿部 寿樹      7\n",
       "亀井 善行     13\n",
       "宮﨑 敏郎     15\n",
       "神里 和毅      6\n",
       "會澤 翼      12\n",
       "雄平        12\n",
       "近本 光司      9\n",
       "山田 哲人     35\n",
       "ソト        43\n",
       "中村 悠平      5\n",
       "糸原 健斗      2\n",
       "梅野 隆太郎     9\n",
       "岡本 和真     31\n",
       "菊池 涼介     13\n",
       "大山 悠輔     14\n",
       "京田 陽太      3\n",
       "ロペス       31\n",
       "大和         0\n",
       "村上 宗隆     36\n",
       "Name: ホームラン, dtype: int64"
      ]
     },
     "execution_count": 23,
     "metadata": {},
     "output_type": "execute_result"
    }
   ],
   "source": [
    "S"
   ]
  },
  {
   "cell_type": "code",
   "execution_count": 7,
   "metadata": {},
   "outputs": [],
   "source": [
    "team = df.iloc[:,0].values"
   ]
  },
  {
   "cell_type": "code",
   "execution_count": 25,
   "metadata": {},
   "outputs": [
    {
     "name": "stdout",
     "output_type": "stream",
     "text": [
      "['広島' '中日' '阪神' '中日' '巨人' '広島' 'ヤクルト' '中日' '巨人' '中日' '巨人' 'DeNA' 'DeNA'\n",
      " '広島' 'ヤクルト' '阪神' 'ヤクルト' 'DeNA' 'ヤクルト' '阪神' '阪神' '巨人' '広島' '阪神' '中日'\n",
      " 'DeNA' 'DeNA' 'ヤクルト']\n"
     ]
    }
   ],
   "source": [
    "print(team)"
   ]
  },
  {
   "cell_type": "code",
   "execution_count": 8,
   "metadata": {},
   "outputs": [],
   "source": [
    "data = df.iloc[:,1:10].values\n",
    "salary = df.iloc[:,10].values"
   ]
  },
  {
   "cell_type": "code",
   "execution_count": 5,
   "metadata": {},
   "outputs": [
    {
     "data": {
      "text/plain": [
       "array([[3.350e-01, 6.120e+02, 1.670e+02, 2.800e+01, 8.700e+01, 8.100e+01,\n",
       "        2.500e+01, 2.500e+01, 8.000e+00],\n",
       "       [3.150e-01, 5.940e+02, 1.680e+02, 1.800e+01, 9.300e+01, 8.800e+01,\n",
       "        2.000e+00, 3.000e+01, 5.000e+00],\n",
       "       [3.140e-01, 4.440e+02, 1.200e+02, 5.000e+00, 4.200e+01, 6.300e+01,\n",
       "        9.000e+00, 3.800e+01, 1.700e+01],\n",
       "       [3.118e-01, 6.230e+02, 1.740e+02, 3.000e+00, 4.500e+01, 7.800e+01,\n",
       "        3.000e+01, 3.300e+01, 1.100e+01],\n",
       "       [3.117e-01, 6.390e+02, 1.730e+02, 4.000e+01, 9.400e+01, 1.230e+02,\n",
       "        5.000e+00, 3.000e+01, 1.400e+01],\n",
       "       [2.971e-01, 5.850e+02, 1.590e+02, 1.600e+01, 6.400e+01, 8.100e+01,\n",
       "        6.000e+00, 2.400e+01, 5.000e+00],\n",
       "       [2.965e-01, 5.650e+02, 1.450e+02, 1.600e+01, 5.800e+01, 7.200e+01,\n",
       "        1.000e+00, 3.700e+01, 1.100e+01],\n",
       "       [2.930e-01, 4.710e+02, 1.260e+02, 7.000e+00, 5.900e+01, 7.000e+01,\n",
       "        3.000e+00, 2.500e+01, 9.000e+00],\n",
       "       [2.920e-01, 6.310e+02, 1.560e+02, 2.700e+01, 8.900e+01, 1.250e+02,\n",
       "        1.200e+01, 3.000e+01, 1.300e+01],\n",
       "       [2.910e-01, 4.840e+02, 1.300e+02, 7.000e+00, 5.900e+01, 8.200e+01,\n",
       "        1.000e+00, 2.900e+01, 5.000e+00],\n",
       "       [2.844e-01, 5.030e+02, 1.280e+02, 1.300e+01, 5.500e+01, 9.100e+01,\n",
       "        9.000e+00, 3.700e+01, 1.600e+01],\n",
       "       [2.840e-01, 4.730e+02, 1.230e+02, 1.500e+01, 4.900e+01, 3.500e+01,\n",
       "        0.000e+00, 3.000e+01, 8.000e+00],\n",
       "       [2.790e-01, 4.580e+02, 1.190e+02, 6.000e+00, 3.500e+01, 1.210e+02,\n",
       "        1.500e+01, 2.500e+01, 3.000e+00],\n",
       "       [2.770e-01, 4.470e+02, 1.040e+02, 1.200e+01, 6.300e+01, 8.100e+01,\n",
       "        2.000e+00, 3.100e+01, 1.400e+01],\n",
       "       [2.730e-01, 4.930e+02, 1.220e+02, 1.200e+01, 5.600e+01, 7.100e+01,\n",
       "        4.000e+00, 3.500e+01, 1.800e+01],\n",
       "       [2.713e-01, 6.400e+02, 1.590e+02, 9.000e+00, 4.200e+01, 1.100e+02,\n",
       "        3.600e+01, 2.400e+01, 2.000e+00],\n",
       "       [2.711e-01, 6.410e+02, 1.410e+02, 3.500e+01, 9.800e+01, 1.210e+02,\n",
       "        3.300e+01, 2.700e+01, 1.000e+01],\n",
       "       [2.693e-01, 5.840e+02, 1.390e+02, 4.300e+01, 1.080e+02, 9.800e+01,\n",
       "        0.000e+00, 3.000e+01, 3.000e+00],\n",
       "       [2.688e-01, 4.500e+02, 1.000e+02, 5.000e+00, 3.600e+01, 6.400e+01,\n",
       "        1.000e+00, 2.900e+01, 1.200e+01],\n",
       "       [2.670e-01, 5.720e+02, 1.310e+02, 2.000e+00, 4.500e+01, 7.000e+01,\n",
       "        6.000e+00, 2.600e+01, 4.000e+00],\n",
       "       [2.660e-01, 4.920e+02, 1.150e+02, 9.000e+00, 5.900e+01, 8.300e+01,\n",
       "        1.400e+01, 2.800e+01, 7.000e+00],\n",
       "       [2.650e-01, 6.280e+02, 1.470e+02, 3.100e+01, 9.400e+01, 1.320e+02,\n",
       "        3.000e+00, 2.300e+01, 6.000e+00],\n",
       "       [2.610e-01, 6.190e+02, 1.430e+02, 1.300e+01, 4.800e+01, 1.020e+02,\n",
       "        1.400e+01, 2.900e+01, 9.000e+00],\n",
       "       [2.580e-01, 5.870e+02, 1.390e+02, 1.400e+01, 7.600e+01, 9.800e+01,\n",
       "        3.000e+00, 2.400e+01, 4.000e+00],\n",
       "       [2.490e-01, 5.740e+02, 1.260e+02, 3.000e+00, 4.000e+01, 9.100e+01,\n",
       "        1.700e+01, 2.500e+01, 4.000e+00],\n",
       "       [2.410e-01, 5.970e+02, 1.330e+02, 3.100e+01, 8.400e+01, 1.070e+02,\n",
       "        0.000e+00, 3.500e+01, 8.000e+00],\n",
       "       [2.370e-01, 4.900e+02, 1.040e+02, 0.000e+00, 3.700e+01, 7.500e+01,\n",
       "        3.000e+00, 3.100e+01, 1.500e+01],\n",
       "       [2.310e-01, 5.930e+02, 1.180e+02, 3.600e+01, 9.600e+01, 1.840e+02,\n",
       "        5.000e+00, 1.900e+01, 3.000e+00]])"
      ]
     },
     "execution_count": 5,
     "metadata": {},
     "output_type": "execute_result"
    }
   ],
   "source": [
    "data"
   ]
  },
  {
   "cell_type": "code",
   "execution_count": 6,
   "metadata": {},
   "outputs": [
    {
     "data": {
      "text/plain": [
       "array([28000, 30000, 40000, 25000, 50000,  6800, 34000,  6000, 45000,\n",
       "        3000, 11000, 16000,  4800, 18000, 10000,  4500, 50000, 18500,\n",
       "        9000,  6000, 10000, 14000, 30000,  4700,  6400, 15000, 10000,\n",
       "        4500])"
      ]
     },
     "execution_count": 6,
     "metadata": {},
     "output_type": "execute_result"
    }
   ],
   "source": [
    "salary"
   ]
  },
  {
   "cell_type": "code",
   "execution_count": 9,
   "metadata": {},
   "outputs": [],
   "source": [
    "idx = df.index.values"
   ]
  },
  {
   "cell_type": "code",
   "execution_count": 31,
   "metadata": {},
   "outputs": [
    {
     "data": {
      "text/plain": [
       "array(['鈴木 誠也', 'ビシエド', '糸井 嘉男', '大島 洋平', '坂本 勇人', '西川 龍馬', '青木 宣親',\n",
       "       '高橋 周平', '丸 佳浩', '阿部 寿樹', '亀井 善行', '宮﨑 敏郎', '神里 和毅', '會澤 翼', '雄平',\n",
       "       '近本 光司', '山田 哲人', 'ソト', '中村 悠平', '糸原 健斗', '梅野 隆太郎', '岡本 和真',\n",
       "       '菊池 涼介', '大山 悠輔', '京田 陽太', 'ロペス', '大和', '村上 宗隆'], dtype=object)"
      ]
     },
     "execution_count": 31,
     "metadata": {},
     "output_type": "execute_result"
    }
   ],
   "source": [
    "idx"
   ]
  },
  {
   "cell_type": "code",
   "execution_count": 10,
   "metadata": {},
   "outputs": [],
   "source": [
    "col = df.columns.values"
   ]
  },
  {
   "cell_type": "code",
   "execution_count": 33,
   "metadata": {},
   "outputs": [
    {
     "data": {
      "text/plain": [
       "array(['チーム', '打率', '打席', '安打数', 'ホームラン', '打点', '三振', '盗塁', '年齢', '勤続年数',\n",
       "       '推定年俸(万円)'], dtype=object)"
      ]
     },
     "execution_count": 33,
     "metadata": {},
     "output_type": "execute_result"
    }
   ],
   "source": [
    "col"
   ]
  },
  {
   "cell_type": "code",
   "execution_count": 34,
   "metadata": {},
   "outputs": [
    {
     "data": {
      "text/plain": [
       "array([28000, 30000, 40000, 25000, 50000,  6800, 34000,  6000, 45000,\n",
       "        3000, 11000, 16000,  4800, 18000, 10000,  4500, 50000, 18500,\n",
       "        9000,  6000, 10000, 14000, 30000,  4700,  6400, 15000, 10000,\n",
       "        4500])"
      ]
     },
     "execution_count": 34,
     "metadata": {},
     "output_type": "execute_result"
    }
   ],
   "source": [
    "salary"
   ]
  },
  {
   "cell_type": "code",
   "execution_count": 42,
   "metadata": {},
   "outputs": [
    {
     "data": {
      "image/png": "[encoded data removed]",
      "text/plain": [
       "<Figure size 360x360 with 1 Axes>"
      ]
     },
     "metadata": {
      "needs_background": "light"
     },
     "output_type": "display_data"
    }
   ],
   "source": [
    "plt.figure(figsize = (5,5))\n",
    "plt.hist(salary)\n",
    "plt.title(\"salary\",fontsize = 20)\n",
    "plt.xlabel(\"10000 yen\")\n",
    "plt.ylabel(\"frequency\")\n",
    "plt.show()"
   ]
  },
  {
   "cell_type": "code",
   "execution_count": 47,
   "metadata": {},
   "outputs": [
    {
     "data": {
      "image/png": "[encoded data removed]",
      "text/plain": [
       "<Figure size 360x360 with 1 Axes>"
      ]
     },
     "metadata": {
      "needs_background": "light"
     },
     "output_type": "display_data"
    }
   ],
   "source": [
    "plt.figure(figsize = (5,5))\n",
    "plt.hist(data[:,0],bins= 6 ,color = [0.2,0,0.3],alpha=0.3)\n",
    "plt.title(\"average\")\n",
    "plt.show()"
   ]
  },
  {
   "cell_type": "code",
   "execution_count": 48,
   "metadata": {},
   "outputs": [
    {
     "data": {
      "text/plain": [
       "(array([4., 5., 4., 6., 1., 0., 2., 2., 2., 2.]),\n",
       " array([ 0. ,  4.3,  8.6, 12.9, 17.2, 21.5, 25.8, 30.1, 34.4, 38.7, 43. ]),\n",
       " <a list of 10 Patch objects>)"
      ]
     },
     "execution_count": 48,
     "metadata": {},
     "output_type": "execute_result"
    },
    {
     "data": {
      "image/png": "[encoded data removed]",
      "text/plain": [
       "<Figure size 432x288 with 4 Axes>"
      ]
     },
     "metadata": {
      "needs_background": "light"
     },
     "output_type": "display_data"
    }
   ],
   "source": [
    "plt.subplot(2,2,1)\n",
    "plt.hist(data[:,0])\n",
    "\n",
    "plt.subplot(2,2,2)\n",
    "plt.hist(data[:,1])\n",
    "\n",
    "plt.subplot(2,2,3)\n",
    "plt.hist(data[:,2])\n",
    "\n",
    "plt.subplot(2,2,4)\n",
    "plt.hist(data[:,3])"
   ]
  },
  {
   "cell_type": "code",
   "execution_count": 49,
   "metadata": {},
   "outputs": [
    {
     "data": {
      "text/plain": [
       "array(['チーム', '打率', '打席', '安打数', 'ホームラン', '打点', '三振', '盗塁', '年齢', '勤続年数',\n",
       "       '推定年俸(万円)'], dtype=object)"
      ]
     },
     "execution_count": 49,
     "metadata": {},
     "output_type": "execute_result"
    }
   ],
   "source": [
    "col"
   ]
  },
  {
   "cell_type": "code",
   "execution_count": 18,
   "metadata": {},
   "outputs": [],
   "source": [
    "col = col[1:10].copy()"
   ]
  },
  {
   "cell_type": "code",
   "execution_count": 21,
   "metadata": {},
   "outputs": [
    {
     "data": {
      "image/png": "[encoded data removed]",
      "text/plain": [
       "<Figure size 648x648 with 9 Axes>"
      ]
     },
     "metadata": {
      "needs_background": "light"
     },
     "output_type": "display_data"
    }
   ],
   "source": [
    "col_e=[\"Ave\",\"at-bat\",\"HIT\",\"HOMERUN\",\"RBI\",\"Swing- Out\",\"steal\",\"age\",\"working years\"]\n",
    "plt.figure(figsize = (9,9))\n",
    "for i in range(9):\n",
    "    plt.subplot(3,3,i+1)\n",
    "    plt.hist(data[:,i])\n",
    "    plt.title(col_e[i])"
   ]
  },
  {
   "cell_type": "code",
   "execution_count": 54,
   "metadata": {},
   "outputs": [
    {
     "data": {
      "text/plain": [
       "array([0.335 , 0.315 , 0.314 , 0.3118, 0.3117, 0.2971, 0.2965, 0.293 ,\n",
       "       0.292 , 0.291 , 0.2844, 0.284 , 0.279 , 0.277 , 0.273 , 0.2713,\n",
       "       0.2711, 0.2693, 0.2688, 0.267 , 0.266 , 0.265 , 0.261 , 0.258 ,\n",
       "       0.249 , 0.241 , 0.237 , 0.231 ])"
      ]
     },
     "execution_count": 54,
     "metadata": {},
     "output_type": "execute_result"
    }
   ],
   "source": [
    "data[:,0]"
   ]
  },
  {
   "cell_type": "code",
   "execution_count": 55,
   "metadata": {},
   "outputs": [
    {
     "data": {
      "text/plain": [
       "array(['広島', '中日', '阪神', '中日', '巨人', '広島', 'ヤクルト', '中日', '巨人', '中日', '巨人',\n",
       "       'DeNA', 'DeNA', '広島', 'ヤクルト', '阪神', 'ヤクルト', 'DeNA', 'ヤクルト', '阪神',\n",
       "       '阪神', '巨人', '広島', '阪神', '中日', 'DeNA', 'DeNA', 'ヤクルト'], dtype=object)"
      ]
     },
     "execution_count": 55,
     "metadata": {},
     "output_type": "execute_result"
    }
   ],
   "source": [
    "team"
   ]
  },
  {
   "cell_type": "code",
   "execution_count": 56,
   "metadata": {},
   "outputs": [
    {
     "data": {
      "text/plain": [
       "array([0.3117, 0.292 , 0.2844, 0.265 ])"
      ]
     },
     "execution_count": 56,
     "metadata": {},
     "output_type": "execute_result"
    }
   ],
   "source": [
    "data[team == \"巨人\",0]"
   ]
  },
  {
   "cell_type": "code",
   "execution_count": 57,
   "metadata": {},
   "outputs": [
    {
     "data": {
      "text/plain": [
       "array([0.335 , 0.315 , 0.314 , 0.3118, 0.3117, 0.2965, 0.292 , 0.2844,\n",
       "       0.284 , 0.277 , 0.2711, 0.2693, 0.265 , 0.261 , 0.241 ])"
      ]
     },
     "execution_count": 57,
     "metadata": {},
     "output_type": "execute_result"
    }
   ],
   "source": [
    "data[salary>10000,0]"
   ]
  },
  {
   "cell_type": "code",
   "execution_count": 63,
   "metadata": {},
   "outputs": [
    {
     "data": {
      "text/plain": [
       "(array([1., 0., 0., 0., 1., 0., 0., 0., 0., 2.]),\n",
       " array([ 6800.,  9120., 11440., 13760., 16080., 18400., 20720., 23040.,\n",
       "        25360., 27680., 30000.]),\n",
       " <a list of 10 Patch objects>)"
      ]
     },
     "execution_count": 63,
     "metadata": {},
     "output_type": "execute_result"
    },
    {
     "data": {
      "image/png": "[encoded data removed]",
      "text/plain": [
       "<Figure size 432x288 with 1 Axes>"
      ]
     },
     "metadata": {
      "needs_background": "light"
     },
     "output_type": "display_data"
    }
   ],
   "source": [
    "plt.hist(salary[team==\"巨人\"],alpha = 0.5)\n",
    "plt.hist(salary[team==\"阪神\"],alpha = 0.5)\n",
    "plt.hist(salary[team==\"広島\"],alpha = 0.5)"
   ]
  },
  {
   "cell_type": "code",
   "execution_count": 64,
   "metadata": {},
   "outputs": [
    {
     "data": {
      "text/plain": [
       "18221.428571428572"
      ]
     },
     "execution_count": 64,
     "metadata": {},
     "output_type": "execute_result"
    }
   ],
   "source": [
    "np.mean(salary)"
   ]
  },
  {
   "cell_type": "code",
   "execution_count": 65,
   "metadata": {},
   "outputs": [
    {
     "data": {
      "text/plain": [
       "30000.0"
      ]
     },
     "execution_count": 65,
     "metadata": {},
     "output_type": "execute_result"
    }
   ],
   "source": [
    "np.mean(salary[team==\"巨人\"])"
   ]
  },
  {
   "cell_type": "code",
   "execution_count": 11,
   "metadata": {},
   "outputs": [
    {
     "data": {
      "text/plain": [
       "<BarContainer object of 2 artists>"
      ]
     },
     "execution_count": 11,
     "metadata": {},
     "output_type": "execute_result"
    },
    {
     "data": {
      "image/png": "[encoded data removed]",
      "text/plain": [
       "<Figure size 432x288 with 1 Axes>"
      ]
     },
     "metadata": {
      "needs_background": "light"
     },
     "output_type": "display_data"
    }
   ],
   "source": [
    "G=np.mean(salary[team==\"巨人\"])\n",
    "H=np.mean(salary[team==\"阪神\"])\n",
    "\n",
    "plt.bar([\"giants\",\"tigers\"],[G,H])"
   ]
  },
  {
   "cell_type": "code",
   "execution_count": 71,
   "metadata": {},
   "outputs": [
    {
     "name": "stdout",
     "output_type": "stream",
     "text": [
      "[27.75  7.8  17.25  7.6  20.8  19.  ]\n"
     ]
    },
    {
     "data": {
      "text/plain": [
       "<BarContainer object of 6 artists>"
      ]
     },
     "execution_count": 71,
     "metadata": {},
     "output_type": "execute_result"
    },
    {
     "data": {
      "image/png": "[encoded data removed]",
      "text/plain": [
       "<Figure size 432x288 with 1 Axes>"
      ]
     },
     "metadata": {
      "needs_background": "light"
     },
     "output_type": "display_data"
    }
   ],
   "source": [
    "name=[\"巨人\",\"阪神\",\"広島\",\"中日\", \"ヤクルト\", \"DeNA\"]\n",
    "name_e=[\"Giants\",\"Tigers\",\"Carp\",\"Dragons\",\"Swallows\",\"Baystars\"]\n",
    "\n",
    "M=np.zeros(6)\n",
    "for i in range(6):\n",
    "    M[i]=np.mean(data[team==name[i],3])\n",
    "print(M)\n",
    "\n",
    "plt.bar(name_e,M,width=0.5)"
   ]
  },
  {
   "cell_type": "code",
   "execution_count": 19,
   "metadata": {},
   "outputs": [
    {
     "data": {
      "text/plain": [
       "array(['打率', '打席', '安打数', 'ホームラン', '打点', '三振', '盗塁', '年齢', '勤続年数'],\n",
       "      dtype=object)"
      ]
     },
     "execution_count": 19,
     "metadata": {},
     "output_type": "execute_result"
    }
   ],
   "source": [
    "col"
   ]
  },
  {
   "cell_type": "code",
   "execution_count": 24,
   "metadata": {},
   "outputs": [
    {
     "data": {
      "image/png": "[encoded data removed]",
      "text/plain": [
       "<Figure size 1080x1080 with 9 Axes>"
      ]
     },
     "metadata": {
      "needs_background": "light"
     },
     "output_type": "display_data"
    }
   ],
   "source": [
    "plt.figure(figsize=(15,15))\n",
    "for i in range(9):\n",
    "    plt.subplot(3,3,i+1)\n",
    "    plt.scatter(data[:,i],salary)\n",
    "    plt.xlabel(col_e[i],fontsize=15)\n",
    "    plt.ylabel(\"salary\",fontsize=15)"
   ]
  },
  {
   "cell_type": "code",
   "execution_count": 25,
   "metadata": {},
   "outputs": [
    {
     "data": {
      "text/plain": [
       "LinearRegression()"
      ]
     },
     "execution_count": 25,
     "metadata": {},
     "output_type": "execute_result"
    }
   ],
   "source": [
    "from sklearn.linear_model import LinearRegression\n",
    "model = LinearRegression()\n",
    "model.fit(data[:,0].reshape(-1,1),salary)"
   ]
  },
  {
   "cell_type": "code",
   "execution_count": 26,
   "metadata": {},
   "outputs": [
    {
     "name": "stdout",
     "output_type": "stream",
     "text": [
      "[285735.95724755]\n",
      "-61478.493789405526\n"
     ]
    }
   ],
   "source": [
    "print(model.coef_)\n",
    "print(model.intercept_)"
   ]
  },
  {
   "cell_type": "code",
   "execution_count": 27,
   "metadata": {},
   "outputs": [
    {
     "data": {
      "text/plain": [
       "0.24024594693963797"
      ]
     },
     "execution_count": 27,
     "metadata": {},
     "output_type": "execute_result"
    }
   ],
   "source": [
    "model.score(data[:,0].reshape(-1,1),salary)"
   ]
  },
  {
   "cell_type": "code",
   "execution_count": 29,
   "metadata": {},
   "outputs": [
    {
     "data": {
      "text/plain": [
       "array([24242.29338486])"
      ]
     },
     "execution_count": 29,
     "metadata": {},
     "output_type": "execute_result"
    }
   ],
   "source": [
    "model.predict([[0.300]])"
   ]
  },
  {
   "cell_type": "code",
   "execution_count": 30,
   "metadata": {},
   "outputs": [
    {
     "data": {
      "text/plain": [
       "LinearRegression()"
      ]
     },
     "execution_count": 30,
     "metadata": {},
     "output_type": "execute_result"
    }
   ],
   "source": [
    "from sklearn.linear_model import LinearRegression\n",
    "model=LinearRegression()\n",
    "model.fit(data,salary)"
   ]
  },
  {
   "cell_type": "code",
   "execution_count": 32,
   "metadata": {},
   "outputs": [
    {
     "name": "stdout",
     "output_type": "stream",
     "text": [
      "係数、 [ 6.57436796e+05  3.07620860e+02 -9.43034494e+02  2.53257208e+02\n",
      " -4.99799750e+01  5.32777750e+01  6.43245927e+00  1.00996892e+03\n",
      "  6.58622757e+02]\n",
      "切片、 -247852.54421147727\n"
     ]
    }
   ],
   "source": [
    "print(\"係数、\",model.coef_)\n",
    "print(\"切片、\",model.intercept_)"
   ]
  },
  {
   "cell_type": "code",
   "execution_count": 33,
   "metadata": {},
   "outputs": [
    {
     "data": {
      "text/plain": [
       "0.7848177205264726"
      ]
     },
     "execution_count": 33,
     "metadata": {},
     "output_type": "execute_result"
    }
   ],
   "source": [
    "model.score(data,salary)"
   ]
  },
  {
   "cell_type": "code",
   "execution_count": null,
   "metadata": {},
   "outputs": [],
   "source": []
  }
 ],
 "metadata": {
  "kernelspec": {
   "display_name": "Python 3",
   "language": "python",
   "name": "python3"
  },
  "language_info": {
   "codemirror_mode": {
    "name": "ipython",
    "version": 3
   },
   "file_extension": ".py",
   "mimetype": "text/x-python",
   "name": "python",
   "nbconvert_exporter": "python",
   "pygments_lexer": "ipython3",
   "version": "3.8.3"
  }
 },
 "nbformat": 4,
 "nbformat_minor": 4
}
