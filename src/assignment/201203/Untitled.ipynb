{
 "cells": [
  {
   "cell_type": "code",
   "execution_count": 3,
   "metadata": {},
   "outputs": [],
   "source": [
    "import numpy as np\n",
    "import matplotlib.pyplot as plt"
   ]
  },
  {
   "cell_type": "code",
   "execution_count": 5,
   "metadata": {},
   "outputs": [
    {
     "name": "stdout",
     "output_type": "stream",
     "text": [
      "[20 21 22 23 24 25 26 27 28 29 30 31 32 33 34 35 36 37 38 39 40 41 42 43\n",
      " 44 45 46 47 48 49 50 51 52 53 54 55 56 57 58 59 60 61 62 63 64 65 66 67\n",
      " 68 69 70 71 72 73 74 75 76 77 78 79 80 81 82 83 84 85 86 87 88 89 90 91\n",
      " 92 93 94 95 96 97 98 99]\n"
     ]
    }
   ],
   "source": [
    "x=np.arange(20,100)\n",
    "print(x)"
   ]
  },
  {
   "cell_type": "code",
   "execution_count": 11,
   "metadata": {},
   "outputs": [],
   "source": [
    "y=5*x+100+np.random.normal(0,100,len(x))"
   ]
  },
  {
   "cell_type": "code",
   "execution_count": 14,
   "metadata": {},
   "outputs": [
    {
     "name": "stdout",
     "output_type": "stream",
     "text": [
      "[ 64.49946422 225.56704098 212.41176514 198.19646214 304.2318598\n",
      " 317.9124878  126.64415212 122.62502632 469.72590849 401.78622555\n",
      " 105.63605046 255.97907795 232.77011894 391.95568334 297.3516408\n",
      " 270.79651472 219.70605057 310.33609426 152.82740487 251.34508435\n",
      " 283.26238188 418.62278585 196.74612584 436.43604958 481.76124572\n",
      " 502.14122438 407.26336623 495.85474761 419.6517716  315.68712463\n",
      " 584.76238087 437.8300367  328.80797043 375.44668716 359.01166294\n",
      " 269.50033863 467.51361445 465.7936925  441.68615456 474.70549926\n",
      " 441.12859654 421.10873908 278.42001836 518.24067204 482.63669009\n",
      " 386.51805032 397.71563215 472.53373887 276.45320123 269.04737897\n",
      " 374.65281954 526.98886518 334.21395772 488.36121164 426.38173391\n",
      " 346.87326804 382.81316135 436.61549181 405.79555191 589.09559708\n",
      " 464.5630391  586.61117087 667.32627046 363.46128006 406.64653234\n",
      " 475.18616879 706.40269495 430.32629741 444.81547635 478.89288346\n",
      " 600.19504193 465.14255032 449.63787458 600.32276917 342.38388942\n",
      " 607.96337314 453.83193745 678.33584004 744.5498717  739.1958389 ]\n"
     ]
    }
   ],
   "source": [
    "print(y)"
   ]
  },
  {
   "cell_type": "code",
   "execution_count": 13,
   "metadata": {},
   "outputs": [
    {
     "data": {
      "text/plain": [
       "<matplotlib.collections.PathCollection at 0x1226e7f10>"
      ]
     },
     "execution_count": 13,
     "metadata": {},
     "output_type": "execute_result"
    },
    {
     "data": {
      "image/png": "[encoded data removed]",
      "text/plain": [
       "<Figure size 432x288 with 1 Axes>"
      ]
     },
     "metadata": {
      "needs_background": "light"
     },
     "output_type": "display_data"
    }
   ],
   "source": [
    "plt.scatter(x,y)"
   ]
  },
  {
   "cell_type": "code",
   "execution_count": 22,
   "metadata": {},
   "outputs": [
    {
     "name": "stdout",
     "output_type": "stream",
     "text": [
      "[4.33650159]\n",
      "142.6803320058802\n",
      "0.4838865884082061\n"
     ]
    }
   ],
   "source": [
    "from sklearn.linear_model import LinearRegression\n",
    "\n",
    "model=LinearRegression() #y=ax+bのモデルを使う\n",
    "model.fit(x.reshape(-1,1),y) #yはつけなくてもいい #学習。aとbをデータに基づいて決める\n",
    "\n",
    "print(model.coef_) #係数\n",
    "print(model.intercept_) #切片\n",
    "print(model.score(x.reshape(-1,1),y)) #どれくらいよくフィットしたか\n",
    "\n",
    "ybar=model.predict(x.reshape(-1,1))"
   ]
  },
  {
   "cell_type": "code",
   "execution_count": 18,
   "metadata": {},
   "outputs": [
    {
     "data": {
      "text/plain": [
       "array([229.41036389, 233.74686549, 238.08336708, 242.41986868,\n",
       "       246.75637027, 251.09287187, 255.42937346, 259.76587506,\n",
       "       264.10237665, 268.43887824, 272.77537984, 277.11188143,\n",
       "       281.44838303, 285.78488462, 290.12138622, 294.45788781,\n",
       "       298.7943894 , 303.130891  , 307.46739259, 311.80389419,\n",
       "       316.14039578, 320.47689738, 324.81339897, 329.14990057,\n",
       "       333.48640216, 337.82290375, 342.15940535, 346.49590694,\n",
       "       350.83240854, 355.16891013, 359.50541173, 363.84191332,\n",
       "       368.17841492, 372.51491651, 376.8514181 , 381.1879197 ,\n",
       "       385.52442129, 389.86092289, 394.19742448, 398.53392608,\n",
       "       402.87042767, 407.20692927, 411.54343086, 415.87993245,\n",
       "       420.21643405, 424.55293564, 428.88943724, 433.22593883,\n",
       "       437.56244043, 441.89894202, 446.23544362, 450.57194521,\n",
       "       454.9084468 , 459.2449484 , 463.58144999, 467.91795159,\n",
       "       472.25445318, 476.59095478, 480.92745637, 485.26395796,\n",
       "       489.60045956, 493.93696115, 498.27346275, 502.60996434,\n",
       "       506.94646594, 511.28296753, 515.61946913, 519.95597072,\n",
       "       524.29247231, 528.62897391, 532.9654755 , 537.3019771 ,\n",
       "       541.63847869, 545.97498029, 550.31148188, 554.64798348,\n",
       "       558.98448507, 563.32098666, 567.65748826, 571.99398985])"
      ]
     },
     "execution_count": 18,
     "metadata": {},
     "output_type": "execute_result"
    }
   ],
   "source": [
    "ybar"
   ]
  },
  {
   "cell_type": "code",
   "execution_count": 19,
   "metadata": {},
   "outputs": [
    {
     "data": {
      "text/plain": [
       "<matplotlib.collections.PathCollection at 0x122756cd0>"
      ]
     },
     "execution_count": 19,
     "metadata": {},
     "output_type": "execute_result"
    },
    {
     "data": {
      "image/png": "[encoded data removed]",
      "text/plain": [
       "<Figure size 360x360 with 1 Axes>"
      ]
     },
     "metadata": {
      "needs_background": "light"
     },
     "output_type": "display_data"
    }
   ],
   "source": [
    "plt.figure(figsize=(5,5))\n",
    "plt.scatter(ybar,y)"
   ]
  },
  {
   "cell_type": "code",
   "execution_count": 21,
   "metadata": {},
   "outputs": [
    {
     "data": {
      "text/plain": [
       "array([3178.2314481])"
      ]
     },
     "execution_count": 21,
     "metadata": {},
     "output_type": "execute_result"
    }
   ],
   "source": [
    "model.predict([[700]])"
   ]
  },
  {
   "cell_type": "code",
   "execution_count": null,
   "metadata": {},
   "outputs": [],
   "source": []
  }
 ],
 "metadata": {
  "kernelspec": {
   "display_name": "Python 3",
   "language": "python",
   "name": "python3"
  },
  "language_info": {
   "codemirror_mode": {
    "name": "ipython",
    "version": 3
   },
   "file_extension": ".py",
   "mimetype": "text/x-python",
   "name": "python",
   "nbconvert_exporter": "python",
   "pygments_lexer": "ipython3",
   "version": "3.8.3"
  }
 },
 "nbformat": 4,
 "nbformat_minor": 4
}
