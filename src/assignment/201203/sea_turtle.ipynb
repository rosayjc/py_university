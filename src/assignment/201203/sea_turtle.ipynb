{
 "cells": [
  {
   "cell_type": "code",
   "execution_count": 1,
   "metadata": {},
   "outputs": [],
   "source": [
    "import pandas as pd\n",
    "import numpy as np\n",
    "import matplotlib.pyplot as plt"
   ]
  },
  {
   "cell_type": "code",
   "execution_count": 4,
   "metadata": {},
   "outputs": [],
   "source": [
    "df=pd.read_csv(\"./sea_turtle.csv\")"
   ]
  },
  {
   "cell_type": "code",
   "execution_count": 5,
   "metadata": {},
   "outputs": [
    {
     "data": {
      "text/html": [
       "<div>\n",
       "<style scoped>\n",
       "    .dataframe tbody tr th:only-of-type {\n",
       "        vertical-align: middle;\n",
       "    }\n",
       "\n",
       "    .dataframe tbody tr th {\n",
       "        vertical-align: top;\n",
       "    }\n",
       "\n",
       "    .dataframe thead th {\n",
       "        text-align: right;\n",
       "    }\n",
       "</style>\n",
       "<table border=\"1\" class=\"dataframe\">\n",
       "  <thead>\n",
       "    <tr style=\"text-align: right;\">\n",
       "      <th></th>\n",
       "      <th>Temp</th>\n",
       "      <th>Sex</th>\n",
       "      <th>Treat</th>\n",
       "    </tr>\n",
       "  </thead>\n",
       "  <tbody>\n",
       "    <tr>\n",
       "      <td>count</td>\n",
       "      <td>741.000000</td>\n",
       "      <td>741.000000</td>\n",
       "      <td>741.000000</td>\n",
       "    </tr>\n",
       "    <tr>\n",
       "      <td>mean</td>\n",
       "      <td>29.740592</td>\n",
       "      <td>0.572200</td>\n",
       "      <td>29.678812</td>\n",
       "    </tr>\n",
       "    <tr>\n",
       "      <td>std</td>\n",
       "      <td>1.532020</td>\n",
       "      <td>0.495094</td>\n",
       "      <td>1.504748</td>\n",
       "    </tr>\n",
       "    <tr>\n",
       "      <td>min</td>\n",
       "      <td>26.660389</td>\n",
       "      <td>0.000000</td>\n",
       "      <td>27.000000</td>\n",
       "    </tr>\n",
       "    <tr>\n",
       "      <td>25%</td>\n",
       "      <td>28.572000</td>\n",
       "      <td>0.000000</td>\n",
       "      <td>29.000000</td>\n",
       "    </tr>\n",
       "    <tr>\n",
       "      <td>50%</td>\n",
       "      <td>29.305000</td>\n",
       "      <td>1.000000</td>\n",
       "      <td>29.000000</td>\n",
       "    </tr>\n",
       "    <tr>\n",
       "      <td>75%</td>\n",
       "      <td>31.050000</td>\n",
       "      <td>1.000000</td>\n",
       "      <td>31.000000</td>\n",
       "    </tr>\n",
       "    <tr>\n",
       "      <td>max</td>\n",
       "      <td>32.600000</td>\n",
       "      <td>1.000000</td>\n",
       "      <td>33.000000</td>\n",
       "    </tr>\n",
       "  </tbody>\n",
       "</table>\n",
       "</div>"
      ],
      "text/plain": [
       "             Temp         Sex       Treat\n",
       "count  741.000000  741.000000  741.000000\n",
       "mean    29.740592    0.572200   29.678812\n",
       "std      1.532020    0.495094    1.504748\n",
       "min     26.660389    0.000000   27.000000\n",
       "25%     28.572000    0.000000   29.000000\n",
       "50%     29.305000    1.000000   29.000000\n",
       "75%     31.050000    1.000000   31.000000\n",
       "max     32.600000    1.000000   33.000000"
      ]
     },
     "execution_count": 5,
     "metadata": {},
     "output_type": "execute_result"
    }
   ],
   "source": [
    "df.describe()"
   ]
  },
  {
   "cell_type": "code",
   "execution_count": 6,
   "metadata": {},
   "outputs": [
    {
     "data": {
      "text/html": [
       "<div>\n",
       "<style scoped>\n",
       "    .dataframe tbody tr th:only-of-type {\n",
       "        vertical-align: middle;\n",
       "    }\n",
       "\n",
       "    .dataframe tbody tr th {\n",
       "        vertical-align: top;\n",
       "    }\n",
       "\n",
       "    .dataframe thead th {\n",
       "        text-align: right;\n",
       "    }\n",
       "</style>\n",
       "<table border=\"1\" class=\"dataframe\">\n",
       "  <thead>\n",
       "    <tr style=\"text-align: right;\">\n",
       "      <th></th>\n",
       "      <th>ID</th>\n",
       "      <th>Population</th>\n",
       "      <th>Species</th>\n",
       "      <th>Temp</th>\n",
       "      <th>Sex</th>\n",
       "      <th>Mother</th>\n",
       "      <th>Box</th>\n",
       "      <th>Treat</th>\n",
       "    </tr>\n",
       "  </thead>\n",
       "  <tbody>\n",
       "    <tr>\n",
       "      <td>0</td>\n",
       "      <td>LI1C</td>\n",
       "      <td>LI</td>\n",
       "      <td>cm</td>\n",
       "      <td>29.036</td>\n",
       "      <td>0</td>\n",
       "      <td>LIC</td>\n",
       "      <td>LI1</td>\n",
       "      <td>29</td>\n",
       "    </tr>\n",
       "    <tr>\n",
       "      <td>1</td>\n",
       "      <td>LI1E</td>\n",
       "      <td>LI</td>\n",
       "      <td>cm</td>\n",
       "      <td>29.036</td>\n",
       "      <td>0</td>\n",
       "      <td>LIE</td>\n",
       "      <td>LI1</td>\n",
       "      <td>29</td>\n",
       "    </tr>\n",
       "    <tr>\n",
       "      <td>2</td>\n",
       "      <td>LI1B</td>\n",
       "      <td>LI</td>\n",
       "      <td>cm</td>\n",
       "      <td>29.036</td>\n",
       "      <td>1</td>\n",
       "      <td>LIB</td>\n",
       "      <td>LI1</td>\n",
       "      <td>29</td>\n",
       "    </tr>\n",
       "    <tr>\n",
       "      <td>3</td>\n",
       "      <td>LI1D</td>\n",
       "      <td>LI</td>\n",
       "      <td>cm</td>\n",
       "      <td>29.036</td>\n",
       "      <td>0</td>\n",
       "      <td>LID</td>\n",
       "      <td>LI1</td>\n",
       "      <td>29</td>\n",
       "    </tr>\n",
       "    <tr>\n",
       "      <td>4</td>\n",
       "      <td>LI1I</td>\n",
       "      <td>LI</td>\n",
       "      <td>cm</td>\n",
       "      <td>29.036</td>\n",
       "      <td>1</td>\n",
       "      <td>LII</td>\n",
       "      <td>LI1</td>\n",
       "      <td>29</td>\n",
       "    </tr>\n",
       "  </tbody>\n",
       "</table>\n",
       "</div>"
      ],
      "text/plain": [
       "     ID Population Species    Temp  Sex Mother  Box  Treat\n",
       "0  LI1C         LI      cm  29.036    0    LIC  LI1     29\n",
       "1  LI1E         LI      cm  29.036    0    LIE  LI1     29\n",
       "2  LI1B         LI      cm  29.036    1    LIB  LI1     29\n",
       "3  LI1D         LI      cm  29.036    0    LID  LI1     29\n",
       "4  LI1I         LI      cm  29.036    1    LII  LI1     29"
      ]
     },
     "execution_count": 6,
     "metadata": {},
     "output_type": "execute_result"
    }
   ],
   "source": [
    "df.head()"
   ]
  },
  {
   "cell_type": "code",
   "execution_count": 8,
   "metadata": {},
   "outputs": [],
   "source": [
    "temp=df[\"Temp\"].values\n",
    "sex=df[\"Sex\"].values"
   ]
  },
  {
   "cell_type": "code",
   "execution_count": 32,
   "metadata": {},
   "outputs": [
    {
     "name": "stdout",
     "output_type": "stream",
     "text": [
      "coefficient: [[-0.29210731]]\n",
      "intercept: [8.93852677]\n",
      "correct rate: 0.805668016194332\n"
     ]
    },
    {
     "name": "stderr",
     "output_type": "stream",
     "text": [
      "C:\\ProgramData\\Anaconda3\\lib\\site-packages\\sklearn\\linear_model\\logistic.py:432: FutureWarning: Default solver will be changed to 'lbfgs' in 0.22. Specify a solver to silence this warning.\n",
      "  FutureWarning)\n"
     ]
    }
   ],
   "source": [
    "from sklearn.linear_model import LogisticRegression\n",
    "model = LogisticRegression()# modelを作って\n",
    "model.fit(temp.reshape(-1,1),sex)# fitする\n",
    "#fit()には、(n行1列)の行列を入れる\n",
    "print(\"coefficient:\",model.coef_) # coeficient  y=ax+bのa\n",
    "print(\"intercept:\",model.intercept_) #intercept, 切片\n",
    "print(\"correct rate:\",model.score(temp.reshape(-1,1),sex))\n",
    "# score()で予測の良さを返します。logisticRegression()のモデルでは正答率です。\n",
    "predicted=model.predict([[20],[30],[31],[35],[40]])\n",
    "# predict()で性別の予測値を返します\n",
    "y=model.predict_proba(np.arange(20,40).reshape(-1,1))\n",
    "# predict_proba()で割合の予測値を返します"
   ]
  },
  {
   "cell_type": "code",
   "execution_count": 38,
   "metadata": {},
   "outputs": [
    {
     "data": {
      "text/plain": [
       "Text(0.5, 0, 'temprature')"
      ]
     },
     "execution_count": 38,
     "metadata": {},
     "output_type": "execute_result"
    },
    {
     "data": {
      "image/png": "[encoded data removed]",
      "text/plain": [
       "<Figure size 432x288 with 1 Axes>"
      ]
     },
     "metadata": {
      "needs_background": "light"
     },
     "output_type": "display_data"
    }
   ],
   "source": [
    "plt.plot(np.arange(20,40),y[:,0])\n",
    "plt.ylabel(\"female rate\")\n",
    "plt.xlabel(\"temprature\")"
   ]
  },
  {
   "cell_type": "code",
   "execution_count": null,
   "metadata": {},
   "outputs": [],
   "source": []
  }
 ],
 "metadata": {
  "kernelspec": {
   "display_name": "Python 3",
   "language": "python",
   "name": "python3"
  },
  "language_info": {
   "codemirror_mode": {
    "name": "ipython",
    "version": 3
   },
   "file_extension": ".py",
   "mimetype": "text/x-python",
   "name": "python",
   "nbconvert_exporter": "python",
   "pygments_lexer": "ipython3",
   "version": "3.7.4"
  }
 },
 "nbformat": 4,
 "nbformat_minor": 2
}
