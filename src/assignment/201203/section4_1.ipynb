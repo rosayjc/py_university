{
 "cells": [
  {
   "cell_type": "code",
   "execution_count": 1,
   "metadata": {},
   "outputs": [],
   "source": [
    "import pandas as pd\n",
    "import numpy as np\n",
    "import matplotlib.pyplot as plt"
   ]
  },
  {
   "cell_type": "code",
   "execution_count": 2,
   "metadata": {},
   "outputs": [],
   "source": [
    "df=pd.read_csv(\"./baseball2019.csv\",index_col=0)"
   ]
  },
  {
   "cell_type": "code",
   "execution_count": 3,
   "metadata": {},
   "outputs": [
    {
     "data": {
      "text/html": [
       "<div>\n",
       "<style scoped>\n",
       "    .dataframe tbody tr th:only-of-type {\n",
       "        vertical-align: middle;\n",
       "    }\n",
       "\n",
       "    .dataframe tbody tr th {\n",
       "        vertical-align: top;\n",
       "    }\n",
       "\n",
       "    .dataframe thead th {\n",
       "        text-align: right;\n",
       "    }\n",
       "</style>\n",
       "<table border=\"1\" class=\"dataframe\">\n",
       "  <thead>\n",
       "    <tr style=\"text-align: right;\">\n",
       "      <th></th>\n",
       "      <th>チーム</th>\n",
       "      <th>打率</th>\n",
       "      <th>打席</th>\n",
       "      <th>安打数</th>\n",
       "      <th>ホームラン</th>\n",
       "      <th>打点</th>\n",
       "      <th>三振</th>\n",
       "      <th>盗塁</th>\n",
       "      <th>年齢</th>\n",
       "      <th>勤続年数</th>\n",
       "      <th>推定年俸(万円)</th>\n",
       "    </tr>\n",
       "    <tr>\n",
       "      <th>選手名</th>\n",
       "      <th></th>\n",
       "      <th></th>\n",
       "      <th></th>\n",
       "      <th></th>\n",
       "      <th></th>\n",
       "      <th></th>\n",
       "      <th></th>\n",
       "      <th></th>\n",
       "      <th></th>\n",
       "      <th></th>\n",
       "      <th></th>\n",
       "    </tr>\n",
       "  </thead>\n",
       "  <tbody>\n",
       "    <tr>\n",
       "      <td>鈴木 誠也</td>\n",
       "      <td>広島</td>\n",
       "      <td>0.3350</td>\n",
       "      <td>612</td>\n",
       "      <td>167</td>\n",
       "      <td>28</td>\n",
       "      <td>87</td>\n",
       "      <td>81</td>\n",
       "      <td>25</td>\n",
       "      <td>25</td>\n",
       "      <td>8</td>\n",
       "      <td>28000</td>\n",
       "    </tr>\n",
       "    <tr>\n",
       "      <td>ビシエド</td>\n",
       "      <td>中日</td>\n",
       "      <td>0.3150</td>\n",
       "      <td>594</td>\n",
       "      <td>168</td>\n",
       "      <td>18</td>\n",
       "      <td>93</td>\n",
       "      <td>88</td>\n",
       "      <td>2</td>\n",
       "      <td>30</td>\n",
       "      <td>5</td>\n",
       "      <td>30000</td>\n",
       "    </tr>\n",
       "    <tr>\n",
       "      <td>糸井 嘉男</td>\n",
       "      <td>阪神</td>\n",
       "      <td>0.3140</td>\n",
       "      <td>444</td>\n",
       "      <td>120</td>\n",
       "      <td>5</td>\n",
       "      <td>42</td>\n",
       "      <td>63</td>\n",
       "      <td>9</td>\n",
       "      <td>38</td>\n",
       "      <td>17</td>\n",
       "      <td>40000</td>\n",
       "    </tr>\n",
       "    <tr>\n",
       "      <td>大島 洋平</td>\n",
       "      <td>中日</td>\n",
       "      <td>0.3118</td>\n",
       "      <td>623</td>\n",
       "      <td>174</td>\n",
       "      <td>3</td>\n",
       "      <td>45</td>\n",
       "      <td>78</td>\n",
       "      <td>30</td>\n",
       "      <td>33</td>\n",
       "      <td>11</td>\n",
       "      <td>25000</td>\n",
       "    </tr>\n",
       "    <tr>\n",
       "      <td>坂本 勇人</td>\n",
       "      <td>巨人</td>\n",
       "      <td>0.3117</td>\n",
       "      <td>639</td>\n",
       "      <td>173</td>\n",
       "      <td>40</td>\n",
       "      <td>94</td>\n",
       "      <td>123</td>\n",
       "      <td>5</td>\n",
       "      <td>30</td>\n",
       "      <td>14</td>\n",
       "      <td>50000</td>\n",
       "    </tr>\n",
       "  </tbody>\n",
       "</table>\n",
       "</div>"
      ],
      "text/plain": [
       "      チーム      打率   打席  安打数  ホームラン  打点   三振  盗塁  年齢  勤続年数  推定年俸(万円)\n",
       "選手名                                                                \n",
       "鈴木 誠也  広島  0.3350  612  167     28  87   81  25  25     8     28000\n",
       "ビシエド   中日  0.3150  594  168     18  93   88   2  30     5     30000\n",
       "糸井 嘉男  阪神  0.3140  444  120      5  42   63   9  38    17     40000\n",
       "大島 洋平  中日  0.3118  623  174      3  45   78  30  33    11     25000\n",
       "坂本 勇人  巨人  0.3117  639  173     40  94  123   5  30    14     50000"
      ]
     },
     "execution_count": 3,
     "metadata": {},
     "output_type": "execute_result"
    }
   ],
   "source": [
    "df.head()"
   ]
  },
  {
   "cell_type": "code",
   "execution_count": 4,
   "metadata": {
    "scrolled": true
   },
   "outputs": [
    {
     "data": {
      "text/html": [
       "<div>\n",
       "<style scoped>\n",
       "    .dataframe tbody tr th:only-of-type {\n",
       "        vertical-align: middle;\n",
       "    }\n",
       "\n",
       "    .dataframe tbody tr th {\n",
       "        vertical-align: top;\n",
       "    }\n",
       "\n",
       "    .dataframe thead th {\n",
       "        text-align: right;\n",
       "    }\n",
       "</style>\n",
       "<table border=\"1\" class=\"dataframe\">\n",
       "  <thead>\n",
       "    <tr style=\"text-align: right;\">\n",
       "      <th></th>\n",
       "      <th>打率</th>\n",
       "      <th>打席</th>\n",
       "      <th>安打数</th>\n",
       "      <th>ホームラン</th>\n",
       "      <th>打点</th>\n",
       "      <th>三振</th>\n",
       "      <th>盗塁</th>\n",
       "      <th>年齢</th>\n",
       "      <th>勤続年数</th>\n",
       "      <th>推定年俸(万円)</th>\n",
       "    </tr>\n",
       "  </thead>\n",
       "  <tbody>\n",
       "    <tr>\n",
       "      <td>count</td>\n",
       "      <td>28.000000</td>\n",
       "      <td>28.000000</td>\n",
       "      <td>28.000000</td>\n",
       "      <td>28.000000</td>\n",
       "      <td>28.000000</td>\n",
       "      <td>28.000000</td>\n",
       "      <td>28.000000</td>\n",
       "      <td>28.000000</td>\n",
       "      <td>28.000000</td>\n",
       "      <td>28.000000</td>\n",
       "    </tr>\n",
       "    <tr>\n",
       "      <td>mean</td>\n",
       "      <td>0.278929</td>\n",
       "      <td>553.178571</td>\n",
       "      <td>136.035714</td>\n",
       "      <td>16.285714</td>\n",
       "      <td>64.678571</td>\n",
       "      <td>92.750000</td>\n",
       "      <td>9.250000</td>\n",
       "      <td>28.892857</td>\n",
       "      <td>8.714286</td>\n",
       "      <td>18221.428571</td>\n",
       "    </tr>\n",
       "    <tr>\n",
       "      <td>std</td>\n",
       "      <td>0.025125</td>\n",
       "      <td>69.624418</td>\n",
       "      <td>20.996441</td>\n",
       "      <td>12.516233</td>\n",
       "      <td>22.607854</td>\n",
       "      <td>28.694592</td>\n",
       "      <td>10.383837</td>\n",
       "      <td>4.708851</td>\n",
       "      <td>4.744253</td>\n",
       "      <td>14647.091916</td>\n",
       "    </tr>\n",
       "    <tr>\n",
       "      <td>min</td>\n",
       "      <td>0.231000</td>\n",
       "      <td>444.000000</td>\n",
       "      <td>100.000000</td>\n",
       "      <td>0.000000</td>\n",
       "      <td>35.000000</td>\n",
       "      <td>35.000000</td>\n",
       "      <td>0.000000</td>\n",
       "      <td>19.000000</td>\n",
       "      <td>2.000000</td>\n",
       "      <td>3000.000000</td>\n",
       "    </tr>\n",
       "    <tr>\n",
       "      <td>25%</td>\n",
       "      <td>0.265750</td>\n",
       "      <td>488.500000</td>\n",
       "      <td>121.500000</td>\n",
       "      <td>6.750000</td>\n",
       "      <td>45.000000</td>\n",
       "      <td>74.250000</td>\n",
       "      <td>2.000000</td>\n",
       "      <td>25.000000</td>\n",
       "      <td>4.750000</td>\n",
       "      <td>6300.000000</td>\n",
       "    </tr>\n",
       "    <tr>\n",
       "      <td>50%</td>\n",
       "      <td>0.275000</td>\n",
       "      <td>579.000000</td>\n",
       "      <td>132.000000</td>\n",
       "      <td>13.000000</td>\n",
       "      <td>59.000000</td>\n",
       "      <td>85.500000</td>\n",
       "      <td>5.000000</td>\n",
       "      <td>29.000000</td>\n",
       "      <td>8.000000</td>\n",
       "      <td>12500.000000</td>\n",
       "    </tr>\n",
       "    <tr>\n",
       "      <td>75%</td>\n",
       "      <td>0.293875</td>\n",
       "      <td>613.750000</td>\n",
       "      <td>149.250000</td>\n",
       "      <td>27.250000</td>\n",
       "      <td>87.500000</td>\n",
       "      <td>107.750000</td>\n",
       "      <td>14.000000</td>\n",
       "      <td>31.000000</td>\n",
       "      <td>12.250000</td>\n",
       "      <td>28500.000000</td>\n",
       "    </tr>\n",
       "    <tr>\n",
       "      <td>max</td>\n",
       "      <td>0.335000</td>\n",
       "      <td>641.000000</td>\n",
       "      <td>174.000000</td>\n",
       "      <td>43.000000</td>\n",
       "      <td>108.000000</td>\n",
       "      <td>184.000000</td>\n",
       "      <td>36.000000</td>\n",
       "      <td>38.000000</td>\n",
       "      <td>18.000000</td>\n",
       "      <td>50000.000000</td>\n",
       "    </tr>\n",
       "  </tbody>\n",
       "</table>\n",
       "</div>"
      ],
      "text/plain": [
       "              打率          打席         安打数      ホームラン          打点          三振  \\\n",
       "count  28.000000   28.000000   28.000000  28.000000   28.000000   28.000000   \n",
       "mean    0.278929  553.178571  136.035714  16.285714   64.678571   92.750000   \n",
       "std     0.025125   69.624418   20.996441  12.516233   22.607854   28.694592   \n",
       "min     0.231000  444.000000  100.000000   0.000000   35.000000   35.000000   \n",
       "25%     0.265750  488.500000  121.500000   6.750000   45.000000   74.250000   \n",
       "50%     0.275000  579.000000  132.000000  13.000000   59.000000   85.500000   \n",
       "75%     0.293875  613.750000  149.250000  27.250000   87.500000  107.750000   \n",
       "max     0.335000  641.000000  174.000000  43.000000  108.000000  184.000000   \n",
       "\n",
       "              盗塁         年齢       勤続年数      推定年俸(万円)  \n",
       "count  28.000000  28.000000  28.000000     28.000000  \n",
       "mean    9.250000  28.892857   8.714286  18221.428571  \n",
       "std    10.383837   4.708851   4.744253  14647.091916  \n",
       "min     0.000000  19.000000   2.000000   3000.000000  \n",
       "25%     2.000000  25.000000   4.750000   6300.000000  \n",
       "50%     5.000000  29.000000   8.000000  12500.000000  \n",
       "75%    14.000000  31.000000  12.250000  28500.000000  \n",
       "max    36.000000  38.000000  18.000000  50000.000000  "
      ]
     },
     "execution_count": 4,
     "metadata": {},
     "output_type": "execute_result"
    }
   ],
   "source": [
    "df.describe()"
   ]
  },
  {
   "cell_type": "code",
   "execution_count": 5,
   "metadata": {},
   "outputs": [
    {
     "data": {
      "text/plain": [
       "28"
      ]
     },
     "execution_count": 5,
     "metadata": {},
     "output_type": "execute_result"
    }
   ],
   "source": [
    "df.loc[\"鈴木 誠也\",\"ホームラン\"]"
   ]
  },
  {
   "cell_type": "code",
   "execution_count": 6,
   "metadata": {},
   "outputs": [],
   "source": [
    "s=df[\"ホームラン\"]"
   ]
  },
  {
   "cell_type": "code",
   "execution_count": 9,
   "metadata": {},
   "outputs": [],
   "source": [
    "S1=df[\"ホームラン\"] \n",
    "S2=df[\"打率\"]\n",
    "#S1, S2はシリーズ\n",
    "S3=S1+10*S2 #簡単な計算もできる\n"
   ]
  },
  {
   "cell_type": "code",
   "execution_count": 10,
   "metadata": {
    "scrolled": true
   },
   "outputs": [
    {
     "data": {
      "text/plain": [
       "17.84"
      ]
     },
     "execution_count": 10,
     "metadata": {},
     "output_type": "execute_result"
    }
   ],
   "source": [
    "S3[\"宮﨑 敏郎\"]"
   ]
  },
  {
   "cell_type": "code",
   "execution_count": 11,
   "metadata": {},
   "outputs": [],
   "source": [
    "team=df.iloc[:,0].values #0~10列をdataに\n",
    "data=df.iloc[:,1:10].values\n",
    "\n"
   ]
  },
  {
   "cell_type": "code",
   "execution_count": 12,
   "metadata": {},
   "outputs": [
    {
     "data": {
      "text/plain": [
       "array([[3.350e-01, 6.120e+02, 1.670e+02, 2.800e+01, 8.700e+01, 8.100e+01,\n",
       "        2.500e+01, 2.500e+01, 8.000e+00],\n",
       "       [3.150e-01, 5.940e+02, 1.680e+02, 1.800e+01, 9.300e+01, 8.800e+01,\n",
       "        2.000e+00, 3.000e+01, 5.000e+00],\n",
       "       [3.140e-01, 4.440e+02, 1.200e+02, 5.000e+00, 4.200e+01, 6.300e+01,\n",
       "        9.000e+00, 3.800e+01, 1.700e+01],\n",
       "       [3.118e-01, 6.230e+02, 1.740e+02, 3.000e+00, 4.500e+01, 7.800e+01,\n",
       "        3.000e+01, 3.300e+01, 1.100e+01],\n",
       "       [3.117e-01, 6.390e+02, 1.730e+02, 4.000e+01, 9.400e+01, 1.230e+02,\n",
       "        5.000e+00, 3.000e+01, 1.400e+01],\n",
       "       [2.971e-01, 5.850e+02, 1.590e+02, 1.600e+01, 6.400e+01, 8.100e+01,\n",
       "        6.000e+00, 2.400e+01, 5.000e+00],\n",
       "       [2.965e-01, 5.650e+02, 1.450e+02, 1.600e+01, 5.800e+01, 7.200e+01,\n",
       "        1.000e+00, 3.700e+01, 1.100e+01],\n",
       "       [2.930e-01, 4.710e+02, 1.260e+02, 7.000e+00, 5.900e+01, 7.000e+01,\n",
       "        3.000e+00, 2.500e+01, 9.000e+00],\n",
       "       [2.920e-01, 6.310e+02, 1.560e+02, 2.700e+01, 8.900e+01, 1.250e+02,\n",
       "        1.200e+01, 3.000e+01, 1.300e+01],\n",
       "       [2.910e-01, 4.840e+02, 1.300e+02, 7.000e+00, 5.900e+01, 8.200e+01,\n",
       "        1.000e+00, 2.900e+01, 5.000e+00],\n",
       "       [2.844e-01, 5.030e+02, 1.280e+02, 1.300e+01, 5.500e+01, 9.100e+01,\n",
       "        9.000e+00, 3.700e+01, 1.600e+01],\n",
       "       [2.840e-01, 4.730e+02, 1.230e+02, 1.500e+01, 4.900e+01, 3.500e+01,\n",
       "        0.000e+00, 3.000e+01, 8.000e+00],\n",
       "       [2.790e-01, 4.580e+02, 1.190e+02, 6.000e+00, 3.500e+01, 1.210e+02,\n",
       "        1.500e+01, 2.500e+01, 3.000e+00],\n",
       "       [2.770e-01, 4.470e+02, 1.040e+02, 1.200e+01, 6.300e+01, 8.100e+01,\n",
       "        2.000e+00, 3.100e+01, 1.400e+01],\n",
       "       [2.730e-01, 4.930e+02, 1.220e+02, 1.200e+01, 5.600e+01, 7.100e+01,\n",
       "        4.000e+00, 3.500e+01, 1.800e+01],\n",
       "       [2.713e-01, 6.400e+02, 1.590e+02, 9.000e+00, 4.200e+01, 1.100e+02,\n",
       "        3.600e+01, 2.400e+01, 2.000e+00],\n",
       "       [2.711e-01, 6.410e+02, 1.410e+02, 3.500e+01, 9.800e+01, 1.210e+02,\n",
       "        3.300e+01, 2.700e+01, 1.000e+01],\n",
       "       [2.693e-01, 5.840e+02, 1.390e+02, 4.300e+01, 1.080e+02, 9.800e+01,\n",
       "        0.000e+00, 3.000e+01, 3.000e+00],\n",
       "       [2.688e-01, 4.500e+02, 1.000e+02, 5.000e+00, 3.600e+01, 6.400e+01,\n",
       "        1.000e+00, 2.900e+01, 1.200e+01],\n",
       "       [2.670e-01, 5.720e+02, 1.310e+02, 2.000e+00, 4.500e+01, 7.000e+01,\n",
       "        6.000e+00, 2.600e+01, 4.000e+00],\n",
       "       [2.660e-01, 4.920e+02, 1.150e+02, 9.000e+00, 5.900e+01, 8.300e+01,\n",
       "        1.400e+01, 2.800e+01, 7.000e+00],\n",
       "       [2.650e-01, 6.280e+02, 1.470e+02, 3.100e+01, 9.400e+01, 1.320e+02,\n",
       "        3.000e+00, 2.300e+01, 6.000e+00],\n",
       "       [2.610e-01, 6.190e+02, 1.430e+02, 1.300e+01, 4.800e+01, 1.020e+02,\n",
       "        1.400e+01, 2.900e+01, 9.000e+00],\n",
       "       [2.580e-01, 5.870e+02, 1.390e+02, 1.400e+01, 7.600e+01, 9.800e+01,\n",
       "        3.000e+00, 2.400e+01, 4.000e+00],\n",
       "       [2.490e-01, 5.740e+02, 1.260e+02, 3.000e+00, 4.000e+01, 9.100e+01,\n",
       "        1.700e+01, 2.500e+01, 4.000e+00],\n",
       "       [2.410e-01, 5.970e+02, 1.330e+02, 3.100e+01, 8.400e+01, 1.070e+02,\n",
       "        0.000e+00, 3.500e+01, 8.000e+00],\n",
       "       [2.370e-01, 4.900e+02, 1.040e+02, 0.000e+00, 3.700e+01, 7.500e+01,\n",
       "        3.000e+00, 3.100e+01, 1.500e+01],\n",
       "       [2.310e-01, 5.930e+02, 1.180e+02, 3.600e+01, 9.600e+01, 1.840e+02,\n",
       "        5.000e+00, 1.900e+01, 3.000e+00]])"
      ]
     },
     "execution_count": 12,
     "metadata": {},
     "output_type": "execute_result"
    }
   ],
   "source": [
    "data"
   ]
  },
  {
   "cell_type": "code",
   "execution_count": 13,
   "metadata": {},
   "outputs": [],
   "source": [
    "salary=df.iloc[:,10].values"
   ]
  },
  {
   "cell_type": "code",
   "execution_count": 242,
   "metadata": {},
   "outputs": [],
   "source": [
    "idx=df.index.values\n",
    "col=df.columns.values\n",
    "col=col[1:10].copy()"
   ]
  },
  {
   "cell_type": "code",
   "execution_count": 243,
   "metadata": {},
   "outputs": [
    {
     "data": {
      "text/plain": [
       "array(['打率', '打席', '安打数', 'ホームラン', '打点', '三振', '盗塁', '年齢', '勤続年数'],\n",
       "      dtype=object)"
      ]
     },
     "execution_count": 243,
     "metadata": {},
     "output_type": "execute_result"
    }
   ],
   "source": [
    "col"
   ]
  },
  {
   "cell_type": "code",
   "execution_count": 94,
   "metadata": {},
   "outputs": [],
   "source": [
    "import matplotlib.pyplot as plt"
   ]
  },
  {
   "cell_type": "code",
   "execution_count": 244,
   "metadata": {},
   "outputs": [
    {
     "data": {
      "image/png": "[encoded data removed]",
      "text/plain": [
       "<Figure size 360x360 with 1 Axes>"
      ]
     },
     "metadata": {
      "needs_background": "light"
     },
     "output_type": "display_data"
    }
   ],
   "source": [
    "plt.figure(figsize=(5,5)) #図の領域の設定をします。figsizeは領域の広さで、単位はインチです。\n",
    "plt.hist(data[:,0]) # hist()はヒストグラムを書きます。\n",
    "plt.title(col[0]) #残念ながら、日本語は文字化けします\n",
    "plt.ylabel(\"Frequency\")\n",
    "plt.xlabel(\"ave\")\n",
    "plt.show()"
   ]
  },
  {
   "cell_type": "code",
   "execution_count": 15,
   "metadata": {},
   "outputs": [
    {
     "data": {
      "image/png": "[encoded data removed]",
      "text/plain": [
       "<Figure size 360x360 with 1 Axes>"
      ]
     },
     "metadata": {
      "needs_background": "light"
     },
     "output_type": "display_data"
    }
   ],
   "source": [
    "#columnの英語化。これは手で書かないと仕方ない\n",
    "col_e=[\"Ave\",\"at-bat\",\"HIT\",\"HOMERUN\",\"RBI\",\"Swing-Out\",\"steal\",\"age\",\"working years\"]\n",
    "\n",
    "plt.figure(figsize=(5,5)) \n",
    "# binsで階級の数、range=(min, max)で範囲を明示的に与えることができます。\n",
    "# colorは色をRGBで、alphaは透明度です。\n",
    "plt.hist(data[:,0],bins=8,range=(np.min(data[:,0]),np.max(data[:,0])),color=[1,0,0],alpha=0.5) \n",
    "\n",
    "plt.ylabel(\"Frequency\",Fontsize=12) #フォントの大きさを設定\n",
    "plt.xlabel(col_e[0],Fontsize=12)\n",
    "plt.show()"
   ]
  },
  {
   "cell_type": "code",
   "execution_count": 246,
   "metadata": {},
   "outputs": [
    {
     "data": {
      "image/png": "[encoded data removed]",
      "text/plain": [
       "<Figure size 1080x1080 with 9 Axes>"
      ]
     },
     "metadata": {
      "needs_background": "light"
     },
     "output_type": "display_data"
    }
   ],
   "source": [
    "plt.figure(figsize=(15,15))\n",
    "for i in range(len(col_e)):\n",
    "    plt.subplot(3,3,i+1)\n",
    "    plt.hist(data[:,i])\n",
    "    plt.xlabel(col_e[i])"
   ]
  },
  {
   "cell_type": "code",
   "execution_count": 247,
   "metadata": {
    "scrolled": false
   },
   "outputs": [
    {
     "data": {
      "text/plain": [
       "Text(0.5, 0, 'HIT')"
      ]
     },
     "execution_count": 247,
     "metadata": {},
     "output_type": "execute_result"
    },
    {
     "data": {
      "image/png": "[encoded data removed]",
      "text/plain": [
       "<Figure size 432x288 with 3 Axes>"
      ]
     },
     "metadata": {
      "needs_background": "light"
     },
     "output_type": "display_data"
    }
   ],
   "source": [
    "plt.subplot(2,2,1)\n",
    "plt.hist(data[:,0])\n",
    "plt.xlabel(col_e[0])\n",
    "\n",
    "plt.subplot(2,2,2)\n",
    "plt.hist(data[:,1])\n",
    "plt.xlabel(col_e[1])\n",
    "\n",
    "plt.subplot(2,1,2)\n",
    "plt.hist(data[:,2])\n",
    "plt.xlabel(col_e[2])"
   ]
  },
  {
   "cell_type": "code",
   "execution_count": 248,
   "metadata": {},
   "outputs": [
    {
     "data": {
      "image/png": "[encoded data removed]",
      "text/plain": [
       "<Figure size 360x360 with 1 Axes>"
      ]
     },
     "metadata": {
      "needs_background": "light"
     },
     "output_type": "display_data"
    }
   ],
   "source": [
    "plt.figure(figsize=(5,5))\n",
    "plt.hist(salary[team==\"巨人\"],alpha=0.5,label=\"G\")\n",
    "plt.hist(salary[team==\"阪神\"],alpha=0.5,label=\"T\")\n",
    "plt.hist(salary[team==\"広島\"],alpha=0.5,label=\"C\")\n",
    "plt.legend()\n",
    "plt.show()"
   ]
  },
  {
   "cell_type": "code",
   "execution_count": 249,
   "metadata": {
    "scrolled": true
   },
   "outputs": [
    {
     "data": {
      "text/plain": [
       "[<matplotlib.lines.Line2D at 0x26c7b4b3d88>]"
      ]
     },
     "execution_count": 249,
     "metadata": {},
     "output_type": "execute_result"
    },
    {
     "data": {
      "image/png": "[encoded data removed]",
      "text/plain": [
       "<Figure size 864x360 with 2 Axes>"
      ]
     },
     "metadata": {
      "needs_background": "light"
     },
     "output_type": "display_data"
    }
   ],
   "source": [
    "plt.figure(figsize=(12,5))\n",
    "name=[\"巨人\",\"阪神\",\"広島\",\"中日\", \"ヤクルト\", \"DeNA\"]\n",
    "name_e=[\"Giants\",\"Tigers\",\"Carp\",\"Dragons\",\"Swallows\",\"Baystars\"]\n",
    "M=[np.mean(salary[team==name[i]]) for i in range(6)]\n",
    "\n",
    "plt.subplot(1,2,1)\n",
    "plt.bar(name_e,M,color=[0,0,1])\n",
    "plt.ylabel(\"Salary\")\n",
    "\n",
    "plt.subplot(1,2,2)\n",
    "plt.plot(name_e,M,color=[0,0,1])"
   ]
  },
  {
   "cell_type": "code",
   "execution_count": 167,
   "metadata": {},
   "outputs": [
    {
     "data": {
      "text/plain": [
       "[30000.0, 13040.0, 20700.0, 14080.0, 21500.0, 12860.0]"
      ]
     },
     "execution_count": 167,
     "metadata": {},
     "output_type": "execute_result"
    }
   ],
   "source": [
    "M"
   ]
  },
  {
   "cell_type": "code",
   "execution_count": 250,
   "metadata": {
    "scrolled": true
   },
   "outputs": [
    {
     "data": {
      "text/plain": [
       "Text(0, 0.5, 'salary')"
      ]
     },
     "execution_count": 250,
     "metadata": {},
     "output_type": "execute_result"
    },
    {
     "data": {
      "image/png": "[encoded data removed]",
      "text/plain": [
       "<Figure size 432x288 with 1 Axes>"
      ]
     },
     "metadata": {
      "needs_background": "light"
     },
     "output_type": "display_data"
    }
   ],
   "source": [
    "plt.scatter(data[:,0],salary,s=130,c=\"red\")\n",
    "plt.xlabel(\"average\")\n",
    "plt.ylabel(\"salary\")"
   ]
  },
  {
   "cell_type": "code",
   "execution_count": 17,
   "metadata": {},
   "outputs": [
    {
     "name": "stdout",
     "output_type": "stream",
     "text": [
      "0.49014890282406826\n"
     ]
    }
   ],
   "source": [
    "r=np.corrcoef(data[:,0],salary)\n",
    "print(r[0,1])"
   ]
  },
  {
   "cell_type": "code",
   "execution_count": 267,
   "metadata": {
    "scrolled": true
   },
   "outputs": [
    {
     "data": {
      "text/plain": [
       "Text(0.5, 1.0, 'r= 0.490')"
      ]
     },
     "execution_count": 267,
     "metadata": {},
     "output_type": "execute_result"
    },
    {
     "data": {
      "image/png": "[encoded data removed]",
      "text/plain": [
       "<Figure size 432x288 with 1 Axes>"
      ]
     },
     "metadata": {
      "needs_background": "light"
     },
     "output_type": "display_data"
    }
   ],
   "source": [
    "beta=np.polyfit(data[:,0],salary,1)\n",
    "\n",
    "#linspace(min,max,n)はminからmaxまでをn-1等分する等差数列を作ります。\n",
    "#例えば、np.linspace(2,20,4)は[2,8,14,20]を返します。\n",
    "x=np.linspace(np.min(data[:,0]),np.max(data[:,0]),100)\n",
    "y=beta[0]*x+beta[1] #numpy配列はこういう計算ができるんでした。\n",
    "\n",
    "plt.scatter(data[:,0],salary,s=130,c=\"red\")\n",
    "plt.plot(x,y)\n",
    "plt.xlabel(\"average\")\n",
    "plt.ylabel(\"salary\")\n",
    "\n",
    "#ついでに相関係数\n",
    "r=np.corrcoef(data[:,0],salary)\n",
    "plt.title(\"r= \"+str(format(r[0,1],\".3f\")))"
   ]
  },
  {
   "cell_type": "code",
   "execution_count": 268,
   "metadata": {},
   "outputs": [
    {
     "data": {
      "text/plain": [
       "array([285735.95724755, -61478.49378941])"
      ]
     },
     "execution_count": 268,
     "metadata": {},
     "output_type": "execute_result"
    }
   ],
   "source": [
    "beta"
   ]
  },
  {
   "cell_type": "code",
   "execution_count": null,
   "metadata": {},
   "outputs": [],
   "source": []
  }
 ],
 "metadata": {
  "kernelspec": {
   "display_name": "Python 3",
   "language": "python",
   "name": "python3"
  },
  "language_info": {
   "codemirror_mode": {
    "name": "ipython",
    "version": 3
   },
   "file_extension": ".py",
   "mimetype": "text/x-python",
   "name": "python",
   "nbconvert_exporter": "python",
   "pygments_lexer": "ipython3",
   "version": "3.7.4"
  }
 },
 "nbformat": 4,
 "nbformat_minor": 2
}
