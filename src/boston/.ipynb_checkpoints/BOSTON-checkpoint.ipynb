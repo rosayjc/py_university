{
 "cells": [
  {
   "cell_type": "code",
   "execution_count": 1,
   "metadata": {},
   "outputs": [],
   "source": [
    "import pandas as pd\n",
    "import numpy as np\n",
    "import matplotlib.pyplot as plt"
   ]
  },
  {
   "cell_type": "code",
   "execution_count": 5,
   "metadata": {},
   "outputs": [],
   "source": [
    "df=pd.read_csv(\"./train.csv\",index_col=0)"
   ]
  },
  {
   "cell_type": "code",
   "execution_count": 6,
   "metadata": {},
   "outputs": [
    {
     "data": {
      "text/html": [
       "<div>\n",
       "<style scoped>\n",
       "    .dataframe tbody tr th:only-of-type {\n",
       "        vertical-align: middle;\n",
       "    }\n",
       "\n",
       "    .dataframe tbody tr th {\n",
       "        vertical-align: top;\n",
       "    }\n",
       "\n",
       "    .dataframe thead th {\n",
       "        text-align: right;\n",
       "    }\n",
       "</style>\n",
       "<table border=\"1\" class=\"dataframe\">\n",
       "  <thead>\n",
       "    <tr style=\"text-align: right;\">\n",
       "      <th></th>\n",
       "      <th>CRIM</th>\n",
       "      <th>ZN</th>\n",
       "      <th>INDUS</th>\n",
       "      <th>CHAS</th>\n",
       "      <th>NOX</th>\n",
       "      <th>RM</th>\n",
       "      <th>AGE</th>\n",
       "      <th>DIS</th>\n",
       "      <th>RAD</th>\n",
       "      <th>TAX</th>\n",
       "      <th>PTRATIO</th>\n",
       "      <th>B</th>\n",
       "      <th>LSTAT</th>\n",
       "      <th>MEDV</th>\n",
       "    </tr>\n",
       "    <tr>\n",
       "      <th>ID</th>\n",
       "      <th></th>\n",
       "      <th></th>\n",
       "      <th></th>\n",
       "      <th></th>\n",
       "      <th></th>\n",
       "      <th></th>\n",
       "      <th></th>\n",
       "      <th></th>\n",
       "      <th></th>\n",
       "      <th></th>\n",
       "      <th></th>\n",
       "      <th></th>\n",
       "      <th></th>\n",
       "      <th></th>\n",
       "    </tr>\n",
       "  </thead>\n",
       "  <tbody>\n",
       "    <tr>\n",
       "      <td>328</td>\n",
       "      <td>0.24103</td>\n",
       "      <td>0.0</td>\n",
       "      <td>7.38</td>\n",
       "      <td>0.0</td>\n",
       "      <td>0.493</td>\n",
       "      <td>6.083</td>\n",
       "      <td>43.7</td>\n",
       "      <td>5.4159</td>\n",
       "      <td>5</td>\n",
       "      <td>287.0</td>\n",
       "      <td>19.6</td>\n",
       "      <td>12.79</td>\n",
       "      <td>22.2</td>\n",
       "      <td>396.90</td>\n",
       "    </tr>\n",
       "    <tr>\n",
       "      <td>458</td>\n",
       "      <td>8.20058</td>\n",
       "      <td>0.0</td>\n",
       "      <td>18.10</td>\n",
       "      <td>0.0</td>\n",
       "      <td>0.713</td>\n",
       "      <td>5.936</td>\n",
       "      <td>80.3</td>\n",
       "      <td>2.7792</td>\n",
       "      <td>24</td>\n",
       "      <td>666.0</td>\n",
       "      <td>20.2</td>\n",
       "      <td>16.94</td>\n",
       "      <td>13.5</td>\n",
       "      <td>3.50</td>\n",
       "    </tr>\n",
       "    <tr>\n",
       "      <td>6</td>\n",
       "      <td>0.02985</td>\n",
       "      <td>0.0</td>\n",
       "      <td>2.18</td>\n",
       "      <td>0.0</td>\n",
       "      <td>0.458</td>\n",
       "      <td>6.430</td>\n",
       "      <td>58.7</td>\n",
       "      <td>6.0622</td>\n",
       "      <td>3</td>\n",
       "      <td>222.0</td>\n",
       "      <td>18.7</td>\n",
       "      <td>5.21</td>\n",
       "      <td>28.7</td>\n",
       "      <td>394.12</td>\n",
       "    </tr>\n",
       "    <tr>\n",
       "      <td>329</td>\n",
       "      <td>0.06617</td>\n",
       "      <td>0.0</td>\n",
       "      <td>3.24</td>\n",
       "      <td>0.0</td>\n",
       "      <td>0.460</td>\n",
       "      <td>5.868</td>\n",
       "      <td>25.8</td>\n",
       "      <td>5.2146</td>\n",
       "      <td>4</td>\n",
       "      <td>430.0</td>\n",
       "      <td>16.9</td>\n",
       "      <td>9.97</td>\n",
       "      <td>19.3</td>\n",
       "      <td>382.44</td>\n",
       "    </tr>\n",
       "    <tr>\n",
       "      <td>61</td>\n",
       "      <td>0.14932</td>\n",
       "      <td>25.0</td>\n",
       "      <td>5.13</td>\n",
       "      <td>0.0</td>\n",
       "      <td>0.453</td>\n",
       "      <td>5.741</td>\n",
       "      <td>66.2</td>\n",
       "      <td>7.2254</td>\n",
       "      <td>8</td>\n",
       "      <td>284.0</td>\n",
       "      <td>19.7</td>\n",
       "      <td>13.15</td>\n",
       "      <td>18.7</td>\n",
       "      <td>395.11</td>\n",
       "    </tr>\n",
       "  </tbody>\n",
       "</table>\n",
       "</div>"
      ],
      "text/plain": [
       "        CRIM    ZN  INDUS  CHAS    NOX     RM   AGE     DIS  RAD    TAX  \\\n",
       "ID                                                                        \n",
       "328  0.24103   0.0   7.38   0.0  0.493  6.083  43.7  5.4159    5  287.0   \n",
       "458  8.20058   0.0  18.10   0.0  0.713  5.936  80.3  2.7792   24  666.0   \n",
       "6    0.02985   0.0   2.18   0.0  0.458  6.430  58.7  6.0622    3  222.0   \n",
       "329  0.06617   0.0   3.24   0.0  0.460  5.868  25.8  5.2146    4  430.0   \n",
       "61   0.14932  25.0   5.13   0.0  0.453  5.741  66.2  7.2254    8  284.0   \n",
       "\n",
       "     PTRATIO      B  LSTAT    MEDV  \n",
       "ID                                  \n",
       "328     19.6  12.79   22.2  396.90  \n",
       "458     20.2  16.94   13.5    3.50  \n",
       "6       18.7   5.21   28.7  394.12  \n",
       "329     16.9   9.97   19.3  382.44  \n",
       "61      19.7  13.15   18.7  395.11  "
      ]
     },
     "execution_count": 6,
     "metadata": {},
     "output_type": "execute_result"
    }
   ],
   "source": [
    "df.head()"
   ]
  },
  {
   "cell_type": "code",
   "execution_count": 223,
   "metadata": {},
   "outputs": [
    {
     "data": {
      "text/html": [
       "<div>\n",
       "<style scoped>\n",
       "    .dataframe tbody tr th:only-of-type {\n",
       "        vertical-align: middle;\n",
       "    }\n",
       "\n",
       "    .dataframe tbody tr th {\n",
       "        vertical-align: top;\n",
       "    }\n",
       "\n",
       "    .dataframe thead th {\n",
       "        text-align: right;\n",
       "    }\n",
       "</style>\n",
       "<table border=\"1\" class=\"dataframe\">\n",
       "  <thead>\n",
       "    <tr style=\"text-align: right;\">\n",
       "      <th></th>\n",
       "      <th>CRIM</th>\n",
       "      <th>ZN</th>\n",
       "      <th>INDUS</th>\n",
       "      <th>CHAS</th>\n",
       "      <th>NOX</th>\n",
       "      <th>RM</th>\n",
       "      <th>AGE</th>\n",
       "      <th>DIS</th>\n",
       "      <th>RAD</th>\n",
       "      <th>TAX</th>\n",
       "      <th>PTRATIO</th>\n",
       "      <th>B</th>\n",
       "      <th>LSTAT</th>\n",
       "      <th>MEDV</th>\n",
       "    </tr>\n",
       "  </thead>\n",
       "  <tbody>\n",
       "    <tr>\n",
       "      <td>count</td>\n",
       "      <td>250.000000</td>\n",
       "      <td>250.000000</td>\n",
       "      <td>250.000000</td>\n",
       "      <td>250.000000</td>\n",
       "      <td>250.000000</td>\n",
       "      <td>250.000000</td>\n",
       "      <td>250.000000</td>\n",
       "      <td>250.000000</td>\n",
       "      <td>250.00000</td>\n",
       "      <td>250.000000</td>\n",
       "      <td>250.000000</td>\n",
       "      <td>250.000000</td>\n",
       "      <td>230.000000</td>\n",
       "      <td>250.000000</td>\n",
       "    </tr>\n",
       "    <tr>\n",
       "      <td>mean</td>\n",
       "      <td>1.209792</td>\n",
       "      <td>13.056000</td>\n",
       "      <td>9.059040</td>\n",
       "      <td>0.105112</td>\n",
       "      <td>0.955923</td>\n",
       "      <td>13.397716</td>\n",
       "      <td>59.882927</td>\n",
       "      <td>5.657884</td>\n",
       "      <td>60.30800</td>\n",
       "      <td>345.012000</td>\n",
       "      <td>38.526560</td>\n",
       "      <td>11.399640</td>\n",
       "      <td>23.723913</td>\n",
       "      <td>343.302160</td>\n",
       "    </tr>\n",
       "    <tr>\n",
       "      <td>std</td>\n",
       "      <td>2.363649</td>\n",
       "      <td>22.515761</td>\n",
       "      <td>6.914615</td>\n",
       "      <td>0.277001</td>\n",
       "      <td>1.439184</td>\n",
       "      <td>24.057131</td>\n",
       "      <td>31.834176</td>\n",
       "      <td>5.774066</td>\n",
       "      <td>179.10957</td>\n",
       "      <td>170.971941</td>\n",
       "      <td>81.300054</td>\n",
       "      <td>5.985838</td>\n",
       "      <td>8.500983</td>\n",
       "      <td>116.777081</td>\n",
       "    </tr>\n",
       "    <tr>\n",
       "      <td>min</td>\n",
       "      <td>0.000000</td>\n",
       "      <td>0.000000</td>\n",
       "      <td>0.000000</td>\n",
       "      <td>0.000000</td>\n",
       "      <td>0.385000</td>\n",
       "      <td>3.561000</td>\n",
       "      <td>1.137000</td>\n",
       "      <td>1.202400</td>\n",
       "      <td>1.00000</td>\n",
       "      <td>20.200000</td>\n",
       "      <td>2.600000</td>\n",
       "      <td>1.920000</td>\n",
       "      <td>11.000000</td>\n",
       "      <td>0.320000</td>\n",
       "    </tr>\n",
       "    <tr>\n",
       "      <td>25%</td>\n",
       "      <td>0.051378</td>\n",
       "      <td>0.000000</td>\n",
       "      <td>3.675000</td>\n",
       "      <td>0.000000</td>\n",
       "      <td>0.448000</td>\n",
       "      <td>5.925000</td>\n",
       "      <td>33.575000</td>\n",
       "      <td>2.421700</td>\n",
       "      <td>4.00000</td>\n",
       "      <td>264.000000</td>\n",
       "      <td>17.400000</td>\n",
       "      <td>6.875000</td>\n",
       "      <td>18.700000</td>\n",
       "      <td>376.247500</td>\n",
       "    </tr>\n",
       "    <tr>\n",
       "      <td>50%</td>\n",
       "      <td>0.140775</td>\n",
       "      <td>0.000000</td>\n",
       "      <td>6.910000</td>\n",
       "      <td>0.000000</td>\n",
       "      <td>0.520000</td>\n",
       "      <td>6.313500</td>\n",
       "      <td>65.200000</td>\n",
       "      <td>3.866050</td>\n",
       "      <td>5.00000</td>\n",
       "      <td>307.000000</td>\n",
       "      <td>18.900000</td>\n",
       "      <td>10.280000</td>\n",
       "      <td>21.750000</td>\n",
       "      <td>391.305000</td>\n",
       "    </tr>\n",
       "    <tr>\n",
       "      <td>75%</td>\n",
       "      <td>0.657123</td>\n",
       "      <td>20.000000</td>\n",
       "      <td>17.335000</td>\n",
       "      <td>0.000000</td>\n",
       "      <td>0.624000</td>\n",
       "      <td>6.857250</td>\n",
       "      <td>88.500000</td>\n",
       "      <td>6.219600</td>\n",
       "      <td>8.00000</td>\n",
       "      <td>403.000000</td>\n",
       "      <td>20.200000</td>\n",
       "      <td>14.767500</td>\n",
       "      <td>27.400000</td>\n",
       "      <td>395.630000</td>\n",
       "    </tr>\n",
       "    <tr>\n",
       "      <td>max</td>\n",
       "      <td>9.966540</td>\n",
       "      <td>100.000000</td>\n",
       "      <td>27.740000</td>\n",
       "      <td>1.000000</td>\n",
       "      <td>6.833000</td>\n",
       "      <td>100.000000</td>\n",
       "      <td>100.000000</td>\n",
       "      <td>24.000000</td>\n",
       "      <td>666.00000</td>\n",
       "      <td>711.000000</td>\n",
       "      <td>396.900000</td>\n",
       "      <td>30.810000</td>\n",
       "      <td>50.000000</td>\n",
       "      <td>396.900000</td>\n",
       "    </tr>\n",
       "  </tbody>\n",
       "</table>\n",
       "</div>"
      ],
      "text/plain": [
       "             CRIM          ZN       INDUS        CHAS         NOX          RM  \\\n",
       "count  250.000000  250.000000  250.000000  250.000000  250.000000  250.000000   \n",
       "mean     1.209792   13.056000    9.059040    0.105112    0.955923   13.397716   \n",
       "std      2.363649   22.515761    6.914615    0.277001    1.439184   24.057131   \n",
       "min      0.000000    0.000000    0.000000    0.000000    0.385000    3.561000   \n",
       "25%      0.051378    0.000000    3.675000    0.000000    0.448000    5.925000   \n",
       "50%      0.140775    0.000000    6.910000    0.000000    0.520000    6.313500   \n",
       "75%      0.657123   20.000000   17.335000    0.000000    0.624000    6.857250   \n",
       "max      9.966540  100.000000   27.740000    1.000000    6.833000  100.000000   \n",
       "\n",
       "              AGE         DIS        RAD         TAX     PTRATIO           B  \\\n",
       "count  250.000000  250.000000  250.00000  250.000000  250.000000  250.000000   \n",
       "mean    59.882927    5.657884   60.30800  345.012000   38.526560   11.399640   \n",
       "std     31.834176    5.774066  179.10957  170.971941   81.300054    5.985838   \n",
       "min      1.137000    1.202400    1.00000   20.200000    2.600000    1.920000   \n",
       "25%     33.575000    2.421700    4.00000  264.000000   17.400000    6.875000   \n",
       "50%     65.200000    3.866050    5.00000  307.000000   18.900000   10.280000   \n",
       "75%     88.500000    6.219600    8.00000  403.000000   20.200000   14.767500   \n",
       "max    100.000000   24.000000  666.00000  711.000000  396.900000   30.810000   \n",
       "\n",
       "            LSTAT        MEDV  \n",
       "count  230.000000  250.000000  \n",
       "mean    23.723913  343.302160  \n",
       "std      8.500983  116.777081  \n",
       "min     11.000000    0.320000  \n",
       "25%     18.700000  376.247500  \n",
       "50%     21.750000  391.305000  \n",
       "75%     27.400000  395.630000  \n",
       "max     50.000000  396.900000  "
      ]
     },
     "execution_count": 223,
     "metadata": {},
     "output_type": "execute_result"
    }
   ],
   "source": [
    "df.describe()"
   ]
  },
  {
   "cell_type": "code",
   "execution_count": 8,
   "metadata": {},
   "outputs": [
    {
     "data": {
      "text/plain": [
       "CRIM        0\n",
       "ZN          0\n",
       "INDUS       0\n",
       "CHAS        0\n",
       "NOX         0\n",
       "RM          0\n",
       "AGE         0\n",
       "DIS         0\n",
       "RAD         0\n",
       "TAX         0\n",
       "PTRATIO     0\n",
       "B           0\n",
       "LSTAT      20\n",
       "MEDV        0\n",
       "dtype: int64"
      ]
     },
     "execution_count": 8,
     "metadata": {},
     "output_type": "execute_result"
    }
   ],
   "source": [
    "df.isnull().sum()"
   ]
  },
  {
   "cell_type": "code",
   "execution_count": 19,
   "metadata": {},
   "outputs": [],
   "source": [
    "y=df[\"MEDV\"].values\n",
    "x=df.iloc[:,0:12].values"
   ]
  },
  {
   "cell_type": "code",
   "execution_count": 54,
   "metadata": {},
   "outputs": [
    {
     "data": {
      "text/plain": [
       "(array([ 25.,   1.,   2.,   0.,   2.,   2.,   0.,   4.,  12., 202.]),\n",
       " array([3.20000e-01, 3.99780e+01, 7.96360e+01, 1.19294e+02, 1.58952e+02,\n",
       "        1.98610e+02, 2.38268e+02, 2.77926e+02, 3.17584e+02, 3.57242e+02,\n",
       "        3.96900e+02]),\n",
       " <a list of 10 Patch objects>)"
      ]
     },
     "execution_count": 54,
     "metadata": {},
     "output_type": "execute_result"
    },
    {
     "data": {
      "image/png": "[encoded data removed]",
      "text/plain": [
       "<Figure size 432x288 with 1 Axes>"
      ]
     },
     "metadata": {
      "needs_background": "light"
     },
     "output_type": "display_data"
    }
   ],
   "source": [
    "plt.hist(y)"
   ]
  },
  {
   "cell_type": "code",
   "execution_count": 22,
   "metadata": {},
   "outputs": [
    {
     "data": {
      "image/png": "[encoded data removed]",
      "text/plain": [
       "<Figure size 1080x1080 with 12 Axes>"
      ]
     },
     "metadata": {
      "needs_background": "light"
     },
     "output_type": "display_data"
    }
   ],
   "source": [
    "name=df.columns.values\n",
    "plt.figure(figsize=(15,15))\n",
    "for i in range(12):\n",
    "    plt.subplot(3,4,i+1)\n",
    "    plt.hist(x[:,i])\n",
    "    plt.title(name[i])"
   ]
  },
  {
   "cell_type": "code",
   "execution_count": 24,
   "metadata": {},
   "outputs": [
    {
     "data": {
      "image/png": "[encoded data removed]",
      "text/plain": [
       "<Figure size 1080x864 with 12 Axes>"
      ]
     },
     "metadata": {
      "needs_background": "light"
     },
     "output_type": "display_data"
    }
   ],
   "source": [
    "name=df.columns.values\n",
    "plt.figure(figsize=(15,12))\n",
    "for i in range(12):\n",
    "    plt.subplot(3,4,i+1)\n",
    "    plt.scatter(x[:,i],y)\n",
    "    plt.xlabel(name[i])\n",
    "    "
   ]
  },
  {
   "cell_type": "code",
   "execution_count": 199,
   "metadata": {},
   "outputs": [
    {
     "name": "stdout",
     "output_type": "stream",
     "text": [
      "0.7323629517832196\n"
     ]
    },
    {
     "data": {
      "text/plain": [
       "Text(0.5, 0, 'prediction')"
      ]
     },
     "execution_count": 199,
     "metadata": {},
     "output_type": "execute_result"
    },
    {
     "data": {
      "image/png": "[encoded data removed]",
      "text/plain": [
       "<Figure size 360x360 with 1 Axes>"
      ]
     },
     "metadata": {
      "needs_background": "light"
     },
     "output_type": "display_data"
    }
   ],
   "source": [
    "from sklearn.linear_model import LinearRegression\n",
    "from sklearn.linear_model import Lasso\n",
    "\n",
    "model=LinearRegression()\n",
    "#model = Lasso()\n",
    "model.fit(x,y)\n",
    "\n",
    "#print(model.coef_) \n",
    "#print(model.intercept_)\n",
    "print(model.score(x,y))\n",
    "\n",
    "ybar=model.predict(x)# predict()で予測値を返します\n",
    "\n",
    "plt.figure(figsize=(5,5))\n",
    "plt.scatter(ybar,y)\n",
    "plt.ylabel(\"actual\")\n",
    "plt.xlabel(\"prediction\")\n"
   ]
  },
  {
   "cell_type": "code",
   "execution_count": 262,
   "metadata": {},
   "outputs": [
    {
     "name": "stdout",
     "output_type": "stream",
     "text": [
      "train: 0.7826253845901174\n",
      "test: 0.5752835559227335\n"
     ]
    }
   ],
   "source": [
    "from sklearn.linear_model import LinearRegression\n",
    "from sklearn.model_selection import train_test_split\n",
    "\n",
    "x_train, x_test,y_train,y_test=train_test_split(x,y,random_state=0)\n",
    "\n",
    "model=LinearRegression()\n",
    "model.fit(x_train,y_train) #学習用データで学習\n",
    "\n",
    "#print(model.coef_) \n",
    "#print(model.intercept_)\n",
    "print(\"train:\",model.score(x_train,y_train)) #学習用データでのスコア\n",
    "print(\"test:\",model.score(x_test,y_test)) #検証用データでのスコア\n"
   ]
  },
  {
   "cell_type": "code",
   "execution_count": 279,
   "metadata": {},
   "outputs": [
    {
     "name": "stdout",
     "output_type": "stream",
     "text": [
      "train: 0.8713769123504431\n",
      "test: 0.5531223531356395\n"
     ]
    }
   ],
   "source": [
    "from sklearn.neighbors import KNeighborsRegressor\n",
    "from sklearn.model_selection import train_test_split\n",
    "\n",
    "x_train, x_test,y_train,y_test=train_test_split(x,y,random_state=0)\n",
    "\n",
    "model=KNeighborsRegressor(5) #kにあたる値を指定します\n",
    "model.fit(x_train,y_train) #学習用データで学習\n",
    "\n",
    "print(\"train:\",model.score(x_train,y_train)) #学習用データでのスコア\n",
    "print(\"test:\",model.score(x_test,y_test)) #検証用データでのスコア\n"
   ]
  }
 ],
 "metadata": {
  "kernelspec": {
   "display_name": "Python 3",
   "language": "python",
   "name": "python3"
  },
  "language_info": {
   "codemirror_mode": {
    "name": "ipython",
    "version": 3
   },
   "file_extension": ".py",
   "mimetype": "text/x-python",
   "name": "python",
   "nbconvert_exporter": "python",
   "pygments_lexer": "ipython3",
   "version": "3.7.4"
  }
 },
 "nbformat": 4,
 "nbformat_minor": 2
}
